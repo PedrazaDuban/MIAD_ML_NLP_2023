{
 "cells": [
  {
   "cell_type": "markdown",
   "metadata": {
    "id": "fygLkG9CxvKd"
   },
   "source": [
    "![image info](https://raw.githubusercontent.com/davidzarruk/MIAD_ML_NLP_2023/main/images/banner_1.png)"
   ]
  },
  {
   "cell_type": "markdown",
   "metadata": {
    "id": "WB0zM98XxvKl"
   },
   "source": [
    "# Proyecto 1 - Predicción de precios de vehículos usados\n",
    "\n",
    "En este proyecto podrán poner en práctica sus conocimientos sobre modelos predictivos basados en árboles y ensambles, y sobre la disponibilización de modelos. Para su desasrrollo tengan en cuenta las instrucciones dadas en la \"Guía del proyecto 1: Predicción de precios de vehículos usados\".\n",
    "\n",
    "**Entrega**: La entrega del proyecto deberán realizarla durante la semana 4. Sin embargo, es importante que avancen en la semana 3 en el modelado del problema y en parte del informe, tal y como se les indicó en la guía.\n",
    "\n",
    "Para hacer la entrega, deberán adjuntar el informe autocontenido en PDF a la actividad de entrega del proyecto que encontrarán en la semana 4, y subir el archivo de predicciones a la [competencia de Kaggle](https://www.kaggle.com/t/b8be43cf89c540bfaf3831f2c8506614)."
   ]
  },
  {
   "cell_type": "markdown",
   "metadata": {
    "id": "bAFBjwbhxvKn"
   },
   "source": [
    "## Datos para la predicción de precios de vehículos usados\n",
    "\n",
    "En este proyecto se usará el conjunto de datos de Car Listings de Kaggle, donde cada observación representa el precio de un automóvil teniendo en cuenta distintas variables como: año, marca, modelo, entre otras. El objetivo es predecir el precio del automóvil. Para más detalles puede visitar el siguiente enlace: [datos](https://www.kaggle.com/jpayne/852k-used-car-listings)."
   ]
  },
  {
   "cell_type": "markdown",
   "metadata": {
    "id": "Ygu0gbs5xvKo"
   },
   "source": [
    "## Ejemplo predicción conjunto de test para envío a Kaggle\n",
    "\n",
    "En esta sección encontrarán el formato en el que deben guardar los resultados de la predicción para que puedan subirlos a la competencia en Kaggle."
   ]
  },
  {
   "cell_type": "code",
   "execution_count": 1,
   "metadata": {
    "id": "yIUtIHPLxvKp"
   },
   "outputs": [],
   "source": [
    "import warnings\n",
    "warnings.filterwarnings('ignore')"
   ]
  },
  {
   "cell_type": "code",
   "execution_count": 2,
   "metadata": {
    "id": "9-47lXNLxvKq"
   },
   "outputs": [],
   "source": [
    "# Importación librerías\n",
    "import pandas as pd\n",
    "import numpy as np\n",
    "from sklearn.preprocessing import LabelEncoder"
   ]
  },
  {
   "cell_type": "code",
   "execution_count": 3,
   "metadata": {
    "id": "KP-xj0i3xvKr"
   },
   "outputs": [],
   "source": [
    "# Carga de datos de archivo .csv\n",
    "dataTraining = pd.read_csv('https://raw.githubusercontent.com/davidzarruk/MIAD_ML_NLP_2023/main/datasets/dataTrain_carListings.zip')\n",
    "dataTesting = pd.read_csv('https://raw.githubusercontent.com/davidzarruk/MIAD_ML_NLP_2023/main/datasets/dataTest_carListings.zip', index_col=0)"
   ]
  },
  {
   "cell_type": "code",
   "execution_count": 4,
   "metadata": {
    "colab": {
     "base_uri": "https://localhost:8080/",
     "height": 206
    },
    "id": "YHoSFdo3xvKs",
    "outputId": "88986f22-a4cc-42fd-e3b2-fd1f7b89e059"
   },
   "outputs": [
    {
     "data": {
      "text/html": [
       "<div>\n",
       "<style scoped>\n",
       "    .dataframe tbody tr th:only-of-type {\n",
       "        vertical-align: middle;\n",
       "    }\n",
       "\n",
       "    .dataframe tbody tr th {\n",
       "        vertical-align: top;\n",
       "    }\n",
       "\n",
       "    .dataframe thead th {\n",
       "        text-align: right;\n",
       "    }\n",
       "</style>\n",
       "<table border=\"1\" class=\"dataframe\">\n",
       "  <thead>\n",
       "    <tr style=\"text-align: right;\">\n",
       "      <th></th>\n",
       "      <th>Price</th>\n",
       "      <th>Year</th>\n",
       "      <th>Mileage</th>\n",
       "      <th>State</th>\n",
       "      <th>Make</th>\n",
       "      <th>Model</th>\n",
       "    </tr>\n",
       "  </thead>\n",
       "  <tbody>\n",
       "    <tr>\n",
       "      <th>0</th>\n",
       "      <td>34995</td>\n",
       "      <td>2017</td>\n",
       "      <td>9913</td>\n",
       "      <td>FL</td>\n",
       "      <td>Jeep</td>\n",
       "      <td>Wrangler</td>\n",
       "    </tr>\n",
       "    <tr>\n",
       "      <th>1</th>\n",
       "      <td>37895</td>\n",
       "      <td>2015</td>\n",
       "      <td>20578</td>\n",
       "      <td>OH</td>\n",
       "      <td>Chevrolet</td>\n",
       "      <td>Tahoe4WD</td>\n",
       "    </tr>\n",
       "    <tr>\n",
       "      <th>2</th>\n",
       "      <td>18430</td>\n",
       "      <td>2012</td>\n",
       "      <td>83716</td>\n",
       "      <td>TX</td>\n",
       "      <td>BMW</td>\n",
       "      <td>X5AWD</td>\n",
       "    </tr>\n",
       "    <tr>\n",
       "      <th>3</th>\n",
       "      <td>24681</td>\n",
       "      <td>2014</td>\n",
       "      <td>28729</td>\n",
       "      <td>OH</td>\n",
       "      <td>Cadillac</td>\n",
       "      <td>SRXLuxury</td>\n",
       "    </tr>\n",
       "    <tr>\n",
       "      <th>4</th>\n",
       "      <td>26998</td>\n",
       "      <td>2013</td>\n",
       "      <td>64032</td>\n",
       "      <td>CO</td>\n",
       "      <td>Jeep</td>\n",
       "      <td>Wrangler</td>\n",
       "    </tr>\n",
       "  </tbody>\n",
       "</table>\n",
       "</div>"
      ],
      "text/plain": [
       "   Price  Year  Mileage State       Make      Model\n",
       "0  34995  2017     9913    FL       Jeep   Wrangler\n",
       "1  37895  2015    20578    OH  Chevrolet   Tahoe4WD\n",
       "2  18430  2012    83716    TX        BMW      X5AWD\n",
       "3  24681  2014    28729    OH   Cadillac  SRXLuxury\n",
       "4  26998  2013    64032    CO       Jeep   Wrangler"
      ]
     },
     "execution_count": 4,
     "metadata": {},
     "output_type": "execute_result"
    }
   ],
   "source": [
    "# Visualización datos de entrenamiento\n",
    "dataTraining.head()\n"
   ]
  },
  {
   "cell_type": "code",
   "execution_count": 25,
   "metadata": {},
   "outputs": [
    {
     "data": {
      "text/html": [
       "<div>\n",
       "<style scoped>\n",
       "    .dataframe tbody tr th:only-of-type {\n",
       "        vertical-align: middle;\n",
       "    }\n",
       "\n",
       "    .dataframe tbody tr th {\n",
       "        vertical-align: top;\n",
       "    }\n",
       "\n",
       "    .dataframe thead th {\n",
       "        text-align: right;\n",
       "    }\n",
       "</style>\n",
       "<table border=\"1\" class=\"dataframe\">\n",
       "  <thead>\n",
       "    <tr style=\"text-align: right;\">\n",
       "      <th></th>\n",
       "      <th>Price</th>\n",
       "      <th>Year</th>\n",
       "      <th>Mileage</th>\n",
       "      <th>State</th>\n",
       "      <th>Make</th>\n",
       "      <th>Model</th>\n",
       "    </tr>\n",
       "  </thead>\n",
       "  <tbody>\n",
       "    <tr>\n",
       "      <th>count</th>\n",
       "      <td>400000.000000</td>\n",
       "      <td>400000.000000</td>\n",
       "      <td>4.000000e+05</td>\n",
       "      <td>400000.000000</td>\n",
       "      <td>400000.000000</td>\n",
       "      <td>400000.000000</td>\n",
       "    </tr>\n",
       "    <tr>\n",
       "      <th>mean</th>\n",
       "      <td>21146.919312</td>\n",
       "      <td>2013.198125</td>\n",
       "      <td>5.507296e+04</td>\n",
       "      <td>24.034658</td>\n",
       "      <td>15.833530</td>\n",
       "      <td>254.827082</td>\n",
       "    </tr>\n",
       "    <tr>\n",
       "      <th>std</th>\n",
       "      <td>10753.664940</td>\n",
       "      <td>3.292326</td>\n",
       "      <td>4.088102e+04</td>\n",
       "      <td>15.325588</td>\n",
       "      <td>10.299097</td>\n",
       "      <td>148.634414</td>\n",
       "    </tr>\n",
       "    <tr>\n",
       "      <th>min</th>\n",
       "      <td>5001.000000</td>\n",
       "      <td>1997.000000</td>\n",
       "      <td>5.000000e+00</td>\n",
       "      <td>0.000000</td>\n",
       "      <td>0.000000</td>\n",
       "      <td>0.000000</td>\n",
       "    </tr>\n",
       "    <tr>\n",
       "      <th>25%</th>\n",
       "      <td>13499.000000</td>\n",
       "      <td>2012.000000</td>\n",
       "      <td>2.584100e+04</td>\n",
       "      <td>9.000000</td>\n",
       "      <td>8.000000</td>\n",
       "      <td>124.000000</td>\n",
       "    </tr>\n",
       "    <tr>\n",
       "      <th>50%</th>\n",
       "      <td>18450.000000</td>\n",
       "      <td>2014.000000</td>\n",
       "      <td>4.295500e+04</td>\n",
       "      <td>24.000000</td>\n",
       "      <td>13.000000</td>\n",
       "      <td>248.000000</td>\n",
       "    </tr>\n",
       "    <tr>\n",
       "      <th>75%</th>\n",
       "      <td>26999.000000</td>\n",
       "      <td>2016.000000</td>\n",
       "      <td>7.743300e+04</td>\n",
       "      <td>39.000000</td>\n",
       "      <td>20.000000</td>\n",
       "      <td>404.000000</td>\n",
       "    </tr>\n",
       "    <tr>\n",
       "      <th>max</th>\n",
       "      <td>79999.000000</td>\n",
       "      <td>2018.000000</td>\n",
       "      <td>2.457832e+06</td>\n",
       "      <td>50.000000</td>\n",
       "      <td>37.000000</td>\n",
       "      <td>524.000000</td>\n",
       "    </tr>\n",
       "  </tbody>\n",
       "</table>\n",
       "</div>"
      ],
      "text/plain": [
       "               Price           Year       Mileage          State  \\\n",
       "count  400000.000000  400000.000000  4.000000e+05  400000.000000   \n",
       "mean    21146.919312    2013.198125  5.507296e+04      24.034658   \n",
       "std     10753.664940       3.292326  4.088102e+04      15.325588   \n",
       "min      5001.000000    1997.000000  5.000000e+00       0.000000   \n",
       "25%     13499.000000    2012.000000  2.584100e+04       9.000000   \n",
       "50%     18450.000000    2014.000000  4.295500e+04      24.000000   \n",
       "75%     26999.000000    2016.000000  7.743300e+04      39.000000   \n",
       "max     79999.000000    2018.000000  2.457832e+06      50.000000   \n",
       "\n",
       "                Make          Model  \n",
       "count  400000.000000  400000.000000  \n",
       "mean       15.833530     254.827082  \n",
       "std        10.299097     148.634414  \n",
       "min         0.000000       0.000000  \n",
       "25%         8.000000     124.000000  \n",
       "50%        13.000000     248.000000  \n",
       "75%        20.000000     404.000000  \n",
       "max        37.000000     524.000000  "
      ]
     },
     "execution_count": 25,
     "metadata": {},
     "output_type": "execute_result"
    }
   ],
   "source": [
    "dataTraining.describe()"
   ]
  },
  {
   "cell_type": "code",
   "execution_count": 28,
   "metadata": {},
   "outputs": [
    {
     "name": "stdout",
     "output_type": "stream",
     "text": [
      "Year  Mileage  State  Make  Model\n",
      "1997  400      33     29    56       1\n",
      "      3821     47     32    261      1\n",
      "      7145     48     6     81       1\n",
      "      23746    47     29    31       1\n",
      "      29430    24     6     125      1\n",
      "                                    ..\n",
      "2018  11553    1      6     158      1\n",
      "      11592    25     6     158      1\n",
      "      11634    23     6     157      1\n",
      "      14526    35     6     158      1\n",
      "      14645    25     6     157      1\n",
      "Length: 399523, dtype: int64\n"
     ]
    }
   ],
   "source": [
    "# counting the duplicates\n",
    "dups = dataTraining.pivot_table(index = ['Year','Mileage','State','Make','Model'], aggfunc ='size')\n",
    "# displaying the duplicate Series\n",
    "print(dups)\n",
    "\n"
   ]
  },
  {
   "cell_type": "code",
   "execution_count": 29,
   "metadata": {},
   "outputs": [
    {
     "name": "stdout",
     "output_type": "stream",
     "text": [
      "Year  Mileage  State  Make  Model\n",
      "2016  5        4      6     417       6\n",
      "               27     18    324       5\n",
      "      10       44     10    438       5\n",
      "      11       4      18    223       4\n",
      "               9      24    434       3\n",
      "      12       14     10    455       4\n",
      "               47     24    59        3\n",
      "      15       4      6     417       5\n",
      "      36       3      37    393       3\n",
      "      150      31     10    174       3\n",
      "      5000     40     7     6         4\n",
      "2017  5        4      6     417       4\n",
      "      6        45     35    443       3\n",
      "      7        14     35    409       4\n",
      "      8        9      35    89        9\n",
      "      9        43     17    489       4\n",
      "      10       4      18    324       3\n",
      "               38     0     373       4\n",
      "               44     10    182       3\n",
      "                            203       5\n",
      "                            204       3\n",
      "                            217       6\n",
      "                            438      13\n",
      "                            468       9\n",
      "      11       44     10    438       5\n",
      "      12       19     24    58        3\n",
      "      15       3      13    104       3\n",
      "               9      35    123      33\n",
      "               43     32    326       4\n",
      "      30       9      35    123       5\n",
      "      1555     9      19    390       4\n",
      "      21000    9      35    372       3\n",
      "2018  5        5      0     373       5\n",
      "      10       38     0     373       3\n",
      "               44     10    191      14\n",
      "                            192      12\n",
      "                            196       3\n",
      "                            233      10\n",
      "                            468      13\n",
      "               48     35    88        3\n",
      "      11       44     10    192       3\n",
      "dtype: int64\n"
     ]
    }
   ],
   "source": [
    "# Filtrar duplicados que aparecen más de dos veces\n",
    "dups_mask = dups > 2\n",
    "dups_filtered = dups[dups_mask]\n",
    "\n",
    "# Mostrar los duplicados filtrados\n",
    "print(dups_filtered)\n"
   ]
  },
  {
   "cell_type": "code",
   "execution_count": 5,
   "metadata": {
    "colab": {
     "base_uri": "https://localhost:8080/",
     "height": 237
    },
    "id": "LfpjxVZ4xvKu",
    "outputId": "127d248b-76ab-48eb-d8d2-d5aa3aca561a",
    "scrolled": true
   },
   "outputs": [
    {
     "data": {
      "text/html": [
       "<div>\n",
       "<style scoped>\n",
       "    .dataframe tbody tr th:only-of-type {\n",
       "        vertical-align: middle;\n",
       "    }\n",
       "\n",
       "    .dataframe tbody tr th {\n",
       "        vertical-align: top;\n",
       "    }\n",
       "\n",
       "    .dataframe thead th {\n",
       "        text-align: right;\n",
       "    }\n",
       "</style>\n",
       "<table border=\"1\" class=\"dataframe\">\n",
       "  <thead>\n",
       "    <tr style=\"text-align: right;\">\n",
       "      <th></th>\n",
       "      <th>Year</th>\n",
       "      <th>Mileage</th>\n",
       "      <th>State</th>\n",
       "      <th>Make</th>\n",
       "      <th>Model</th>\n",
       "    </tr>\n",
       "    <tr>\n",
       "      <th>ID</th>\n",
       "      <th></th>\n",
       "      <th></th>\n",
       "      <th></th>\n",
       "      <th></th>\n",
       "      <th></th>\n",
       "    </tr>\n",
       "  </thead>\n",
       "  <tbody>\n",
       "    <tr>\n",
       "      <th>0</th>\n",
       "      <td>2014</td>\n",
       "      <td>31909</td>\n",
       "      <td>MD</td>\n",
       "      <td>Nissan</td>\n",
       "      <td>MuranoAWD</td>\n",
       "    </tr>\n",
       "    <tr>\n",
       "      <th>1</th>\n",
       "      <td>2017</td>\n",
       "      <td>5362</td>\n",
       "      <td>FL</td>\n",
       "      <td>Jeep</td>\n",
       "      <td>Wrangler</td>\n",
       "    </tr>\n",
       "    <tr>\n",
       "      <th>2</th>\n",
       "      <td>2014</td>\n",
       "      <td>50300</td>\n",
       "      <td>OH</td>\n",
       "      <td>Ford</td>\n",
       "      <td>FlexLimited</td>\n",
       "    </tr>\n",
       "    <tr>\n",
       "      <th>3</th>\n",
       "      <td>2004</td>\n",
       "      <td>132160</td>\n",
       "      <td>WA</td>\n",
       "      <td>BMW</td>\n",
       "      <td>5</td>\n",
       "    </tr>\n",
       "    <tr>\n",
       "      <th>4</th>\n",
       "      <td>2015</td>\n",
       "      <td>25226</td>\n",
       "      <td>MA</td>\n",
       "      <td>Jeep</td>\n",
       "      <td>Grand</td>\n",
       "    </tr>\n",
       "  </tbody>\n",
       "</table>\n",
       "</div>"
      ],
      "text/plain": [
       "    Year  Mileage State    Make        Model\n",
       "ID                                          \n",
       "0   2014    31909    MD  Nissan    MuranoAWD\n",
       "1   2017     5362    FL    Jeep     Wrangler\n",
       "2   2014    50300    OH    Ford  FlexLimited\n",
       "3   2004   132160    WA     BMW            5\n",
       "4   2015    25226    MA    Jeep        Grand"
      ]
     },
     "execution_count": 5,
     "metadata": {},
     "output_type": "execute_result"
    }
   ],
   "source": [
    "# Visualización datos de test\n",
    "dataTesting.head()"
   ]
  },
  {
   "cell_type": "code",
   "execution_count": 6,
   "metadata": {
    "id": "NoY6xDcrxvKv"
   },
   "outputs": [],
   "source": [
    "# Predicción del conjunto de test - acá se genera un número aleatorio como ejemplo\n",
    "np.random.seed(42)\n",
    "y_pred = pd.DataFrame(np.random.rand(dataTesting.shape[0]) * 75000 + 5000, index=dataTesting.index, columns=['Price'])"
   ]
  },
  {
   "cell_type": "code",
   "execution_count": 7,
   "metadata": {
    "colab": {
     "base_uri": "https://localhost:8080/",
     "height": 237
    },
    "id": "vyDaUgmHxvKv",
    "outputId": "d79430e6-ed66-4b6b-9660-c689b1cb447c",
    "scrolled": true
   },
   "outputs": [
    {
     "data": {
      "text/html": [
       "<div>\n",
       "<style scoped>\n",
       "    .dataframe tbody tr th:only-of-type {\n",
       "        vertical-align: middle;\n",
       "    }\n",
       "\n",
       "    .dataframe tbody tr th {\n",
       "        vertical-align: top;\n",
       "    }\n",
       "\n",
       "    .dataframe thead th {\n",
       "        text-align: right;\n",
       "    }\n",
       "</style>\n",
       "<table border=\"1\" class=\"dataframe\">\n",
       "  <thead>\n",
       "    <tr style=\"text-align: right;\">\n",
       "      <th></th>\n",
       "      <th>Price</th>\n",
       "    </tr>\n",
       "    <tr>\n",
       "      <th>ID</th>\n",
       "      <th></th>\n",
       "    </tr>\n",
       "  </thead>\n",
       "  <tbody>\n",
       "    <tr>\n",
       "      <th>0</th>\n",
       "      <td>33090.508914</td>\n",
       "    </tr>\n",
       "    <tr>\n",
       "      <th>1</th>\n",
       "      <td>76303.572981</td>\n",
       "    </tr>\n",
       "    <tr>\n",
       "      <th>2</th>\n",
       "      <td>59899.545636</td>\n",
       "    </tr>\n",
       "    <tr>\n",
       "      <th>3</th>\n",
       "      <td>49899.386315</td>\n",
       "    </tr>\n",
       "    <tr>\n",
       "      <th>4</th>\n",
       "      <td>16701.398033</td>\n",
       "    </tr>\n",
       "  </tbody>\n",
       "</table>\n",
       "</div>"
      ],
      "text/plain": [
       "           Price\n",
       "ID              \n",
       "0   33090.508914\n",
       "1   76303.572981\n",
       "2   59899.545636\n",
       "3   49899.386315\n",
       "4   16701.398033"
      ]
     },
     "execution_count": 7,
     "metadata": {},
     "output_type": "execute_result"
    }
   ],
   "source": [
    "# Guardar predicciones en formato exigido en la competencia de kaggle\n",
    "y_pred.to_csv('test_submission.csv', index_label='ID')\n",
    "y_pred.head()"
   ]
  },
  {
   "cell_type": "markdown",
   "metadata": {
    "id": "1FDXk01NxvKw"
   },
   "source": [
    "## Preprocesamiento de datos"
   ]
  },
  {
   "cell_type": "markdown",
   "metadata": {},
   "source": []
  },
  {
   "cell_type": "code",
   "execution_count": 8,
   "metadata": {
    "colab": {
     "base_uri": "https://localhost:8080/"
    },
    "id": "sOUWosbsxvKx",
    "outputId": "752aa8b1-3fc0-4016-a5ba-2184bac35b6f"
   },
   "outputs": [
    {
     "data": {
      "text/plain": [
       "array(['Acura', 'Audi', 'BMW', 'Bentley', 'Buick', 'Cadillac',\n",
       "       'Chevrolet', 'Chrysler', 'Dodge', 'FIAT', 'Ford', 'Freightliner',\n",
       "       'GMC', 'Honda', 'Hyundai', 'INFINITI', 'Jaguar', 'Jeep', 'Kia',\n",
       "       'Land', 'Lexus', 'Lincoln', 'MINI', 'Mazda', 'Mercedes-Benz',\n",
       "       'Mercury', 'Mitsubishi', 'Nissan', 'Pontiac', 'Porsche', 'Ram',\n",
       "       'Scion', 'Subaru', 'Suzuki', 'Tesla', 'Toyota', 'Volkswagen',\n",
       "       'Volvo'], dtype=object)"
      ]
     },
     "execution_count": 8,
     "metadata": {},
     "output_type": "execute_result"
    }
   ],
   "source": [
    "dataTraining['Make'].sort_values().unique()"
   ]
  },
  {
   "cell_type": "code",
   "execution_count": 9,
   "metadata": {
    "colab": {
     "base_uri": "https://localhost:8080/"
    },
    "id": "aCu7G5E8xvKy",
    "outputId": "067b3d26-348e-4a81-b2b0-34dd8f960baa",
    "scrolled": true
   },
   "outputs": [
    {
     "data": {
      "text/plain": [
       "array(['1', '15002WD', '15004WD', '1500Laramie', '1500Tradesman', '200LX',\n",
       "       '200Limited', '200S', '200Touring', '25002WD', '25004WD', '3',\n",
       "       '300300C', '300300S', '3004dr', '300Base', '300Limited',\n",
       "       '300Touring', '35004WD', '350Z2dr', '4Runner2WD', '4Runner4WD',\n",
       "       '4Runner4dr', '4RunnerLimited', '4RunnerRWD', '4RunnerSR5',\n",
       "       '4RunnerTrail', '5', '500Pop', '6', '7', '911', '9112dr', 'A34dr',\n",
       "       'A44dr', 'A64dr', 'A8', 'AcadiaAWD', 'AcadiaFWD', 'Accent4dr',\n",
       "       'Accord', 'AccordEX', 'AccordEX-L', 'AccordLX', 'AccordLX-S',\n",
       "       'AccordSE', 'Altima4dr', 'Armada2WD', 'Armada4WD', 'Avalanche2WD',\n",
       "       'Avalanche4WD', 'Avalon4dr', 'AvalonLimited', 'AvalonTouring',\n",
       "       'AvalonXLE', 'Azera4dr', 'Boxster2dr', 'C-Class4dr', 'C-ClassC',\n",
       "       'C-ClassC300', 'C-ClassC350', 'C702dr', 'CC4dr', 'CR-V2WD',\n",
       "       'CR-V4WD', 'CR-VEX', 'CR-VEX-L', 'CR-VLX', 'CR-VSE', 'CR-ZEX',\n",
       "       'CT', 'CTCT', 'CTS', 'CTS-V', 'CTS4dr', 'CX-7FWD', 'CX-9AWD',\n",
       "       'CX-9FWD', 'CX-9Grand', 'CX-9Touring', 'Caliber4dr', 'Camaro2dr',\n",
       "       'CamaroConvertible', 'CamaroCoupe', 'Camry', 'Camry4dr',\n",
       "       'CamryBase', 'CamryL', 'CamryLE', 'CamrySE', 'CamryXLE',\n",
       "       'Canyon2WD', 'Canyon4WD', 'CanyonCrew', 'CanyonExtended',\n",
       "       'CayenneAWD', 'Cayman2dr', 'Challenger2dr', 'ChallengerR/T',\n",
       "       'Charger4dr', 'ChargerSE', 'ChargerSXT', 'CherokeeLimited',\n",
       "       'CherokeeSport', 'Civic', 'CivicEX', 'CivicEX-L', 'CivicLX',\n",
       "       'CivicSi', 'Cobalt2dr', 'Cobalt4dr', 'Colorado2WD', 'Colorado4WD',\n",
       "       'ColoradoCrew', 'ColoradoExtended', 'Compass4WD',\n",
       "       'CompassLatitude', 'CompassLimited', 'CompassSport', 'Continental',\n",
       "       'Cooper', 'Corolla4dr', 'CorollaL', 'CorollaLE', 'CorollaS',\n",
       "       'Corvette2dr', 'CorvetteConvertible', 'CorvetteCoupe', 'CruzeLT',\n",
       "       'CruzeSedan', 'DTS4dr', 'Dakota2WD', 'Dakota4WD', 'Durango2WD',\n",
       "       'Durango4dr', 'DurangoAWD', 'DurangoSXT', 'E-ClassE',\n",
       "       'E-ClassE320', 'E-ClassE350', 'ES', 'ESES', 'Eclipse3dr',\n",
       "       'Econoline', 'EdgeLimited', 'EdgeSE', 'EdgeSEL', 'EdgeSport',\n",
       "       'Elantra', 'Elantra4dr', 'ElantraLimited', 'Element2WD',\n",
       "       'Element4WD', 'EnclaveConvenience', 'EnclaveLeather',\n",
       "       'EnclavePremium', 'Eos2dr', 'EquinoxAWD', 'EquinoxFWD', 'Escalade',\n",
       "       'Escalade2WD', 'Escalade4dr', 'EscaladeAWD', 'Escape4WD',\n",
       "       'Escape4dr', 'EscapeFWD', 'EscapeLImited', 'EscapeLimited',\n",
       "       'EscapeS', 'EscapeSE', 'EscapeXLT', 'Excursion137\"', 'Expedition',\n",
       "       'Expedition2WD', 'Expedition4WD', 'ExpeditionLimited',\n",
       "       'ExpeditionXLT', 'Explorer', 'Explorer4WD', 'Explorer4dr',\n",
       "       'ExplorerBase', 'ExplorerEddie', 'ExplorerFWD', 'ExplorerLimited',\n",
       "       'ExplorerXLT', 'Express', 'F-1502WD', 'F-1504WD', 'F-150FX2',\n",
       "       'F-150FX4', 'F-150King', 'F-150Lariat', 'F-150Limited',\n",
       "       'F-150Platinum', 'F-150STX', 'F-150SuperCrew', 'F-150XL',\n",
       "       'F-150XLT', 'F-250King', 'F-250Lariat', 'F-250XL', 'F-250XLT',\n",
       "       'F-350King', 'F-350Lariat', 'F-350XL', 'F-350XLT', 'FJ', 'FX35AWD',\n",
       "       'FiestaS', 'FiestaSE', 'FitSport', 'FlexLimited', 'FlexSE',\n",
       "       'FlexSEL', 'Focus4dr', 'Focus5dr', 'FocusS', 'FocusSE', 'FocusSEL',\n",
       "       'FocusST', 'FocusTitanium', 'Forester2.5X', 'Forester4dr', 'Forte',\n",
       "       'ForteEX', 'ForteLX', 'ForteSX', 'Frontier', 'Frontier2WD',\n",
       "       'Frontier4WD', 'Fusion4dr', 'FusionHybrid', 'FusionS', 'FusionSE',\n",
       "       'FusionSEL', 'G35', 'G37', 'G64dr', 'GLI4dr', 'GS', 'GSGS',\n",
       "       'GTI2dr', 'GTI4dr', 'GX', 'GXGX', 'Galant4dr', 'Genesis', 'Golf',\n",
       "       'Grand', 'Highlander', 'Highlander4WD', 'Highlander4dr',\n",
       "       'HighlanderBase', 'HighlanderFWD', 'HighlanderLimited',\n",
       "       'HighlanderSE', 'IS', 'ISIS', 'Impala4dr', 'ImpalaLS', 'ImpalaLT',\n",
       "       'Impreza', 'Impreza2.0i', 'ImprezaSport', 'Jetta', 'JourneyAWD',\n",
       "       'JourneyFWD', 'JourneySXT', 'LS', 'LSLS', 'LX', 'LXLX',\n",
       "       'LaCrosse4dr', 'LaCrosseAWD', 'LaCrosseFWD', 'Lancer4dr', 'Land',\n",
       "       'Legacy', 'Legacy2.5i', 'Legacy3.6R', 'Liberty4WD',\n",
       "       'LibertyLimited', 'LibertySport', 'Lucerne4dr', 'M-ClassML350',\n",
       "       'MDX4WD', 'MDXAWD', 'MKXAWD', 'MKXFWD', 'MKZ4dr', 'MX5', 'Malibu',\n",
       "       'Malibu1LT', 'Malibu4dr', 'MalibuLS', 'MalibuLT', 'Matrix5dr',\n",
       "       'Maxima4dr', 'Mazda34dr', 'Mazda35dr', 'Mazda64dr', 'Milan4dr',\n",
       "       'Model', 'Monte', 'Murano2WD', 'MuranoAWD', 'MuranoS',\n",
       "       'Mustang2dr', 'MustangBase', 'MustangDeluxe', 'MustangGT',\n",
       "       'MustangPremium', 'MustangShelby', 'Navigator', 'Navigator2WD',\n",
       "       'Navigator4WD', 'Navigator4dr', 'New', 'OdysseyEX', 'OdysseyEX-L',\n",
       "       'OdysseyLX', 'OdysseyTouring', 'Optima4dr', 'OptimaEX', 'OptimaLX',\n",
       "       'OptimaSX', 'Outback2.5i', 'Outback3.6R', 'Outlander',\n",
       "       'Outlander2WD', 'Outlander4WD', 'PT', 'PacificaLimited',\n",
       "       'PacificaTouring', 'Passat', 'Passat4dr', 'Pathfinder2WD',\n",
       "       'Pathfinder4WD', 'PathfinderS', 'PathfinderSE', 'Patriot4WD',\n",
       "       'PatriotLatitude', 'PatriotLimited', 'PatriotSport', 'Pilot2WD',\n",
       "       'Pilot4WD', 'PilotEX', 'PilotEX-L', 'PilotLX', 'PilotSE',\n",
       "       'PilotTouring', 'Prius', 'Prius5dr', 'PriusBase', 'PriusFive',\n",
       "       'PriusFour', 'PriusOne', 'PriusThree', 'PriusTwo', 'Q5quattro',\n",
       "       'Q7quattro', 'QX562WD', 'QX564WD', 'Quest4dr', 'RAV4', 'RAV44WD',\n",
       "       'RAV44dr', 'RAV4Base', 'RAV4FWD', 'RAV4LE', 'RAV4Limited',\n",
       "       'RAV4Sport', 'RAV4XLE', 'RDXAWD', 'RDXFWD', 'RX', 'RX-84dr',\n",
       "       'RXRX', 'Ram', 'Ranger2WD', 'Ranger4WD', 'RangerSuperCab',\n",
       "       'Regal4dr', 'RegalGS', 'RegalPremium', 'RegalTurbo',\n",
       "       'RidgelineRTL', 'RidgelineSport', 'RioLX', 'RogueFWD', 'Rover',\n",
       "       'S2000Manual', 'S44dr', 'S60T5', 'S804dr', 'SC', 'SL-ClassSL500',\n",
       "       'SLK-ClassSLK350', 'SRXLuxury', 'STS4dr', 'Santa', 'Savana',\n",
       "       'Sedona4dr', 'SedonaEX', 'SedonaLX', 'Sentra4dr', 'Sequoia4WD',\n",
       "       'Sequoia4dr', 'SequoiaLimited', 'SequoiaPlatinum', 'SequoiaSR5',\n",
       "       'Sienna5dr', 'SiennaLE', 'SiennaLimited', 'SiennaSE', 'SiennaXLE',\n",
       "       'Sierra', 'Silverado', 'Sonata4dr', 'SonataLimited', 'SonataSE',\n",
       "       'SonicHatch', 'SonicSedan', 'Sorento2WD', 'SorentoEX', 'SorentoLX',\n",
       "       'SorentoSX', 'Soul+', 'SoulBase', 'Sportage2WD', 'SportageAWD',\n",
       "       'SportageEX', 'SportageLX', 'SportageSX', 'Sprinter',\n",
       "       'Suburban2WD', 'Suburban4WD', 'Suburban4dr', 'Super', 'TL4dr',\n",
       "       'TLAutomatic', 'TSXAutomatic', 'TT2dr', 'Tacoma2WD', 'Tacoma4WD',\n",
       "       'TacomaBase', 'TacomaPreRunner', 'Tahoe2WD', 'Tahoe4WD',\n",
       "       'Tahoe4dr', 'TahoeLS', 'TahoeLT', 'Taurus4dr', 'TaurusLimited',\n",
       "       'TaurusSE', 'TaurusSEL', 'TaurusSHO', 'TerrainAWD', 'TerrainFWD',\n",
       "       'Tiguan2WD', 'TiguanS', 'TiguanSE', 'TiguanSEL', 'Titan',\n",
       "       'Titan2WD', 'Titan4WD', 'Touareg4dr', 'Town', 'Transit',\n",
       "       'TraverseAWD', 'TraverseFWD', 'TucsonAWD', 'TucsonFWD',\n",
       "       'TucsonLimited', 'Tundra', 'Tundra2WD', 'Tundra4WD', 'TundraBase',\n",
       "       'TundraLimited', 'TundraSR5', 'VeracruzAWD', 'VeracruzFWD',\n",
       "       'Versa4dr', 'Versa5dr', 'Vibe4dr', 'WRXBase', 'WRXLimited',\n",
       "       'WRXPremium', 'WRXSTI', 'Wrangler', 'Wrangler2dr', 'Wrangler4WD',\n",
       "       'WranglerRubicon', 'WranglerSahara', 'WranglerSport', 'WranglerX',\n",
       "       'X1xDrive28i', 'X3AWD', 'X3xDrive28i', 'X5AWD', 'X5xDrive35i',\n",
       "       'XC60AWD', 'XC60FWD', 'XC60T6', 'XC704dr', 'XC90AWD', 'XC90FWD',\n",
       "       'XC90T6', 'XF4dr', 'XJ4dr', 'XK2dr', 'Xterra2WD', 'Xterra4WD',\n",
       "       'Xterra4dr', 'Yaris', 'Yaris4dr', 'YarisBase', 'YarisLE', 'Yukon',\n",
       "       'Yukon2WD', 'Yukon4WD', 'Yukon4dr', 'tC2dr', 'xB5dr', 'xD5dr'],\n",
       "      dtype=object)"
      ]
     },
     "execution_count": 9,
     "metadata": {},
     "output_type": "execute_result"
    }
   ],
   "source": [
    "dataTraining['Model'].sort_values().unique()"
   ]
  },
  {
   "cell_type": "code",
   "execution_count": 10,
   "metadata": {
    "colab": {
     "base_uri": "https://localhost:8080/"
    },
    "id": "XXpsIWC1xvKy",
    "outputId": "5cda0f41-db7a-4e57-fdfa-b23a25bafc28",
    "scrolled": true
   },
   "outputs": [
    {
     "data": {
      "text/plain": [
       "array([' FL', ' OH', ' TX', ' CO', ' ME', ' WA', ' CT', ' CA', ' LA',\n",
       "       ' NY', ' PA', ' SC', ' ND', ' NC', ' GA', ' AZ', ' TN', ' KY',\n",
       "       ' NJ', ' UT', ' IA', ' AL', ' NE', ' IL', ' OK', ' MD', ' NV',\n",
       "       ' WV', ' MI', ' VA', ' WI', ' MA', ' OR', ' IN', ' NM', ' MO',\n",
       "       ' HI', ' KS', ' AR', ' MN', ' MS', ' MT', ' AK', ' VT', ' SD',\n",
       "       ' NH', ' DE', ' ID', ' RI', ' WY', ' DC'], dtype=object)"
      ]
     },
     "execution_count": 10,
     "metadata": {},
     "output_type": "execute_result"
    }
   ],
   "source": [
    "dataTraining['State'].unique()"
   ]
  },
  {
   "cell_type": "code",
   "execution_count": 11,
   "metadata": {
    "colab": {
     "base_uri": "https://localhost:8080/"
    },
    "id": "0Dm4HTt9xvKz",
    "outputId": "d6c990bd-075b-4385-9f63-eeaaed792885",
    "scrolled": true
   },
   "outputs": [
    {
     "name": "stdout",
     "output_type": "stream",
     "text": [
      "<bound method NDFrame.describe of         Price  Year  Mileage State        Make           Model\n",
      "0       34995  2017     9913    FL        Jeep        Wrangler\n",
      "1       37895  2015    20578    OH   Chevrolet        Tahoe4WD\n",
      "2       18430  2012    83716    TX         BMW           X5AWD\n",
      "3       24681  2014    28729    OH    Cadillac       SRXLuxury\n",
      "4       26998  2013    64032    CO        Jeep        Wrangler\n",
      "...       ...   ...      ...   ...         ...             ...\n",
      "399995  29900  2015    25287    TX       Lexus            RXRX\n",
      "399996  17688  2015    17677    MI   Chevrolet      EquinoxFWD\n",
      "399997  24907  2014    66688    NC       Buick  EnclaveLeather\n",
      "399998  11498  2014    37872    IN  Volkswagen           Jetta\n",
      "399999  16900  2014    78606    CO      Nissan     PathfinderS\n",
      "\n",
      "[400000 rows x 6 columns]>\n"
     ]
    }
   ],
   "source": [
    "print(dataTraining.describe)"
   ]
  },
  {
   "cell_type": "code",
   "execution_count": 12,
   "metadata": {
    "colab": {
     "base_uri": "https://localhost:8080/"
    },
    "id": "hKJzL3pTxvKz",
    "outputId": "5e986ca8-3e51-4f85-c19d-230d1efc853c"
   },
   "outputs": [
    {
     "data": {
      "text/plain": [
       "False"
      ]
     },
     "execution_count": 12,
     "metadata": {},
     "output_type": "execute_result"
    }
   ],
   "source": [
    "dataTraining.isnull().values.any()"
   ]
  },
  {
   "cell_type": "code",
   "execution_count": 13,
   "metadata": {
    "colab": {
     "base_uri": "https://localhost:8080/"
    },
    "id": "9-MBvb5FxvKz",
    "outputId": "1f15f8d9-1928-431a-f01f-903e7011b8ca",
    "scrolled": true
   },
   "outputs": [
    {
     "data": {
      "text/plain": [
       "Silverado          18085\n",
       "Grand              12344\n",
       "Sierra              8409\n",
       "Accord              7357\n",
       "F-1504WD            6684\n",
       "                   ...  \n",
       "PathfinderSE          53\n",
       "Galant4dr             53\n",
       "SLK-ClassSLK350       52\n",
       "Monte                 48\n",
       "RX-84dr               48\n",
       "Name: Model, Length: 525, dtype: int64"
      ]
     },
     "execution_count": 13,
     "metadata": {},
     "output_type": "execute_result"
    }
   ],
   "source": [
    "dataTraining['Model'].value_counts()"
   ]
  },
  {
   "cell_type": "code",
   "execution_count": 14,
   "metadata": {
    "id": "kDQQEw4c8CaA"
   },
   "outputs": [],
   "source": [
    "# Create arrary of categorial variables to be encoded\n",
    "categorical_cols = ['State', 'Make', 'Model']\n",
    "le = LabelEncoder()\n",
    "# apply label encoder on categorical feature columns\n",
    "dataTraining[categorical_cols] = dataTraining[categorical_cols].apply(lambda col: le.fit_transform(col))"
   ]
  },
  {
   "cell_type": "code",
   "execution_count": 15,
   "metadata": {
    "id": "Xf3ztuflxvK0"
   },
   "outputs": [],
   "source": [
    "Y = (dataTraining.Price)\n",
    "X = dataTraining.drop(['Price'], axis=1)"
   ]
  },
  {
   "cell_type": "code",
   "execution_count": 16,
   "metadata": {
    "colab": {
     "base_uri": "https://localhost:8080/",
     "height": 423
    },
    "id": "HQyGOXZ18VcK",
    "outputId": "1625f021-3740-424e-c3c4-fb5365161b76"
   },
   "outputs": [
    {
     "data": {
      "text/html": [
       "<div>\n",
       "<style scoped>\n",
       "    .dataframe tbody tr th:only-of-type {\n",
       "        vertical-align: middle;\n",
       "    }\n",
       "\n",
       "    .dataframe tbody tr th {\n",
       "        vertical-align: top;\n",
       "    }\n",
       "\n",
       "    .dataframe thead th {\n",
       "        text-align: right;\n",
       "    }\n",
       "</style>\n",
       "<table border=\"1\" class=\"dataframe\">\n",
       "  <thead>\n",
       "    <tr style=\"text-align: right;\">\n",
       "      <th></th>\n",
       "      <th>Year</th>\n",
       "      <th>Mileage</th>\n",
       "      <th>State</th>\n",
       "      <th>Make</th>\n",
       "      <th>Model</th>\n",
       "    </tr>\n",
       "  </thead>\n",
       "  <tbody>\n",
       "    <tr>\n",
       "      <th>0</th>\n",
       "      <td>2017</td>\n",
       "      <td>9913</td>\n",
       "      <td>9</td>\n",
       "      <td>17</td>\n",
       "      <td>489</td>\n",
       "    </tr>\n",
       "    <tr>\n",
       "      <th>1</th>\n",
       "      <td>2015</td>\n",
       "      <td>20578</td>\n",
       "      <td>35</td>\n",
       "      <td>6</td>\n",
       "      <td>448</td>\n",
       "    </tr>\n",
       "    <tr>\n",
       "      <th>2</th>\n",
       "      <td>2012</td>\n",
       "      <td>83716</td>\n",
       "      <td>43</td>\n",
       "      <td>2</td>\n",
       "      <td>499</td>\n",
       "    </tr>\n",
       "    <tr>\n",
       "      <th>3</th>\n",
       "      <td>2014</td>\n",
       "      <td>28729</td>\n",
       "      <td>35</td>\n",
       "      <td>5</td>\n",
       "      <td>398</td>\n",
       "    </tr>\n",
       "    <tr>\n",
       "      <th>4</th>\n",
       "      <td>2013</td>\n",
       "      <td>64032</td>\n",
       "      <td>5</td>\n",
       "      <td>17</td>\n",
       "      <td>489</td>\n",
       "    </tr>\n",
       "    <tr>\n",
       "      <th>...</th>\n",
       "      <td>...</td>\n",
       "      <td>...</td>\n",
       "      <td>...</td>\n",
       "      <td>...</td>\n",
       "      <td>...</td>\n",
       "    </tr>\n",
       "    <tr>\n",
       "      <th>399995</th>\n",
       "      <td>2015</td>\n",
       "      <td>25287</td>\n",
       "      <td>43</td>\n",
       "      <td>20</td>\n",
       "      <td>377</td>\n",
       "    </tr>\n",
       "    <tr>\n",
       "      <th>399996</th>\n",
       "      <td>2015</td>\n",
       "      <td>17677</td>\n",
       "      <td>22</td>\n",
       "      <td>6</td>\n",
       "      <td>158</td>\n",
       "    </tr>\n",
       "    <tr>\n",
       "      <th>399997</th>\n",
       "      <td>2014</td>\n",
       "      <td>66688</td>\n",
       "      <td>27</td>\n",
       "      <td>4</td>\n",
       "      <td>154</td>\n",
       "    </tr>\n",
       "    <tr>\n",
       "      <th>399998</th>\n",
       "      <td>2014</td>\n",
       "      <td>37872</td>\n",
       "      <td>15</td>\n",
       "      <td>36</td>\n",
       "      <td>264</td>\n",
       "    </tr>\n",
       "    <tr>\n",
       "      <th>399999</th>\n",
       "      <td>2014</td>\n",
       "      <td>78606</td>\n",
       "      <td>5</td>\n",
       "      <td>27</td>\n",
       "      <td>338</td>\n",
       "    </tr>\n",
       "  </tbody>\n",
       "</table>\n",
       "<p>400000 rows × 5 columns</p>\n",
       "</div>"
      ],
      "text/plain": [
       "        Year  Mileage  State  Make  Model\n",
       "0       2017     9913      9    17    489\n",
       "1       2015    20578     35     6    448\n",
       "2       2012    83716     43     2    499\n",
       "3       2014    28729     35     5    398\n",
       "4       2013    64032      5    17    489\n",
       "...      ...      ...    ...   ...    ...\n",
       "399995  2015    25287     43    20    377\n",
       "399996  2015    17677     22     6    158\n",
       "399997  2014    66688     27     4    154\n",
       "399998  2014    37872     15    36    264\n",
       "399999  2014    78606      5    27    338\n",
       "\n",
       "[400000 rows x 5 columns]"
      ]
     },
     "execution_count": 16,
     "metadata": {},
     "output_type": "execute_result"
    }
   ],
   "source": [
    "X"
   ]
  },
  {
   "cell_type": "code",
   "execution_count": 17,
   "metadata": {
    "id": "lzdxfhiYxvK1"
   },
   "outputs": [],
   "source": [
    "# Separación de datos en set de entrenamiento y test\n",
    "from sklearn.model_selection import train_test_split\n",
    "X_train, X_test, y_train, y_test = train_test_split(X, Y, test_size=0.95, random_state=42)"
   ]
  },
  {
   "cell_type": "markdown",
   "metadata": {
    "id": "nK80T4a-xvK1"
   },
   "source": [
    "## Calibracion del modelo XGBoost"
   ]
  },
  {
   "cell_type": "code",
   "execution_count": 18,
   "metadata": {
    "id": "t6rirPnaxvK1"
   },
   "outputs": [],
   "source": [
    "import xgboost as xgb\n",
    "from sklearn.metrics import mean_squared_error\n",
    "from sklearn.model_selection import cross_val_score\n",
    "from xgboost import XGBRegressor"
   ]
  },
  {
   "cell_type": "code",
   "execution_count": 19,
   "metadata": {
    "colab": {
     "base_uri": "https://localhost:8080/"
    },
    "id": "hwX_FYO8JabA",
    "outputId": "6f731f28-0613-4b5c-f6de-8717ee8a78be"
   },
   "outputs": [
    {
     "name": "stdout",
     "output_type": "stream",
     "text": [
      "Average score(0.01): -10655.973\n",
      "Average score(0.05): -4836.331\n",
      "Average score(0.1): -4147.370\n",
      "Average score(0.15): -3892.259\n",
      "Average score(0.2): -3767.973\n",
      "Average score(0.25): -3701.965\n",
      "Average score(0.3): -3671.763\n"
     ]
    }
   ],
   "source": [
    "#Find optimal number of trees\n",
    "learning_range = [0.01, 0.05, 0.1, 0.15, 0.20, 0.25, 0.3]\n",
    "for val in learning_range:\n",
    "    score = cross_val_score(XGBRegressor(learning_rate= val, random_state= 42), X, Y, scoring=\"neg_root_mean_squared_error\")\n",
    "    print(f'Average score({val}): {\"{:.3f}\".format(score.mean())}')\n"
   ]
  },
  {
   "cell_type": "code",
   "execution_count": 20,
   "metadata": {},
   "outputs": [
    {
     "name": "stdout",
     "output_type": "stream",
     "text": [
      "Average score(0): -3671.763\n",
      "Average score(0.25): -3671.763\n",
      "Average score(0.5): -3671.763\n",
      "Average score(0.75): -3671.763\n",
      "Average score(1): -3671.763\n"
     ]
    }
   ],
   "source": [
    "#Find optimal gamma\n",
    "gamma_range = [0, 0.25, 0.5, 0.75, 1]\n",
    "for val in gamma_range:\n",
    "    score = cross_val_score(XGBRegressor(gamma= val, random_state= 42), X, Y,scoring=\"neg_root_mean_squared_error\")\n",
    "    print(f'Average score({val}): {\"{:.3f}\".format(score.mean())}')"
   ]
  },
  {
   "cell_type": "code",
   "execution_count": 21,
   "metadata": {
    "colab": {
     "base_uri": "https://localhost:8080/",
     "height": 916
    },
    "id": "VzC3RmDQmahB",
    "outputId": "36b6b7c3-3799-4179-982e-b6f56b09a675"
   },
   "outputs": [
    {
     "name": "stdout",
     "output_type": "stream",
     "text": [
      "Average score(0): -4875.794\n",
      "Average score(0.25): -4875.794\n",
      "Average score(0.5): -4103.258\n",
      "Average score(0.75): -4087.460\n",
      "Average score(1): -4135.460\n",
      "Average score(1.25): nan\n",
      "Average score(1.5): nan\n"
     ]
    }
   ],
   "source": [
    "#Find optimal gamma\n",
    "col_range = [0, 0.25, 0.5, 0.75, 1,1.25,1.5]\n",
    "for val in col_range:\n",
    "    score = cross_val_score(XGBRegressor(colsample_bytree= val, random_state= 42), X_train, y_train,scoring=\"neg_root_mean_squared_error\")\n",
    "    print(f'Average score({val}): {\"{:.3f}\".format(score.mean())}')"
   ]
  },
  {
   "cell_type": "code",
   "execution_count": 22,
   "metadata": {
    "colab": {
     "base_uri": "https://localhost:8080/"
    },
    "id": "DRM6qHfDnFRt",
    "outputId": "ca45919e-dee9-4ba7-fe0a-e9e84fcd755f"
   },
   "outputs": [
    {
     "name": "stdout",
     "output_type": "stream",
     "text": [
      "Average score(0.1): -4481.069\n",
      "Average score(0.2): -4192.721\n",
      "Average score(0.3): -4135.460\n",
      "Average score(0.4): -4161.040\n",
      "Average score(0.5): -4237.917\n",
      "Average score(0.6): -4329.767\n",
      "Average score(0.7): -4372.798\n",
      "Average score(0.8): -4518.608\n",
      "Average score(0.9): -4631.777\n",
      "Average score(1): -4792.953\n"
     ]
    }
   ],
   "source": [
    "learning_range = [0.1,0.2,0.3,0.40, 0.50, 0.60, 0.70,0.8,0.9,1]\n",
    "for val in learning_range:\n",
    "    score = cross_val_score(XGBRegressor(learning_rate= val, random_state= 42), X_train, y_train, scoring=\"neg_root_mean_squared_error\")\n",
    "    print(f'Average score({val}): {\"{:.3f}\".format(score.mean())}')"
   ]
  },
  {
   "cell_type": "code",
   "execution_count": 23,
   "metadata": {
    "colab": {
     "base_uri": "https://localhost:8080/",
     "height": 454
    },
    "id": "PbZxVX51qZ1b",
    "outputId": "e604e1a8-3544-45f8-bb8b-953cb770500b"
   },
   "outputs": [
    {
     "name": "stdout",
     "output_type": "stream",
     "text": [
      "Average score(0): -3673.511\n",
      "Average score(0.1): -3673.511\n",
      "Average score(0.2): -3673.511\n",
      "Average score(0.3): -3673.511\n",
      "Average score(0.4): -3673.511\n",
      "Average score(0.5): -3673.511\n",
      "Average score(0.6): -3673.511\n",
      "Average score(0.7): -3673.511\n",
      "Average score(0.8): -3673.511\n",
      "Average score(0.9): -3673.511\n",
      "Average score(1): -3673.511\n"
     ]
    }
   ],
   "source": [
    "gamma_range = [0,0.1,0.2,0.3,0.4,0.5,0.6,0.7,0.8,0.9,1]\n",
    "for val in gamma_range:\n",
    "    score = cross_val_score(XGBRegressor(learning_rate= 0.3, colsample_bytree= 0.75,gamma= val, random_state= 42), X_test, y_test,scoring=\"neg_root_mean_squared_error\")\n",
    "    print(f'Average score({val}): {\"{:.3f}\".format(score.mean())}')"
   ]
  },
  {
   "cell_type": "code",
   "execution_count": 30,
   "metadata": {
    "colab": {
     "base_uri": "https://localhost:8080/",
     "height": 473
    },
    "id": "0QLO899RwhmF",
    "outputId": "73de14c8-a13d-4692-f399-1c44f7504290"
   },
   "outputs": [
    {
     "name": "stdout",
     "output_type": "stream",
     "text": [
      "Average score(100): -3673.511\n",
      "Average score(200): -3558.280\n",
      "Average score(300): -3524.348\n",
      "Average score(400): -3510.915\n",
      "Average score(500): -3502.619\n",
      "Average score(600): -3498.791\n",
      "Average score(700): -3497.723\n",
      "Average score(800): -3497.224\n",
      "Average score(900): -3499.921\n"
     ]
    }
   ],
   "source": [
    "n_estimator = [100,200,300,400,500,600,700,800,900]\n",
    "for val in n_estimator:\n",
    "    score = cross_val_score(XGBRegressor(learning_rate= 0.3, colsample_bytree= 0.75,n_estimators= val, random_state= 42), X_test, y_test,scoring=\"neg_root_mean_squared_error\")\n",
    "    print(f'Average score({val}): {\"{:.3f}\".format(score.mean())}')"
   ]
  },
  {
   "cell_type": "code",
   "execution_count": 31,
   "metadata": {
    "colab": {
     "base_uri": "https://localhost:8080/"
    },
    "id": "tkFhyZ89phr6",
    "outputId": "fb69613d-c95e-4027-f318-529e364232c1"
   },
   "outputs": [
    {
     "data": {
      "text/plain": [
       "-4302.7704646496395"
      ]
     },
     "execution_count": 31,
     "metadata": {},
     "output_type": "execute_result"
    }
   ],
   "source": [
    "cross_val_score(XGBRegressor(learning_rate= 0.3, colsample_bytree= 0.75,n_estimators= 2000,random_state= 42,), X_train, y_train, scoring=\"neg_root_mean_squared_error\").mean()"
   ]
  },
  {
   "cell_type": "markdown",
   "metadata": {
    "id": "3nKEoRPbxvK3"
   },
   "source": [
    "## Entrenamiento del modelo"
   ]
  },
  {
   "cell_type": "code",
   "execution_count": 32,
   "metadata": {
    "id": "4PmPVvxo2z2e"
   },
   "outputs": [],
   "source": [
    "X_train, X_test, y_train, y_test = train_test_split(X, Y, test_size=0.33, random_state=42)"
   ]
  },
  {
   "cell_type": "code",
   "execution_count": 33,
   "metadata": {},
   "outputs": [],
   "source": [
    "# Parametros\n",
    "params = {\"booster\":\"gbtree\", \"max_depth\": 4, \"eta\": .3, \"objective\": \"binary:logistic\", \"nthread\":10}"
   ]
  },
  {
   "cell_type": "code",
   "execution_count": 34,
   "metadata": {
    "id": "eXGIS8E1xvK3",
    "scrolled": true
   },
   "outputs": [],
   "source": [
    "xgb = XGBRegressor( learning_rate= 0.3, colsample_bytree= 0.75,n_estimators= 600, random_state= 42).fit(X_train,y_train)\n",
    "# Evaluar modelo con los datos de prueba"
   ]
  },
  {
   "cell_type": "code",
   "execution_count": 35,
   "metadata": {
    "colab": {
     "base_uri": "https://localhost:8080/"
    },
    "id": "JL11Bp3333lR",
    "outputId": "b0b5f42c-528e-4703-ffcf-531d869832d2"
   },
   "outputs": [
    {
     "name": "stdout",
     "output_type": "stream",
     "text": [
      "El MSE para el modelo Random Forest es: 12213825.381440388\n",
      "El MAE para el modelo Random Forest es: 2230.8351570795235\n",
      "El R2-Score para el modelo XGBoost es: 0.8938383175674931\n"
     ]
    }
   ],
   "source": [
    "from sklearn.metrics import mean_squared_error, mean_absolute_error, accuracy_score , f1_score,r2_score\n",
    "\n",
    "\n",
    "y_pred_xgb = xgb.predict(X_test)\n",
    "mse = mean_squared_error(y_test, y_pred_xgb)\n",
    "maeXGB= mean_absolute_error(y_test, y_pred_xgb)\n",
    "r2scorexgb = r2_score(y_test, y_pred_xgb)\n",
    "#accuracyXGB = accuracy_score(y_test, y_pred_xgb)\n",
    "#f1ScoreXGB = f1_score(y_test, y_pred_xgb)\n",
    "\n",
    "# Imprimir resultado\n",
    "print(f'El MSE para el modelo Random Forest es: {mse}')\n",
    "print(f'El MAE para el modelo Random Forest es: {maeXGB}')\n",
    "print(f'El R2-Score para el modelo XGBoost es: {r2scorexgb}')\n",
    "#print(f'El Accuracy para el modelo XGBoost es: {accuracyXGB}')\n",
    "#print(f'El F1-Score para el modelo XGBoost es: {f1ScoreXGB}')\n"
   ]
  },
  {
   "cell_type": "code",
   "execution_count": 36,
   "metadata": {},
   "outputs": [
    {
     "data": {
      "image/png": "[encoded data removed]",
      "text/plain": [
       "<Figure size 640x480 with 1 Axes>"
      ]
     },
     "metadata": {},
     "output_type": "display_data"
    }
   ],
   "source": [
    "from sklearn import metrics\n",
    "import matplotlib.pyplot as plt\n",
    "\n",
    "fpr, tpr, thresholds = metrics.roc_curve(y_test,y_pred_xgb ,pos_label=1)\n",
    "AUC= metrics.auc(fpr, tpr)\n",
    "plt.title('Receiver Operating Characteristic')\n",
    "plt.plot(fpr, tpr, 'b', label = 'AUC = %0.2f' % AUC)\n",
    "plt.legend(loc = 'lower right')\n",
    "plt.plot([0, 1], [0, 1],'r--')\n",
    "plt.xlim([-0.01, 1])\n",
    "plt.ylim([0, 1.05])\n",
    "plt.ylabel('True Positive Rate')\n",
    "plt.xlabel('False Positive Rate')\n",
    "plt.show()"
   ]
  },
  {
   "cell_type": "code",
   "execution_count": 37,
   "metadata": {
    "colab": {
     "base_uri": "https://localhost:8080/"
    },
    "id": "1ms8qd3axvK4",
    "outputId": "b4e62679-631a-41a3-9965-92500ba6f15c"
   },
   "outputs": [
    {
     "data": {
      "text/plain": [
       "array([13911.666, 24015.18 , 14666.965, ..., 21109.246, 16090.388,\n",
       "       15827.315], dtype=float32)"
      ]
     },
     "execution_count": 37,
     "metadata": {},
     "output_type": "execute_result"
    }
   ],
   "source": [
    "# Guardar predicciones en formato exigido en la competencia de kaggle\n",
    "y_pred_xgb"
   ]
  },
  {
   "cell_type": "code",
   "execution_count": 38,
   "metadata": {
    "id": "2ejB-egmE1V6"
   },
   "outputs": [],
   "source": [
    "dataTesting[categorical_cols] = dataTesting[categorical_cols].apply(lambda col: le.fit_transform(col))"
   ]
  },
  {
   "cell_type": "code",
   "execution_count": 39,
   "metadata": {
    "id": "DrPtFA47FWnU"
   },
   "outputs": [],
   "source": [
    "y_pred_uno = xgb.predict(dataTesting)"
   ]
  },
  {
   "cell_type": "code",
   "execution_count": 41,
   "metadata": {
    "id": "Uula4pzLH5rJ"
   },
   "outputs": [
    {
     "name": "stdout",
     "output_type": "stream",
     "text": [
      "MSE: 19156359.139840566\n",
      "R^2: 0.8334943187695243\n"
     ]
    },
    {
     "ename": "ValueError",
     "evalue": "X has 615 features, but LinearRegression is expecting 616 features as input.",
     "output_type": "error",
     "traceback": [
      "\u001b[1;31m---------------------------------------------------------------------------\u001b[0m",
      "\u001b[1;31mValueError\u001b[0m                                Traceback (most recent call last)",
      "\u001b[1;32m~\\AppData\\Local\\Temp\\ipykernel_15352\\618082170.py\u001b[0m in \u001b[0;36m<module>\u001b[1;34m\u001b[0m\n\u001b[0;32m     35\u001b[0m \u001b[0mX_test\u001b[0m \u001b[1;33m=\u001b[0m \u001b[0mpd\u001b[0m\u001b[1;33m.\u001b[0m\u001b[0mget_dummies\u001b[0m\u001b[1;33m(\u001b[0m\u001b[0mdataTesting\u001b[0m\u001b[1;33m[\u001b[0m\u001b[0mfeatures\u001b[0m\u001b[1;33m]\u001b[0m\u001b[1;33m)\u001b[0m\u001b[1;33m\u001b[0m\u001b[1;33m\u001b[0m\u001b[0m\n\u001b[0;32m     36\u001b[0m \u001b[0mX_test\u001b[0m \u001b[1;33m=\u001b[0m \u001b[0mX_test\u001b[0m\u001b[1;33m.\u001b[0m\u001b[0mfillna\u001b[0m\u001b[1;33m(\u001b[0m\u001b[0mX_test\u001b[0m\u001b[1;33m.\u001b[0m\u001b[0mmean\u001b[0m\u001b[1;33m(\u001b[0m\u001b[1;33m)\u001b[0m\u001b[1;33m)\u001b[0m\u001b[1;33m\u001b[0m\u001b[1;33m\u001b[0m\u001b[0m\n\u001b[1;32m---> 37\u001b[1;33m \u001b[0my_test\u001b[0m \u001b[1;33m=\u001b[0m \u001b[0mmodel\u001b[0m\u001b[1;33m.\u001b[0m\u001b[0mpredict\u001b[0m\u001b[1;33m(\u001b[0m\u001b[0mX_test\u001b[0m\u001b[1;33m)\u001b[0m\u001b[1;33m\u001b[0m\u001b[1;33m\u001b[0m\u001b[0m\n\u001b[0m\u001b[0;32m     38\u001b[0m \u001b[1;33m\u001b[0m\u001b[0m\n\u001b[0;32m     39\u001b[0m \u001b[1;31m# Guardar predicciones en formato exigido en la competencia de kaggle\u001b[0m\u001b[1;33m\u001b[0m\u001b[1;33m\u001b[0m\u001b[0m\n",
      "\u001b[1;32mc:\\ProgramData\\Anaconda3\\lib\\site-packages\\sklearn\\linear_model\\_base.py\u001b[0m in \u001b[0;36mpredict\u001b[1;34m(self, X)\u001b[0m\n\u001b[0;32m    360\u001b[0m             \u001b[0mReturns\u001b[0m \u001b[0mpredicted\u001b[0m \u001b[0mvalues\u001b[0m\u001b[1;33m.\u001b[0m\u001b[1;33m\u001b[0m\u001b[1;33m\u001b[0m\u001b[0m\n\u001b[0;32m    361\u001b[0m         \"\"\"\n\u001b[1;32m--> 362\u001b[1;33m         \u001b[1;32mreturn\u001b[0m \u001b[0mself\u001b[0m\u001b[1;33m.\u001b[0m\u001b[0m_decision_function\u001b[0m\u001b[1;33m(\u001b[0m\u001b[0mX\u001b[0m\u001b[1;33m)\u001b[0m\u001b[1;33m\u001b[0m\u001b[1;33m\u001b[0m\u001b[0m\n\u001b[0m\u001b[0;32m    363\u001b[0m \u001b[1;33m\u001b[0m\u001b[0m\n\u001b[0;32m    364\u001b[0m     \u001b[0m_preprocess_data\u001b[0m \u001b[1;33m=\u001b[0m \u001b[0mstaticmethod\u001b[0m\u001b[1;33m(\u001b[0m\u001b[0m_preprocess_data\u001b[0m\u001b[1;33m)\u001b[0m\u001b[1;33m\u001b[0m\u001b[1;33m\u001b[0m\u001b[0m\n",
      "\u001b[1;32mc:\\ProgramData\\Anaconda3\\lib\\site-packages\\sklearn\\linear_model\\_base.py\u001b[0m in \u001b[0;36m_decision_function\u001b[1;34m(self, X)\u001b[0m\n\u001b[0;32m    343\u001b[0m         \u001b[0mcheck_is_fitted\u001b[0m\u001b[1;33m(\u001b[0m\u001b[0mself\u001b[0m\u001b[1;33m)\u001b[0m\u001b[1;33m\u001b[0m\u001b[1;33m\u001b[0m\u001b[0m\n\u001b[0;32m    344\u001b[0m \u001b[1;33m\u001b[0m\u001b[0m\n\u001b[1;32m--> 345\u001b[1;33m         \u001b[0mX\u001b[0m \u001b[1;33m=\u001b[0m \u001b[0mself\u001b[0m\u001b[1;33m.\u001b[0m\u001b[0m_validate_data\u001b[0m\u001b[1;33m(\u001b[0m\u001b[0mX\u001b[0m\u001b[1;33m,\u001b[0m \u001b[0maccept_sparse\u001b[0m\u001b[1;33m=\u001b[0m\u001b[1;33m[\u001b[0m\u001b[1;34m\"csr\"\u001b[0m\u001b[1;33m,\u001b[0m \u001b[1;34m\"csc\"\u001b[0m\u001b[1;33m,\u001b[0m \u001b[1;34m\"coo\"\u001b[0m\u001b[1;33m]\u001b[0m\u001b[1;33m,\u001b[0m \u001b[0mreset\u001b[0m\u001b[1;33m=\u001b[0m\u001b[1;32mFalse\u001b[0m\u001b[1;33m)\u001b[0m\u001b[1;33m\u001b[0m\u001b[1;33m\u001b[0m\u001b[0m\n\u001b[0m\u001b[0;32m    346\u001b[0m         \u001b[1;32mreturn\u001b[0m \u001b[0msafe_sparse_dot\u001b[0m\u001b[1;33m(\u001b[0m\u001b[0mX\u001b[0m\u001b[1;33m,\u001b[0m \u001b[0mself\u001b[0m\u001b[1;33m.\u001b[0m\u001b[0mcoef_\u001b[0m\u001b[1;33m.\u001b[0m\u001b[0mT\u001b[0m\u001b[1;33m,\u001b[0m \u001b[0mdense_output\u001b[0m\u001b[1;33m=\u001b[0m\u001b[1;32mTrue\u001b[0m\u001b[1;33m)\u001b[0m \u001b[1;33m+\u001b[0m \u001b[0mself\u001b[0m\u001b[1;33m.\u001b[0m\u001b[0mintercept_\u001b[0m\u001b[1;33m\u001b[0m\u001b[1;33m\u001b[0m\u001b[0m\n\u001b[0;32m    347\u001b[0m \u001b[1;33m\u001b[0m\u001b[0m\n",
      "\u001b[1;32mc:\\ProgramData\\Anaconda3\\lib\\site-packages\\sklearn\\base.py\u001b[0m in \u001b[0;36m_validate_data\u001b[1;34m(self, X, y, reset, validate_separately, **check_params)\u001b[0m\n\u001b[0;32m    583\u001b[0m \u001b[1;33m\u001b[0m\u001b[0m\n\u001b[0;32m    584\u001b[0m         \u001b[1;32mif\u001b[0m \u001b[1;32mnot\u001b[0m \u001b[0mno_val_X\u001b[0m \u001b[1;32mand\u001b[0m \u001b[0mcheck_params\u001b[0m\u001b[1;33m.\u001b[0m\u001b[0mget\u001b[0m\u001b[1;33m(\u001b[0m\u001b[1;34m\"ensure_2d\"\u001b[0m\u001b[1;33m,\u001b[0m \u001b[1;32mTrue\u001b[0m\u001b[1;33m)\u001b[0m\u001b[1;33m:\u001b[0m\u001b[1;33m\u001b[0m\u001b[1;33m\u001b[0m\u001b[0m\n\u001b[1;32m--> 585\u001b[1;33m             \u001b[0mself\u001b[0m\u001b[1;33m.\u001b[0m\u001b[0m_check_n_features\u001b[0m\u001b[1;33m(\u001b[0m\u001b[0mX\u001b[0m\u001b[1;33m,\u001b[0m \u001b[0mreset\u001b[0m\u001b[1;33m=\u001b[0m\u001b[0mreset\u001b[0m\u001b[1;33m)\u001b[0m\u001b[1;33m\u001b[0m\u001b[1;33m\u001b[0m\u001b[0m\n\u001b[0m\u001b[0;32m    586\u001b[0m \u001b[1;33m\u001b[0m\u001b[0m\n\u001b[0;32m    587\u001b[0m         \u001b[1;32mreturn\u001b[0m \u001b[0mout\u001b[0m\u001b[1;33m\u001b[0m\u001b[1;33m\u001b[0m\u001b[0m\n",
      "\u001b[1;32mc:\\ProgramData\\Anaconda3\\lib\\site-packages\\sklearn\\base.py\u001b[0m in \u001b[0;36m_check_n_features\u001b[1;34m(self, X, reset)\u001b[0m\n\u001b[0;32m    398\u001b[0m \u001b[1;33m\u001b[0m\u001b[0m\n\u001b[0;32m    399\u001b[0m         \u001b[1;32mif\u001b[0m \u001b[0mn_features\u001b[0m \u001b[1;33m!=\u001b[0m \u001b[0mself\u001b[0m\u001b[1;33m.\u001b[0m\u001b[0mn_features_in_\u001b[0m\u001b[1;33m:\u001b[0m\u001b[1;33m\u001b[0m\u001b[1;33m\u001b[0m\u001b[0m\n\u001b[1;32m--> 400\u001b[1;33m             raise ValueError(\n\u001b[0m\u001b[0;32m    401\u001b[0m                 \u001b[1;34mf\"X has {n_features} features, but {self.__class__.__name__} \"\u001b[0m\u001b[1;33m\u001b[0m\u001b[1;33m\u001b[0m\u001b[0m\n\u001b[0;32m    402\u001b[0m                 \u001b[1;34mf\"is expecting {self.n_features_in_} features as input.\"\u001b[0m\u001b[1;33m\u001b[0m\u001b[1;33m\u001b[0m\u001b[0m\n",
      "\u001b[1;31mValueError\u001b[0m: X has 615 features, but LinearRegression is expecting 616 features as input."
     ]
    }
   ],
   "source": [
    "import pandas as pd\n",
    "import numpy as np\n",
    "from sklearn.linear_model import LinearRegression\n",
    "from sklearn.metrics import mean_squared_error\n",
    "from sklearn.model_selection import train_test_split\n",
    "\n",
    "# Carga de datos de archivo .csv\n",
    "dataTraining = pd.read_csv('https://raw.githubusercontent.com/davidzarruk/MIAD_ML_NLP_2023/main/datasets/dataTrain_carListings.zip')\n",
    "dataTesting = pd.read_csv('https://raw.githubusercontent.com/davidzarruk/MIAD_ML_NLP_2023/main/datasets/dataTest_carListings.zip', index_col=0)\n",
    "\n",
    "# Selección de características relevantes\n",
    "features = ['Year','Mileage','State','Make','Model']\n",
    "\n",
    "# Preprocesamiento de los datos\n",
    "X = pd.get_dummies(dataTraining[features])\n",
    "y = dataTraining['Price']\n",
    "X = X.fillna(X.mean())\n",
    "\n",
    "# Separación del conjunto de entrenamiento y validación\n",
    "X_train, X_val, y_train, y_val = train_test_split(X, y, test_size=0.33, random_state=42)\n",
    "\n",
    "# Entrenamiento del modelo de regresión lineal\n",
    "model = LinearRegression()\n",
    "model.fit(X_train, y_train)\n",
    "\n",
    "# Evaluación del modelo en el conjunto de validación\n",
    "y_pred = model.predict(X_val)\n",
    "mse = mean_squared_error(y_val, y_pred)\n",
    "r2 = model.score(X_val, y_val)\n",
    "print('MSE:', mse)\n",
    "print('R^2:', r2)\n",
    "\n",
    "# Predicción del conjunto de prueba\n",
    "\n",
    "X_test = pd.get_dummies(dataTesting[features])\n",
    "X_test = X_test.fillna(X_test.mean())\n",
    "y_test = model.predict(X_test)\n",
    "\n",
    "# Guardar predicciones en formato exigido en la competencia de kaggle\n",
    "submission = pd.DataFrame({'ID': dataTesting.index, 'Price': y_test})\n",
    "submission.to_csv('test_submission.csv', index=False)"
   ]
  },
  {
   "cell_type": "code",
   "execution_count": 43,
   "metadata": {},
   "outputs": [],
   "source": [
    "import pandas as pd\n",
    "import numpy as np\n",
    "from sklearn.model_selection import train_test_split, GridSearchCV\n",
    "from sklearn.preprocessing import LabelEncoder\n",
    "import xgboost as xgb\n",
    "\n",
    "# Carga de datos de archivo .csv\n",
    "data = pd.read_csv('https://raw.githubusercontent.com/davidzarruk/MIAD_ML_NLP_2023/main/datasets/dataTrain_carListings.zip')\n",
    "\n",
    "# Preprocesamiento de los datos\n",
    "X = data.drop('Price', axis=1)\n",
    "# Selección de características relevantes\n",
    "features = ['Year','Mileage','State','Make','Model']\n",
    "\n",
    "# Preprocesamiento de los datos\n",
    "X = pd.get_dummies(dataTraining[features])\n",
    "y = dataTraining['Price']\n",
    "X = X.fillna(X.mean())\n",
    "\n",
    "# Separación de datos en entrenamiento y prueba\n",
    "X_train, X_test, y_train, y_test = train_test_split(X, y, test_size=0.2, random_state=42)\n",
    "\n",
    "# Definición de la cuadrícula de hiperparámetros a buscar\n",
    "param_grid = {\n",
    "    'learning_rate': [0.05, 0.1, 0.2],\n",
    "    'max_depth': [3, 5, 7],\n",
    "    'n_estimators': [50, 100, 200],\n",
    "    'subsample': [0.5, 0.75, 1.0],\n",
    "    'colsample_bytree': [0.5, 0.75, 1.0]\n",
    "}\n",
    "\n",
    "# Definición del modelo XGBoost\n",
    "xgb_model = xgb.XGBRegressor(objective='reg:squarederror', random_state=42)\n",
    "\n",
    "# Búsqueda de los mejores hiperparámetros utilizando validación cruzada\n",
    "grid_search = GridSearchCV(xgb_model, param_grid=param_grid, cv=3, n_jobs=-1)\n",
    "grid_search.fit(X_train, y_train)\n",
    "\n",
    "# Predicción del conjunto de prueba con el mejor modelo encontrado\n",
    "y_pred = grid_search.predict(X_test)\n",
    "\n",
    "# Evaluación del modelo\n",
    "from sklearn.metrics import mean_squared_error\n",
    "mse = mean_squared_error(y_test, y_pred)\n",
    "rmse = np.sqrt(mse)\n",
    "print('RMSE:', rmse)\n",
    "\n",
    "from sklearn.metrics import r2_score, mean_absolute_error, mean_absolute_percentage_error\n",
    "\n",
    "r2 = r2_score(y_test, y_pred)\n",
    "mae = mean_absolute_error(y_test, y_pred)\n",
    "mape = mean_absolute_percentage_error(y_test, y_pred)\n",
    "print('R2:', r2)\n",
    "print('mae:', mae)\n",
    "print('mape:', mape)\n",
    "\n",
    "\n"
   ]
  },
  {
   "cell_type": "code",
   "execution_count": null,
   "metadata": {},
   "outputs": [],
   "source": [
    "import pandas as pd\n",
    "from sklearn.tree import DecisionTreeRegressor\n",
    "from sklearn.model_selection import train_test_split\n",
    "\n",
    "# Carga de datos de archivo .csv\n",
    "data = pd.read_csv('https://raw.githubusercontent.com/davidzarruk/MIAD_ML_NLP_2023/main/datasets/dataTrain_carListings.zip')\n",
    "\n",
    "# Preprocesamiento de los datos\n",
    "X = data.drop('Price', axis=1)\n",
    "y = data['Price']\n",
    "le = LabelEncoder()\n",
    "X['Brand'] = le.fit_transform(X['Brand'])\n",
    "\n",
    "# Separación de datos en entrenamiento y prueba\n",
    "X_train, X_test, y_train, y_test = train_test_split(X, y, test_size=0.2, random_state=42)\n",
    "\n",
    "# Definición del modelo y entrenamiento\n",
    "tree = DecisionTreeRegressor(random_state=42)\n",
    "tree.fit(X_train, y_train)\n",
    "\n",
    "# Predicción del conjunto de prueba\n",
    "y_pred = tree.predict(X_test)\n",
    "\n",
    "# Evaluación del modelo\n",
    "from sklearn.metrics import mean_squared_error\n",
    "mse = mean_squared_error(y_test, y_pred)\n",
    "rmse = np.sqrt(mse)\n",
    "print('RMSE:', rmse)\n",
    "from sklearn.metrics import r2_score, mean_absolute_error, mean_absolute_percentage_error\n",
    "\n",
    "r2 = r2_score(y_test, y_pred)\n",
    "mae = mean_absolute_error(y_test, y_pred)\n",
    "mape = mean_absolute_percentage_error(y_test, y_pred)"
   ]
  },
  {
   "cell_type": "code",
   "execution_count": null,
   "metadata": {},
   "outputs": [],
   "source": []
  },
  {
   "cell_type": "code",
   "execution_count": null,
   "metadata": {},
   "outputs": [],
   "source": []
  }
 ],
 "metadata": {
  "colab": {
   "provenance": []
  },
  "kernelspec": {
   "display_name": "Python 3 (ipykernel)",
   "language": "python",
   "name": "python3"
  },
  "language_info": {
   "codemirror_mode": {
    "name": "ipython",
    "version": 3
   },
   "file_extension": ".py",
   "mimetype": "text/x-python",
   "name": "python",
   "nbconvert_exporter": "python",
   "pygments_lexer": "ipython3",
   "version": "3.9.13"
  }
 },
 "nbformat": 4,
 "nbformat_minor": 1
}
