{
 "cells": [
  {
   "cell_type": "markdown",
   "metadata": {
    "id": "fygLkG9CxvKd"
   },
   "source": [
    "![image info](https://raw.githubusercontent.com/davidzarruk/MIAD_ML_NLP_2023/main/images/banner_1.png)"
   ]
  },
  {
   "cell_type": "markdown",
   "metadata": {
    "id": "WB0zM98XxvKl"
   },
   "source": [
    "# Proyecto 1 - Predicción de precios de vehículos usados\n",
    "\n",
    "En este proyecto podrán poner en práctica sus conocimientos sobre modelos predictivos basados en árboles y ensambles, y sobre la disponibilización de modelos. Para su desasrrollo tengan en cuenta las instrucciones dadas en la \"Guía del proyecto 1: Predicción de precios de vehículos usados\".\n",
    "\n",
    "**Entrega**: La entrega del proyecto deberán realizarla durante la semana 4. Sin embargo, es importante que avancen en la semana 3 en el modelado del problema y en parte del informe, tal y como se les indicó en la guía.\n",
    "\n",
    "Para hacer la entrega, deberán adjuntar el informe autocontenido en PDF a la actividad de entrega del proyecto que encontrarán en la semana 4, y subir el archivo de predicciones a la [competencia de Kaggle](https://www.kaggle.com/t/b8be43cf89c540bfaf3831f2c8506614)."
   ]
  },
  {
   "cell_type": "markdown",
   "metadata": {
    "id": "bAFBjwbhxvKn"
   },
   "source": [
    "## Datos para la predicción de precios de vehículos usados\n",
    "\n",
    "En este proyecto se usará el conjunto de datos de Car Listings de Kaggle, donde cada observación representa el precio de un automóvil teniendo en cuenta distintas variables como: año, marca, modelo, entre otras. El objetivo es predecir el precio del automóvil. Para más detalles puede visitar el siguiente enlace: [datos](https://www.kaggle.com/jpayne/852k-used-car-listings)."
   ]
  },
  {
   "cell_type": "markdown",
   "metadata": {
    "id": "Ygu0gbs5xvKo"
   },
   "source": [
    "## Ejemplo predicción conjunto de test para envío a Kaggle\n",
    "\n",
    "En esta sección encontrarán el formato en el que deben guardar los resultados de la predicción para que puedan subirlos a la competencia en Kaggle."
   ]
  },
  {
   "cell_type": "code",
   "execution_count": 3,
   "metadata": {
    "id": "yIUtIHPLxvKp"
   },
   "outputs": [],
   "source": [
    "import warnings\n",
    "warnings.filterwarnings('ignore')"
   ]
  },
  {
   "cell_type": "code",
   "execution_count": 4,
   "metadata": {
    "id": "9-47lXNLxvKq"
   },
   "outputs": [],
   "source": [
    "# Importación librerías\n",
    "import pandas as pd\n",
    "import numpy as np\n",
    "from sklearn.preprocessing import LabelEncoder"
   ]
  },
  {
   "cell_type": "code",
   "execution_count": 57,
   "metadata": {
    "id": "KP-xj0i3xvKr"
   },
   "outputs": [],
   "source": [
    "# Carga de datos de archivo .csv\n",
    "dataTraining = pd.read_csv('https://raw.githubusercontent.com/davidzarruk/MIAD_ML_NLP_2023/main/datasets/dataTrain_carListings.zip')\n",
    "dataTesting = pd.read_csv('https://raw.githubusercontent.com/davidzarruk/MIAD_ML_NLP_2023/main/datasets/dataTest_carListings.zip', index_col=0)"
   ]
  },
  {
   "cell_type": "code",
   "execution_count": 58,
   "metadata": {
    "colab": {
     "base_uri": "https://localhost:8080/",
     "height": 206
    },
    "id": "YHoSFdo3xvKs",
    "outputId": "88986f22-a4cc-42fd-e3b2-fd1f7b89e059"
   },
   "outputs": [
    {
     "data": {
      "text/html": [
       "<div>\n",
       "<style scoped>\n",
       "    .dataframe tbody tr th:only-of-type {\n",
       "        vertical-align: middle;\n",
       "    }\n",
       "\n",
       "    .dataframe tbody tr th {\n",
       "        vertical-align: top;\n",
       "    }\n",
       "\n",
       "    .dataframe thead th {\n",
       "        text-align: right;\n",
       "    }\n",
       "</style>\n",
       "<table border=\"1\" class=\"dataframe\">\n",
       "  <thead>\n",
       "    <tr style=\"text-align: right;\">\n",
       "      <th></th>\n",
       "      <th>Price</th>\n",
       "      <th>Year</th>\n",
       "      <th>Mileage</th>\n",
       "      <th>State</th>\n",
       "      <th>Make</th>\n",
       "      <th>Model</th>\n",
       "    </tr>\n",
       "  </thead>\n",
       "  <tbody>\n",
       "    <tr>\n",
       "      <th>0</th>\n",
       "      <td>34995</td>\n",
       "      <td>2017</td>\n",
       "      <td>9913</td>\n",
       "      <td>FL</td>\n",
       "      <td>Jeep</td>\n",
       "      <td>Wrangler</td>\n",
       "    </tr>\n",
       "    <tr>\n",
       "      <th>1</th>\n",
       "      <td>37895</td>\n",
       "      <td>2015</td>\n",
       "      <td>20578</td>\n",
       "      <td>OH</td>\n",
       "      <td>Chevrolet</td>\n",
       "      <td>Tahoe4WD</td>\n",
       "    </tr>\n",
       "    <tr>\n",
       "      <th>2</th>\n",
       "      <td>18430</td>\n",
       "      <td>2012</td>\n",
       "      <td>83716</td>\n",
       "      <td>TX</td>\n",
       "      <td>BMW</td>\n",
       "      <td>X5AWD</td>\n",
       "    </tr>\n",
       "    <tr>\n",
       "      <th>3</th>\n",
       "      <td>24681</td>\n",
       "      <td>2014</td>\n",
       "      <td>28729</td>\n",
       "      <td>OH</td>\n",
       "      <td>Cadillac</td>\n",
       "      <td>SRXLuxury</td>\n",
       "    </tr>\n",
       "    <tr>\n",
       "      <th>4</th>\n",
       "      <td>26998</td>\n",
       "      <td>2013</td>\n",
       "      <td>64032</td>\n",
       "      <td>CO</td>\n",
       "      <td>Jeep</td>\n",
       "      <td>Wrangler</td>\n",
       "    </tr>\n",
       "    <tr>\n",
       "      <th>5</th>\n",
       "      <td>40495</td>\n",
       "      <td>2016</td>\n",
       "      <td>9987</td>\n",
       "      <td>ME</td>\n",
       "      <td>BMW</td>\n",
       "      <td>3</td>\n",
       "    </tr>\n",
       "    <tr>\n",
       "      <th>6</th>\n",
       "      <td>33995</td>\n",
       "      <td>2015</td>\n",
       "      <td>12961</td>\n",
       "      <td>WA</td>\n",
       "      <td>Mercedes-Benz</td>\n",
       "      <td>C-ClassC300</td>\n",
       "    </tr>\n",
       "    <tr>\n",
       "      <th>7</th>\n",
       "      <td>21995</td>\n",
       "      <td>2014</td>\n",
       "      <td>6480</td>\n",
       "      <td>CT</td>\n",
       "      <td>Toyota</td>\n",
       "      <td>CamryL</td>\n",
       "    </tr>\n",
       "    <tr>\n",
       "      <th>8</th>\n",
       "      <td>28591</td>\n",
       "      <td>2014</td>\n",
       "      <td>29165</td>\n",
       "      <td>CA</td>\n",
       "      <td>Toyota</td>\n",
       "      <td>TacomaPreRunner</td>\n",
       "    </tr>\n",
       "    <tr>\n",
       "      <th>9</th>\n",
       "      <td>10895</td>\n",
       "      <td>2008</td>\n",
       "      <td>70005</td>\n",
       "      <td>CA</td>\n",
       "      <td>Buick</td>\n",
       "      <td>LaCrosse4dr</td>\n",
       "    </tr>\n",
       "    <tr>\n",
       "      <th>10</th>\n",
       "      <td>24798</td>\n",
       "      <td>2017</td>\n",
       "      <td>2918</td>\n",
       "      <td>LA</td>\n",
       "      <td>Dodge</td>\n",
       "      <td>ChargerSXT</td>\n",
       "    </tr>\n",
       "    <tr>\n",
       "      <th>11</th>\n",
       "      <td>13995</td>\n",
       "      <td>2014</td>\n",
       "      <td>39972</td>\n",
       "      <td>NY</td>\n",
       "      <td>Toyota</td>\n",
       "      <td>CamryLE</td>\n",
       "    </tr>\n",
       "    <tr>\n",
       "      <th>12</th>\n",
       "      <td>10900</td>\n",
       "      <td>2015</td>\n",
       "      <td>35051</td>\n",
       "      <td>PA</td>\n",
       "      <td>Volkswagen</td>\n",
       "      <td>Jetta</td>\n",
       "    </tr>\n",
       "    <tr>\n",
       "      <th>13</th>\n",
       "      <td>26900</td>\n",
       "      <td>2014</td>\n",
       "      <td>45657</td>\n",
       "      <td>SC</td>\n",
       "      <td>GMC</td>\n",
       "      <td>AcadiaFWD</td>\n",
       "    </tr>\n",
       "    <tr>\n",
       "      <th>14</th>\n",
       "      <td>13995</td>\n",
       "      <td>2013</td>\n",
       "      <td>40411</td>\n",
       "      <td>ND</td>\n",
       "      <td>Ford</td>\n",
       "      <td>EscapeSE</td>\n",
       "    </tr>\n",
       "    <tr>\n",
       "      <th>15</th>\n",
       "      <td>18997</td>\n",
       "      <td>2015</td>\n",
       "      <td>49793</td>\n",
       "      <td>TX</td>\n",
       "      <td>Hyundai</td>\n",
       "      <td>SonataLimited</td>\n",
       "    </tr>\n",
       "    <tr>\n",
       "      <th>16</th>\n",
       "      <td>21770</td>\n",
       "      <td>2014</td>\n",
       "      <td>36663</td>\n",
       "      <td>NC</td>\n",
       "      <td>Hyundai</td>\n",
       "      <td>Santa</td>\n",
       "    </tr>\n",
       "    <tr>\n",
       "      <th>17</th>\n",
       "      <td>12980</td>\n",
       "      <td>2015</td>\n",
       "      <td>75786</td>\n",
       "      <td>NC</td>\n",
       "      <td>Mitsubishi</td>\n",
       "      <td>Outlander</td>\n",
       "    </tr>\n",
       "    <tr>\n",
       "      <th>18</th>\n",
       "      <td>9000</td>\n",
       "      <td>2012</td>\n",
       "      <td>58404</td>\n",
       "      <td>NC</td>\n",
       "      <td>Chevrolet</td>\n",
       "      <td>CruzeSedan</td>\n",
       "    </tr>\n",
       "    <tr>\n",
       "      <th>19</th>\n",
       "      <td>7991</td>\n",
       "      <td>2008</td>\n",
       "      <td>52013</td>\n",
       "      <td>GA</td>\n",
       "      <td>Honda</td>\n",
       "      <td>Civic</td>\n",
       "    </tr>\n",
       "  </tbody>\n",
       "</table>\n",
       "</div>"
      ],
      "text/plain": [
       "    Price  Year  Mileage State           Make            Model\n",
       "0   34995  2017     9913    FL           Jeep         Wrangler\n",
       "1   37895  2015    20578    OH      Chevrolet         Tahoe4WD\n",
       "2   18430  2012    83716    TX            BMW            X5AWD\n",
       "3   24681  2014    28729    OH       Cadillac        SRXLuxury\n",
       "4   26998  2013    64032    CO           Jeep         Wrangler\n",
       "5   40495  2016     9987    ME            BMW                3\n",
       "6   33995  2015    12961    WA  Mercedes-Benz      C-ClassC300\n",
       "7   21995  2014     6480    CT         Toyota           CamryL\n",
       "8   28591  2014    29165    CA         Toyota  TacomaPreRunner\n",
       "9   10895  2008    70005    CA          Buick      LaCrosse4dr\n",
       "10  24798  2017     2918    LA          Dodge       ChargerSXT\n",
       "11  13995  2014    39972    NY         Toyota          CamryLE\n",
       "12  10900  2015    35051    PA     Volkswagen            Jetta\n",
       "13  26900  2014    45657    SC            GMC        AcadiaFWD\n",
       "14  13995  2013    40411    ND           Ford         EscapeSE\n",
       "15  18997  2015    49793    TX        Hyundai    SonataLimited\n",
       "16  21770  2014    36663    NC        Hyundai            Santa\n",
       "17  12980  2015    75786    NC     Mitsubishi        Outlander\n",
       "18   9000  2012    58404    NC      Chevrolet       CruzeSedan\n",
       "19   7991  2008    52013    GA          Honda            Civic"
      ]
     },
     "execution_count": 58,
     "metadata": {},
     "output_type": "execute_result"
    }
   ],
   "source": [
    "# Visualización datos de entrenamiento\n",
    "dataTraining.head(20)\n"
   ]
  },
  {
   "cell_type": "code",
   "execution_count": 7,
   "metadata": {},
   "outputs": [
    {
     "data": {
      "text/html": [
       "<div>\n",
       "<style scoped>\n",
       "    .dataframe tbody tr th:only-of-type {\n",
       "        vertical-align: middle;\n",
       "    }\n",
       "\n",
       "    .dataframe tbody tr th {\n",
       "        vertical-align: top;\n",
       "    }\n",
       "\n",
       "    .dataframe thead th {\n",
       "        text-align: right;\n",
       "    }\n",
       "</style>\n",
       "<table border=\"1\" class=\"dataframe\">\n",
       "  <thead>\n",
       "    <tr style=\"text-align: right;\">\n",
       "      <th></th>\n",
       "      <th>Price</th>\n",
       "      <th>Year</th>\n",
       "      <th>Mileage</th>\n",
       "    </tr>\n",
       "  </thead>\n",
       "  <tbody>\n",
       "    <tr>\n",
       "      <th>count</th>\n",
       "      <td>400000.000000</td>\n",
       "      <td>400000.000000</td>\n",
       "      <td>4.000000e+05</td>\n",
       "    </tr>\n",
       "    <tr>\n",
       "      <th>mean</th>\n",
       "      <td>21146.919312</td>\n",
       "      <td>2013.198125</td>\n",
       "      <td>5.507296e+04</td>\n",
       "    </tr>\n",
       "    <tr>\n",
       "      <th>std</th>\n",
       "      <td>10753.664940</td>\n",
       "      <td>3.292326</td>\n",
       "      <td>4.088102e+04</td>\n",
       "    </tr>\n",
       "    <tr>\n",
       "      <th>min</th>\n",
       "      <td>5001.000000</td>\n",
       "      <td>1997.000000</td>\n",
       "      <td>5.000000e+00</td>\n",
       "    </tr>\n",
       "    <tr>\n",
       "      <th>25%</th>\n",
       "      <td>13499.000000</td>\n",
       "      <td>2012.000000</td>\n",
       "      <td>2.584100e+04</td>\n",
       "    </tr>\n",
       "    <tr>\n",
       "      <th>50%</th>\n",
       "      <td>18450.000000</td>\n",
       "      <td>2014.000000</td>\n",
       "      <td>4.295500e+04</td>\n",
       "    </tr>\n",
       "    <tr>\n",
       "      <th>75%</th>\n",
       "      <td>26999.000000</td>\n",
       "      <td>2016.000000</td>\n",
       "      <td>7.743300e+04</td>\n",
       "    </tr>\n",
       "    <tr>\n",
       "      <th>max</th>\n",
       "      <td>79999.000000</td>\n",
       "      <td>2018.000000</td>\n",
       "      <td>2.457832e+06</td>\n",
       "    </tr>\n",
       "  </tbody>\n",
       "</table>\n",
       "</div>"
      ],
      "text/plain": [
       "               Price           Year       Mileage\n",
       "count  400000.000000  400000.000000  4.000000e+05\n",
       "mean    21146.919312    2013.198125  5.507296e+04\n",
       "std     10753.664940       3.292326  4.088102e+04\n",
       "min      5001.000000    1997.000000  5.000000e+00\n",
       "25%     13499.000000    2012.000000  2.584100e+04\n",
       "50%     18450.000000    2014.000000  4.295500e+04\n",
       "75%     26999.000000    2016.000000  7.743300e+04\n",
       "max     79999.000000    2018.000000  2.457832e+06"
      ]
     },
     "execution_count": 7,
     "metadata": {},
     "output_type": "execute_result"
    }
   ],
   "source": [
    "dataTraining.describe()"
   ]
  },
  {
   "cell_type": "code",
   "execution_count": 8,
   "metadata": {},
   "outputs": [
    {
     "name": "stdout",
     "output_type": "stream",
     "text": [
      "Year  Mileage  State  Make       Model      \n",
      "1997  400       NV    Porsche    Boxster2dr     1\n",
      "      3821      WA    Subaru     Impreza        1\n",
      "      7145      WI    Chevrolet  Camaro2dr      1\n",
      "      23746     WA    Porsche    911            1\n",
      "      29430     MO    Chevrolet  Corvette2dr    1\n",
      "                                               ..\n",
      "2018  11553     AL    Chevrolet  EquinoxFWD     1\n",
      "      11592     MS    Chevrolet  EquinoxFWD     1\n",
      "      11634     MN    Chevrolet  EquinoxAWD     1\n",
      "      14526     OH    Chevrolet  EquinoxFWD     1\n",
      "      14645     MS    Chevrolet  EquinoxAWD     1\n",
      "Length: 399523, dtype: int64\n"
     ]
    }
   ],
   "source": [
    "# counting the duplicates\n",
    "dups = dataTraining.pivot_table(index = ['Year','Mileage','State','Make','Model'], aggfunc ='size')\n",
    "# displaying the duplicate Series\n",
    "print(dups)\n",
    "\n"
   ]
  },
  {
   "cell_type": "code",
   "execution_count": 9,
   "metadata": {},
   "outputs": [
    {
     "name": "stdout",
     "output_type": "stream",
     "text": [
      "Year  Mileage  State  Make           Model          \n",
      "2016  5         CA    Chevrolet      Silverado           6\n",
      "                NC    Kia            OptimaLX            5\n",
      "      10        UT    Ford           Super               5\n",
      "      11        CA    Kia            Forte               4\n",
      "                FL    Mercedes-Benz  Sprinter            3\n",
      "      12        IL    Ford           TaurusSEL           4\n",
      "                WA    Mercedes-Benz  C-ClassC300         3\n",
      "      15        CA    Chevrolet      Silverado           5\n",
      "      36        AZ    Volvo          S60T5               3\n",
      "      150       NJ    Ford           Expedition4WD       3\n",
      "      5000      SC    Chrysler       200Limited          4\n",
      "2017  5         CA    Chevrolet      Silverado           4\n",
      "      6         VA    Toyota         Tacoma2WD           3\n",
      "      7         IL    Toyota         SequoiaPlatinum     4\n",
      "      8         FL    Toyota         CamrySE             9\n",
      "      9         TX    Jeep           Wrangler            4\n",
      "      10        CA    Kia            OptimaLX            3\n",
      "                PA    Acura          RDXAWD              4\n",
      "                UT    Ford           ExplorerFWD         3\n",
      "                                     F-350Lariat         5\n",
      "                                     F-350XL             3\n",
      "                                     FocusSE             6\n",
      "                                     Super              13\n",
      "                                     Transit             9\n",
      "      11        UT    Ford           Super               5\n",
      "      12        MA    Mercedes-Benz  C-ClassC            3\n",
      "      15        AZ    Honda          Civic               3\n",
      "                FL    Toyota         CorollaLE          33\n",
      "                TX    Subaru         Outback2.5i         4\n",
      "      30        FL    Toyota         CorollaLE           5\n",
      "      1555      FL    Land           Rover               4\n",
      "      21000     FL    Toyota         RAV4XLE             3\n",
      "2018  5         CO    Acura          RDXAWD              5\n",
      "      10        PA    Acura          RDXAWD              3\n",
      "                UT    Ford           F-150Lariat        14\n",
      "                                     F-150Limited       12\n",
      "                                     F-150XL             3\n",
      "                                     FusionSE           10\n",
      "                                     Transit            13\n",
      "                WI    Toyota         CamryLE             3\n",
      "      11        UT    Ford           F-150Limited        3\n",
      "dtype: int64\n"
     ]
    }
   ],
   "source": [
    "# Filtrar duplicados que aparecen más de dos veces\n",
    "dups_mask = dups > 2\n",
    "dups_filtered = dups[dups_mask]\n",
    "\n",
    "# Mostrar los duplicados filtrados\n",
    "print(dups_filtered)\n"
   ]
  },
  {
   "cell_type": "code",
   "execution_count": 10,
   "metadata": {
    "colab": {
     "base_uri": "https://localhost:8080/",
     "height": 237
    },
    "id": "LfpjxVZ4xvKu",
    "outputId": "127d248b-76ab-48eb-d8d2-d5aa3aca561a",
    "scrolled": true
   },
   "outputs": [
    {
     "data": {
      "text/html": [
       "<div>\n",
       "<style scoped>\n",
       "    .dataframe tbody tr th:only-of-type {\n",
       "        vertical-align: middle;\n",
       "    }\n",
       "\n",
       "    .dataframe tbody tr th {\n",
       "        vertical-align: top;\n",
       "    }\n",
       "\n",
       "    .dataframe thead th {\n",
       "        text-align: right;\n",
       "    }\n",
       "</style>\n",
       "<table border=\"1\" class=\"dataframe\">\n",
       "  <thead>\n",
       "    <tr style=\"text-align: right;\">\n",
       "      <th></th>\n",
       "      <th>Year</th>\n",
       "      <th>Mileage</th>\n",
       "      <th>State</th>\n",
       "      <th>Make</th>\n",
       "      <th>Model</th>\n",
       "    </tr>\n",
       "    <tr>\n",
       "      <th>ID</th>\n",
       "      <th></th>\n",
       "      <th></th>\n",
       "      <th></th>\n",
       "      <th></th>\n",
       "      <th></th>\n",
       "    </tr>\n",
       "  </thead>\n",
       "  <tbody>\n",
       "    <tr>\n",
       "      <th>0</th>\n",
       "      <td>2014</td>\n",
       "      <td>31909</td>\n",
       "      <td>MD</td>\n",
       "      <td>Nissan</td>\n",
       "      <td>MuranoAWD</td>\n",
       "    </tr>\n",
       "    <tr>\n",
       "      <th>1</th>\n",
       "      <td>2017</td>\n",
       "      <td>5362</td>\n",
       "      <td>FL</td>\n",
       "      <td>Jeep</td>\n",
       "      <td>Wrangler</td>\n",
       "    </tr>\n",
       "    <tr>\n",
       "      <th>2</th>\n",
       "      <td>2014</td>\n",
       "      <td>50300</td>\n",
       "      <td>OH</td>\n",
       "      <td>Ford</td>\n",
       "      <td>FlexLimited</td>\n",
       "    </tr>\n",
       "    <tr>\n",
       "      <th>3</th>\n",
       "      <td>2004</td>\n",
       "      <td>132160</td>\n",
       "      <td>WA</td>\n",
       "      <td>BMW</td>\n",
       "      <td>5</td>\n",
       "    </tr>\n",
       "    <tr>\n",
       "      <th>4</th>\n",
       "      <td>2015</td>\n",
       "      <td>25226</td>\n",
       "      <td>MA</td>\n",
       "      <td>Jeep</td>\n",
       "      <td>Grand</td>\n",
       "    </tr>\n",
       "  </tbody>\n",
       "</table>\n",
       "</div>"
      ],
      "text/plain": [
       "    Year  Mileage State    Make        Model\n",
       "ID                                          \n",
       "0   2014    31909    MD  Nissan    MuranoAWD\n",
       "1   2017     5362    FL    Jeep     Wrangler\n",
       "2   2014    50300    OH    Ford  FlexLimited\n",
       "3   2004   132160    WA     BMW            5\n",
       "4   2015    25226    MA    Jeep        Grand"
      ]
     },
     "execution_count": 10,
     "metadata": {},
     "output_type": "execute_result"
    }
   ],
   "source": [
    "# Visualización datos de test\n",
    "dataTesting.head()"
   ]
  },
  {
   "cell_type": "code",
   "execution_count": 11,
   "metadata": {
    "id": "NoY6xDcrxvKv"
   },
   "outputs": [],
   "source": [
    "# Predicción del conjunto de test - acá se genera un número aleatorio como ejemplo\n",
    "np.random.seed(42)\n",
    "y_pred = pd.DataFrame(np.random.rand(dataTesting.shape[0]) * 75000 + 5000, index=dataTesting.index, columns=['Price'])"
   ]
  },
  {
   "cell_type": "code",
   "execution_count": 12,
   "metadata": {
    "colab": {
     "base_uri": "https://localhost:8080/",
     "height": 237
    },
    "id": "vyDaUgmHxvKv",
    "outputId": "d79430e6-ed66-4b6b-9660-c689b1cb447c",
    "scrolled": true
   },
   "outputs": [
    {
     "data": {
      "text/html": [
       "<div>\n",
       "<style scoped>\n",
       "    .dataframe tbody tr th:only-of-type {\n",
       "        vertical-align: middle;\n",
       "    }\n",
       "\n",
       "    .dataframe tbody tr th {\n",
       "        vertical-align: top;\n",
       "    }\n",
       "\n",
       "    .dataframe thead th {\n",
       "        text-align: right;\n",
       "    }\n",
       "</style>\n",
       "<table border=\"1\" class=\"dataframe\">\n",
       "  <thead>\n",
       "    <tr style=\"text-align: right;\">\n",
       "      <th></th>\n",
       "      <th>Price</th>\n",
       "    </tr>\n",
       "    <tr>\n",
       "      <th>ID</th>\n",
       "      <th></th>\n",
       "    </tr>\n",
       "  </thead>\n",
       "  <tbody>\n",
       "    <tr>\n",
       "      <th>0</th>\n",
       "      <td>33090.508914</td>\n",
       "    </tr>\n",
       "    <tr>\n",
       "      <th>1</th>\n",
       "      <td>76303.572981</td>\n",
       "    </tr>\n",
       "    <tr>\n",
       "      <th>2</th>\n",
       "      <td>59899.545636</td>\n",
       "    </tr>\n",
       "    <tr>\n",
       "      <th>3</th>\n",
       "      <td>49899.386315</td>\n",
       "    </tr>\n",
       "    <tr>\n",
       "      <th>4</th>\n",
       "      <td>16701.398033</td>\n",
       "    </tr>\n",
       "  </tbody>\n",
       "</table>\n",
       "</div>"
      ],
      "text/plain": [
       "           Price\n",
       "ID              \n",
       "0   33090.508914\n",
       "1   76303.572981\n",
       "2   59899.545636\n",
       "3   49899.386315\n",
       "4   16701.398033"
      ]
     },
     "execution_count": 12,
     "metadata": {},
     "output_type": "execute_result"
    }
   ],
   "source": [
    "# Guardar predicciones en formato exigido en la competencia de kaggle\n",
    "y_pred.to_csv('test_submission.csv', index_label='ID')\n",
    "y_pred.head()"
   ]
  },
  {
   "cell_type": "markdown",
   "metadata": {
    "id": "1FDXk01NxvKw"
   },
   "source": [
    "## Preprocesamiento de datos"
   ]
  },
  {
   "cell_type": "markdown",
   "metadata": {},
   "source": []
  },
  {
   "cell_type": "code",
   "execution_count": 13,
   "metadata": {
    "colab": {
     "base_uri": "https://localhost:8080/"
    },
    "id": "sOUWosbsxvKx",
    "outputId": "752aa8b1-3fc0-4016-a5ba-2184bac35b6f"
   },
   "outputs": [
    {
     "data": {
      "text/plain": [
       "array(['Jeep', 'Chevrolet', 'BMW', 'Cadillac', 'Mercedes-Benz', 'Toyota',\n",
       "       'Buick', 'Dodge', 'Volkswagen', 'GMC', 'Ford', 'Hyundai',\n",
       "       'Mitsubishi', 'Honda', 'Nissan', 'Mazda', 'Volvo', 'Kia', 'Subaru',\n",
       "       'Chrysler', 'INFINITI', 'Land', 'Porsche', 'Lexus', 'MINI',\n",
       "       'Lincoln', 'Audi', 'Ram', 'Mercury', 'Tesla', 'FIAT', 'Acura',\n",
       "       'Scion', 'Pontiac', 'Jaguar', 'Bentley', 'Suzuki', 'Freightliner'],\n",
       "      dtype=object)"
      ]
     },
     "execution_count": 13,
     "metadata": {},
     "output_type": "execute_result"
    }
   ],
   "source": [
    "dataTraining['Make'].unique()"
   ]
  },
  {
   "cell_type": "code",
   "execution_count": 14,
   "metadata": {
    "colab": {
     "base_uri": "https://localhost:8080/"
    },
    "id": "aCu7G5E8xvKy",
    "outputId": "067b3d26-348e-4a81-b2b0-34dd8f960baa",
    "scrolled": true
   },
   "outputs": [
    {
     "data": {
      "text/plain": [
       "array(['Wrangler', 'Tahoe4WD', 'X5AWD', 'SRXLuxury', '3', 'C-ClassC300',\n",
       "       'CamryL', 'TacomaPreRunner', 'LaCrosse4dr', 'ChargerSXT',\n",
       "       'CamryLE', 'Jetta', 'AcadiaFWD', 'EscapeSE', 'SonataLimited',\n",
       "       'Santa', 'Outlander', 'CruzeSedan', 'Civic', 'CorollaL', '350Z2dr',\n",
       "       'EdgeSEL', 'F-1502WD', 'FocusSE', 'PatriotSport', 'Accord',\n",
       "       'MustangGT', 'FusionHybrid', 'ColoradoCrew', 'Wrangler4WD',\n",
       "       'CR-VEX-L', 'CTS', 'CherokeeLimited', 'Yukon', 'Elantra', 'New',\n",
       "       'CorollaLE', 'Canyon4WD', 'Golf', 'Sonata4dr', 'Elantra4dr',\n",
       "       'PatriotLatitude', 'Mazda35dr', 'Tacoma2WD', 'Corolla4dr',\n",
       "       'Silverado', 'TerrainFWD', 'EscapeFWD', 'Grand', 'RAV4FWD',\n",
       "       'Liberty4WD', 'FocusTitanium', 'DurangoAWD', 'S60T5', 'CivicLX',\n",
       "       'MuranoAWD', 'ForteEX', 'TraverseAWD', 'CamaroConvertible',\n",
       "       'Sportage2WD', 'Pathfinder4WD', 'Highlander4dr', 'WRXSTI', 'Ram',\n",
       "       'F-150XLT', 'SiennaXLE', 'LaCrosseFWD', 'RogueFWD', 'CamaroCoupe',\n",
       "       'JourneySXT', 'AccordEX-L', 'Escape4WD', 'OptimaEX', 'FusionSE',\n",
       "       '5', 'F-150SuperCrew', '200Limited', 'Malibu', 'CompassSport',\n",
       "       'G37', 'CanyonCrew', 'Malibu1LT', 'MustangPremium', 'MustangBase',\n",
       "       'Sierra', 'FlexLimited', 'Tahoe2WD', 'Transit', 'Outback2.5i',\n",
       "       'TucsonLimited', 'Rover', 'CayenneAWD', 'MalibuLT', 'TucsonFWD',\n",
       "       'F-150FX2', 'Camaro2dr', 'Colorado4WD', 'SonataSE', 'ESES',\n",
       "       'EnclavePremium', 'CR-VEX', 'F-150STX', 'Impreza', 'EquinoxFWD',\n",
       "       'Cooper', 'Super', 'Passat4dr', '911', 'CivicEX', 'CamrySE',\n",
       "       'Highlander4WD', 'Corvette2dr', '200S', 'PilotLX', 'SorentoEX',\n",
       "       'RioLX', 'ExplorerXLT', 'CorvetteCoupe', 'EnclaveLeather',\n",
       "       'Avalanche4WD', 'TacomaBase', 'Versa5dr', 'MKXFWD',\n",
       "       'SL-ClassSL500', 'VeracruzFWD', 'CorollaS', 'PriusTwo', 'CR-V2WD',\n",
       "       'Lucerne4dr', '4Runner4dr', 'PilotTouring', 'CR-VLX',\n",
       "       'CompassLatitude', 'Altima4dr', 'OptimaLX', 'Focus5dr',\n",
       "       'Charger4dr', 'AcadiaAWD', 'JourneyFWD', '7', 'RX', 'MalibuLS',\n",
       "       'LSLS', 'SportageLX', 'Yukon4WD', 'SorentoLX', 'TiguanSEL',\n",
       "       'Camry4dr', 'F-1504WD', 'PriusBase', 'AccordLX', 'Q7quattro',\n",
       "       'ExplorerLimited', '4RunnerSR5', 'OdysseyEX-L', 'C-ClassC',\n",
       "       'CX-9FWD', 'JourneyAWD', 'Sorento2WD', 'F-250Lariat', 'Prius',\n",
       "       'TahoeLT', '25004WD', 'Escalade4dr', 'GTI4dr', '4RunnerRWD',\n",
       "       'FX35AWD', 'XC90T6', 'Taurus4dr', 'AvalonXLE', '300300S', 'G35',\n",
       "       'F-150Platinum', 'TerrainAWD', 'GXGX', 'MKXAWD', 'Town',\n",
       "       'CamryXLE', 'VeracruzAWD', 'FusionS', 'Challenger2dr', 'Tundra',\n",
       "       'Navigator4WD', 'Legacy3.6R', 'GS', 'E-ClassE350', 'Suburban2WD',\n",
       "       'A44dr', 'RegalTurbo', 'Outback3.6R', '4Runner4WD', 'Legacy2.5i',\n",
       "       '1', 'Yukon2WD', 'Explorer', 'PilotEX-L', '200LX', 'M-ClassML350',\n",
       "       'RAV4XLE', 'WranglerSport', 'Model', 'FJ', 'Titan', 'Titan4WD',\n",
       "       'FlexSEL', 'OdysseyTouring', 'SorentoSX', 'RAV4Base', 'OdysseyEX',\n",
       "       'Explorer4WD', 'Mustang2dr', 'EdgeLimited', 'FusionSEL',\n",
       "       'Yukon4dr', 'Touareg4dr', 'Matrix5dr', 'CTCT', 'CherokeeSport',\n",
       "       '6', 'Maxima4dr', 'Frontier4WD', 'PriusThree', 'F-350XL', '500Pop',\n",
       "       'RDXAWD', 'Tacoma4WD', 'Optima4dr', 'Q5quattro', 'X3xDrive28i',\n",
       "       'RDXFWD', 'X5xDrive35i', 'Malibu4dr', 'ExpeditionXLT', 'Ranger2WD',\n",
       "       'Patriot4WD', 'Quest4dr', 'TaurusSE', 'PathfinderS', 'Murano2WD',\n",
       "       'LS', 'SiennaLimited', 'ES', 'SiennaLE', 'F-150Lariat', 'Titan2WD',\n",
       "       'Durango2WD', 'Tahoe4dr', 'Focus4dr', 'YarisBase', 'TaurusLimited',\n",
       "       'RAV44WD', 'C-Class4dr', 'Soul+', 'TundraBase', 'Expedition',\n",
       "       'ImpalaLT', 'SedonaLX', 'Sequoia4WD', 'ElantraLimited', '15002WD',\n",
       "       'Suburban4WD', 'FiestaSE', '15004WD', 'TundraSR5', 'Camry',\n",
       "       'RAV4Limited', 'RangerSuperCab', 'MDXAWD', 'RAV4LE',\n",
       "       'ChallengerR/T', 'FlexSE', 'ForteLX', 'TraverseFWD',\n",
       "       'LibertySport', 'ISIS', 'Impala4dr', 'Tundra4WD', 'F-250XLT',\n",
       "       'RXRX', 'Armada2WD', 'Frontier', 'WranglerRubicon', 'EquinoxAWD',\n",
       "       'PilotEX', 'TiguanS', 'EscaladeAWD', 'DTS4dr', 'Pilot2WD',\n",
       "       'Express', 'PacificaLimited', 'CanyonExtended', 'MX5', 'EscapeS',\n",
       "       'IS', 'C-ClassC350', 'Compass4WD', 'SportageEX', 'Legacy',\n",
       "       'E-ClassE', 'Dakota4WD', '300300C', 'Forte', 'SportageAWD',\n",
       "       'TaurusSEL', 'Xterra4WD', 'GSGS', 'Explorer4dr', 'F-150XL',\n",
       "       'SportageSX', 'xB5dr', 'TundraLimited', 'CruzeLT', 'Wrangler2dr',\n",
       "       'HighlanderFWD', 'Sprinter', 'Highlander', 'Prius5dr', 'CX-9Grand',\n",
       "       'CTS4dr', 'Econoline', 'AccordEX', 'RAV4Sport', '35004WD',\n",
       "       'ChargerSE', 'OdysseyLX', 'TucsonAWD', 'CX-7FWD', 'AccordLX-S',\n",
       "       'Navigator4dr', 'EscapeXLT', 'TiguanSE', 'Cayman2dr', 'TaurusSHO',\n",
       "       'F-150FX4', 'Ranger4WD', 'OptimaSX', 'SequoiaSR5', 'G64dr',\n",
       "       'HighlanderLimited', 'ExplorerFWD', 'F-350King', 'PriusFive',\n",
       "       'Yaris4dr', 'PatriotLimited', 'Lancer4dr', 'HighlanderSE',\n",
       "       'CompassLimited', 'S2000Manual', 'F-250King', 'Forester2.5X',\n",
       "       'Fusion4dr', 'Frontier2WD', 'FocusST', 'Pathfinder2WD',\n",
       "       'Sentra4dr', 'XF4dr', 'F-250XL', 'PacificaTouring',\n",
       "       'MustangDeluxe', 'Caliber4dr', 'GTI2dr', 'Mazda34dr', 'FocusS',\n",
       "       'Sienna5dr', 'CR-V4WD', 'CX-9Touring', 'Mazda64dr', 'Forester4dr',\n",
       "       '1500Tradesman', 'MDX4WD', 'Escalade', 'TL4dr', 'CX-9AWD',\n",
       "       'Canyon2WD', 'A64dr', 'A8', 'Armada4WD', 'Impreza2.0i', 'GX',\n",
       "       'QX564WD', 'CC4dr', 'MKZ4dr', 'Yaris', 'FitSport', 'Regal4dr',\n",
       "       'Tundra2WD', 'X3AWD', 'SonicSedan', 'Cobalt4dr', 'RidgelineRTL',\n",
       "       'CivicSi', 'AvalonLimited', 'XC90FWD', 'Outlander2WD', 'RAV44dr',\n",
       "       'ColoradoExtended', 'ExpeditionLimited', '3004dr', '200Touring',\n",
       "       'SC', 'X1xDrive28i', 'SonicHatch', 'GLI4dr', 'PilotSE', 'Savana',\n",
       "       'RegalPremium', 'CR-VSE', 'RegalGS', 'XC90AWD', 'EdgeSport',\n",
       "       'PriusFour', 'SiennaSE', '1500Laramie', '300Base', 'Pilot4WD',\n",
       "       'A34dr', 'HighlanderBase', 'Expedition4WD', 'STS4dr', 'SoulBase',\n",
       "       'Xterra2WD', 'CT', 'tC2dr', 'Tiguan2WD', 'CR-ZEX', 'MustangShelby',\n",
       "       'C702dr', 'WranglerX', 'WranglerSahara', 'DurangoSXT',\n",
       "       'Sequoia4dr', 'Outlander4WD', 'Expedition2WD', 'Navigator',\n",
       "       '9112dr', 'Vibe4dr', 'F-150King', '300Limited', 'XC60T6',\n",
       "       'CivicEX-L', 'Avalanche2WD', 'F-350XLT', 'ExplorerBase', 'MuranoS',\n",
       "       'LXLX', 'EdgeSE', 'ImpalaLS', 'Land', 'E-ClassE320', 'Milan4dr',\n",
       "       'Boxster2dr', 'RAV4', 'Eos2dr', 'SedonaEX', 'xD5dr', 'Colorado2WD',\n",
       "       'Monte', 'Escape4dr', 'LX', 'FiestaS', 'F-350Lariat', 'Galant4dr',\n",
       "       'TT2dr', 'Xterra4dr', 'SequoiaLimited', '4RunnerLimited',\n",
       "       'Genesis', 'Suburban4dr', 'EnclaveConvenience', 'LaCrosseAWD',\n",
       "       'Versa4dr', 'Cobalt2dr', 'XC60FWD', 'F-150Limited', 'Dakota2WD',\n",
       "       'S44dr', '4Runner2WD', 'Sedona4dr', 'RidgelineSport',\n",
       "       'TSXAutomatic', 'ImprezaSport', 'SLK-ClassSLK350', 'Accent4dr',\n",
       "       'CorvetteConvertible', 'Avalon4dr', 'Passat', '25002WD',\n",
       "       'ExplorerEddie', 'LibertyLimited', 'CTS-V', '4RunnerTrail',\n",
       "       'Eclipse3dr', 'Azera4dr', 'TahoeLS', 'Continental', 'XJ4dr',\n",
       "       'ForteSX', 'SequoiaPlatinum', 'FocusSEL', 'Durango4dr',\n",
       "       'CamryBase', 'XC704dr', 'S804dr', 'Element4WD', 'YarisLE',\n",
       "       'WRXBase', 'TLAutomatic', 'AvalonTouring', 'XK2dr', 'PT',\n",
       "       'PathfinderSE', '300Touring', 'Navigator2WD', 'XC60AWD',\n",
       "       'EscapeLimited', 'WRXLimited', 'AccordSE', 'QX562WD',\n",
       "       'Escalade2WD', 'EscapeLImited', 'PriusOne', 'Element2WD',\n",
       "       'Excursion137\"', 'WRXPremium', 'RX-84dr'], dtype=object)"
      ]
     },
     "execution_count": 14,
     "metadata": {},
     "output_type": "execute_result"
    }
   ],
   "source": [
    "dataTraining['Model'].unique()"
   ]
  },
  {
   "cell_type": "code",
   "execution_count": 15,
   "metadata": {
    "colab": {
     "base_uri": "https://localhost:8080/"
    },
    "id": "XXpsIWC1xvKy",
    "outputId": "5cda0f41-db7a-4e57-fdfa-b23a25bafc28",
    "scrolled": true
   },
   "outputs": [
    {
     "data": {
      "text/plain": [
       "array([' FL', ' OH', ' TX', ' CO', ' ME', ' WA', ' CT', ' CA', ' LA',\n",
       "       ' NY', ' PA', ' SC', ' ND', ' NC', ' GA', ' AZ', ' TN', ' KY',\n",
       "       ' NJ', ' UT', ' IA', ' AL', ' NE', ' IL', ' OK', ' MD', ' NV',\n",
       "       ' WV', ' MI', ' VA', ' WI', ' MA', ' OR', ' IN', ' NM', ' MO',\n",
       "       ' HI', ' KS', ' AR', ' MN', ' MS', ' MT', ' AK', ' VT', ' SD',\n",
       "       ' NH', ' DE', ' ID', ' RI', ' WY', ' DC'], dtype=object)"
      ]
     },
     "execution_count": 15,
     "metadata": {},
     "output_type": "execute_result"
    }
   ],
   "source": [
    "dataTraining['State'].unique()"
   ]
  },
  {
   "cell_type": "code",
   "execution_count": 16,
   "metadata": {
    "colab": {
     "base_uri": "https://localhost:8080/"
    },
    "id": "0Dm4HTt9xvKz",
    "outputId": "d6c990bd-075b-4385-9f63-eeaaed792885",
    "scrolled": true
   },
   "outputs": [
    {
     "name": "stdout",
     "output_type": "stream",
     "text": [
      "<bound method NDFrame.describe of         Price  Year  Mileage State        Make           Model\n",
      "0       34995  2017     9913    FL        Jeep        Wrangler\n",
      "1       37895  2015    20578    OH   Chevrolet        Tahoe4WD\n",
      "2       18430  2012    83716    TX         BMW           X5AWD\n",
      "3       24681  2014    28729    OH    Cadillac       SRXLuxury\n",
      "4       26998  2013    64032    CO        Jeep        Wrangler\n",
      "...       ...   ...      ...   ...         ...             ...\n",
      "399995  29900  2015    25287    TX       Lexus            RXRX\n",
      "399996  17688  2015    17677    MI   Chevrolet      EquinoxFWD\n",
      "399997  24907  2014    66688    NC       Buick  EnclaveLeather\n",
      "399998  11498  2014    37872    IN  Volkswagen           Jetta\n",
      "399999  16900  2014    78606    CO      Nissan     PathfinderS\n",
      "\n",
      "[400000 rows x 6 columns]>\n"
     ]
    }
   ],
   "source": [
    "print(dataTraining.describe)"
   ]
  },
  {
   "cell_type": "code",
   "execution_count": 39,
   "metadata": {
    "colab": {
     "base_uri": "https://localhost:8080/"
    },
    "id": "hKJzL3pTxvKz",
    "outputId": "5e986ca8-3e51-4f85-c19d-230d1efc853c"
   },
   "outputs": [
    {
     "data": {
      "text/plain": [
       "False"
      ]
     },
     "execution_count": 39,
     "metadata": {},
     "output_type": "execute_result"
    }
   ],
   "source": [
    "dataTraining.isnull().values.any()"
   ]
  },
  {
   "cell_type": "code",
   "execution_count": 52,
   "metadata": {
    "colab": {
     "base_uri": "https://localhost:8080/"
    },
    "id": "9-MBvb5FxvKz",
    "outputId": "1f15f8d9-1928-431a-f01f-903e7011b8ca",
    "scrolled": true
   },
   "outputs": [
    {
     "data": {
      "text/plain": [
       "Silverado          18085\n",
       "Grand              12344\n",
       "Sierra              8409\n",
       "Accord              7357\n",
       "F-1504WD            6684\n",
       "                   ...  \n",
       "PathfinderSE          53\n",
       "Galant4dr             53\n",
       "SLK-ClassSLK350       52\n",
       "Monte                 48\n",
       "RX-84dr               48\n",
       "Name: Model, Length: 525, dtype: int64"
      ]
     },
     "execution_count": 52,
     "metadata": {},
     "output_type": "execute_result"
    }
   ],
   "source": [
    "dataTraining['Model'].value_counts()"
   ]
  },
  {
   "cell_type": "code",
   "execution_count": 53,
   "metadata": {
    "id": "kDQQEw4c8CaA"
   },
   "outputs": [],
   "source": [
    "# Create arrary of categorial variables to be encoded\n",
    "categorical_cols = ['State', 'Make', 'Model']\n",
    "le = LabelEncoder()\n",
    "# apply label encoder on categorical feature columns\n",
    "dataTraining[categorical_cols] = dataTraining[categorical_cols].apply(lambda col: le.fit_transform(col))"
   ]
  },
  {
   "cell_type": "code",
   "execution_count": 54,
   "metadata": {
    "id": "Xf3ztuflxvK0"
   },
   "outputs": [],
   "source": [
    "Y = (dataTraining.Price)\n",
    "X = dataTraining.drop(['Price'], axis=1)"
   ]
  },
  {
   "cell_type": "code",
   "execution_count": 55,
   "metadata": {
    "colab": {
     "base_uri": "https://localhost:8080/",
     "height": 423
    },
    "id": "HQyGOXZ18VcK",
    "outputId": "1625f021-3740-424e-c3c4-fb5365161b76"
   },
   "outputs": [
    {
     "data": {
      "text/html": [
       "<div>\n",
       "<style scoped>\n",
       "    .dataframe tbody tr th:only-of-type {\n",
       "        vertical-align: middle;\n",
       "    }\n",
       "\n",
       "    .dataframe tbody tr th {\n",
       "        vertical-align: top;\n",
       "    }\n",
       "\n",
       "    .dataframe thead th {\n",
       "        text-align: right;\n",
       "    }\n",
       "</style>\n",
       "<table border=\"1\" class=\"dataframe\">\n",
       "  <thead>\n",
       "    <tr style=\"text-align: right;\">\n",
       "      <th></th>\n",
       "      <th>Year</th>\n",
       "      <th>Mileage</th>\n",
       "      <th>State</th>\n",
       "      <th>Make</th>\n",
       "      <th>Model</th>\n",
       "    </tr>\n",
       "  </thead>\n",
       "  <tbody>\n",
       "    <tr>\n",
       "      <th>0</th>\n",
       "      <td>2017</td>\n",
       "      <td>9913</td>\n",
       "      <td>9</td>\n",
       "      <td>17</td>\n",
       "      <td>489</td>\n",
       "    </tr>\n",
       "    <tr>\n",
       "      <th>1</th>\n",
       "      <td>2015</td>\n",
       "      <td>20578</td>\n",
       "      <td>35</td>\n",
       "      <td>6</td>\n",
       "      <td>448</td>\n",
       "    </tr>\n",
       "    <tr>\n",
       "      <th>2</th>\n",
       "      <td>2012</td>\n",
       "      <td>83716</td>\n",
       "      <td>43</td>\n",
       "      <td>2</td>\n",
       "      <td>499</td>\n",
       "    </tr>\n",
       "    <tr>\n",
       "      <th>3</th>\n",
       "      <td>2014</td>\n",
       "      <td>28729</td>\n",
       "      <td>35</td>\n",
       "      <td>5</td>\n",
       "      <td>398</td>\n",
       "    </tr>\n",
       "    <tr>\n",
       "      <th>4</th>\n",
       "      <td>2013</td>\n",
       "      <td>64032</td>\n",
       "      <td>5</td>\n",
       "      <td>17</td>\n",
       "      <td>489</td>\n",
       "    </tr>\n",
       "    <tr>\n",
       "      <th>...</th>\n",
       "      <td>...</td>\n",
       "      <td>...</td>\n",
       "      <td>...</td>\n",
       "      <td>...</td>\n",
       "      <td>...</td>\n",
       "    </tr>\n",
       "    <tr>\n",
       "      <th>399995</th>\n",
       "      <td>2015</td>\n",
       "      <td>25287</td>\n",
       "      <td>43</td>\n",
       "      <td>20</td>\n",
       "      <td>377</td>\n",
       "    </tr>\n",
       "    <tr>\n",
       "      <th>399996</th>\n",
       "      <td>2015</td>\n",
       "      <td>17677</td>\n",
       "      <td>22</td>\n",
       "      <td>6</td>\n",
       "      <td>158</td>\n",
       "    </tr>\n",
       "    <tr>\n",
       "      <th>399997</th>\n",
       "      <td>2014</td>\n",
       "      <td>66688</td>\n",
       "      <td>27</td>\n",
       "      <td>4</td>\n",
       "      <td>154</td>\n",
       "    </tr>\n",
       "    <tr>\n",
       "      <th>399998</th>\n",
       "      <td>2014</td>\n",
       "      <td>37872</td>\n",
       "      <td>15</td>\n",
       "      <td>36</td>\n",
       "      <td>264</td>\n",
       "    </tr>\n",
       "    <tr>\n",
       "      <th>399999</th>\n",
       "      <td>2014</td>\n",
       "      <td>78606</td>\n",
       "      <td>5</td>\n",
       "      <td>27</td>\n",
       "      <td>338</td>\n",
       "    </tr>\n",
       "  </tbody>\n",
       "</table>\n",
       "<p>400000 rows × 5 columns</p>\n",
       "</div>"
      ],
      "text/plain": [
       "        Year  Mileage  State  Make  Model\n",
       "0       2017     9913      9    17    489\n",
       "1       2015    20578     35     6    448\n",
       "2       2012    83716     43     2    499\n",
       "3       2014    28729     35     5    398\n",
       "4       2013    64032      5    17    489\n",
       "...      ...      ...    ...   ...    ...\n",
       "399995  2015    25287     43    20    377\n",
       "399996  2015    17677     22     6    158\n",
       "399997  2014    66688     27     4    154\n",
       "399998  2014    37872     15    36    264\n",
       "399999  2014    78606      5    27    338\n",
       "\n",
       "[400000 rows x 5 columns]"
      ]
     },
     "execution_count": 55,
     "metadata": {},
     "output_type": "execute_result"
    }
   ],
   "source": [
    "X"
   ]
  },
  {
   "cell_type": "code",
   "execution_count": 47,
   "metadata": {
    "id": "lzdxfhiYxvK1"
   },
   "outputs": [],
   "source": [
    "# Separación de datos en set de entrenamiento y test\n",
    "from sklearn.model_selection import train_test_split\n",
    "X_train, X_test, y_train, y_test = train_test_split(X, Y, test_size=0.95, random_state=42)"
   ]
  },
  {
   "cell_type": "markdown",
   "metadata": {
    "id": "nK80T4a-xvK1"
   },
   "source": [
    "## Calibracion del modelo XGBoost"
   ]
  },
  {
   "cell_type": "code",
   "execution_count": 48,
   "metadata": {
    "id": "t6rirPnaxvK1"
   },
   "outputs": [],
   "source": [
    "import xgboost as xgb\n",
    "from sklearn.metrics import mean_squared_error\n",
    "from sklearn.model_selection import cross_val_score\n",
    "from xgboost import XGBRegressor"
   ]
  },
  {
   "cell_type": "code",
   "execution_count": 24,
   "metadata": {
    "colab": {
     "base_uri": "https://localhost:8080/"
    },
    "id": "hwX_FYO8JabA",
    "outputId": "6f731f28-0613-4b5c-f6de-8717ee8a78be"
   },
   "outputs": [
    {
     "ename": "KeyboardInterrupt",
     "evalue": "",
     "output_type": "error",
     "traceback": [
      "\u001b[1;31m---------------------------------------------------------------------------\u001b[0m",
      "\u001b[1;31mKeyboardInterrupt\u001b[0m                         Traceback (most recent call last)",
      "\u001b[1;32m~\\AppData\\Local\\Temp\\ipykernel_20840\\265008692.py\u001b[0m in \u001b[0;36m<module>\u001b[1;34m\u001b[0m\n\u001b[0;32m      2\u001b[0m \u001b[0mlearning_range\u001b[0m \u001b[1;33m=\u001b[0m \u001b[1;33m[\u001b[0m\u001b[1;36m0.01\u001b[0m\u001b[1;33m,\u001b[0m \u001b[1;36m0.05\u001b[0m\u001b[1;33m,\u001b[0m \u001b[1;36m0.1\u001b[0m\u001b[1;33m,\u001b[0m \u001b[1;36m0.15\u001b[0m\u001b[1;33m,\u001b[0m \u001b[1;36m0.20\u001b[0m\u001b[1;33m,\u001b[0m \u001b[1;36m0.25\u001b[0m\u001b[1;33m,\u001b[0m \u001b[1;36m0.3\u001b[0m\u001b[1;33m]\u001b[0m\u001b[1;33m\u001b[0m\u001b[1;33m\u001b[0m\u001b[0m\n\u001b[0;32m      3\u001b[0m \u001b[1;32mfor\u001b[0m \u001b[0mval\u001b[0m \u001b[1;32min\u001b[0m \u001b[0mlearning_range\u001b[0m\u001b[1;33m:\u001b[0m\u001b[1;33m\u001b[0m\u001b[1;33m\u001b[0m\u001b[0m\n\u001b[1;32m----> 4\u001b[1;33m     \u001b[0mscore\u001b[0m \u001b[1;33m=\u001b[0m \u001b[0mcross_val_score\u001b[0m\u001b[1;33m(\u001b[0m\u001b[0mXGBRegressor\u001b[0m\u001b[1;33m(\u001b[0m\u001b[0mlearning_rate\u001b[0m\u001b[1;33m=\u001b[0m \u001b[0mval\u001b[0m\u001b[1;33m,\u001b[0m \u001b[0mrandom_state\u001b[0m\u001b[1;33m=\u001b[0m \u001b[1;36m42\u001b[0m\u001b[1;33m)\u001b[0m\u001b[1;33m,\u001b[0m \u001b[0mX\u001b[0m\u001b[1;33m,\u001b[0m \u001b[0mY\u001b[0m\u001b[1;33m,\u001b[0m \u001b[0mscoring\u001b[0m\u001b[1;33m=\u001b[0m\u001b[1;34m\"neg_root_mean_squared_error\"\u001b[0m\u001b[1;33m)\u001b[0m\u001b[1;33m\u001b[0m\u001b[1;33m\u001b[0m\u001b[0m\n\u001b[0m\u001b[0;32m      5\u001b[0m     \u001b[0mprint\u001b[0m\u001b[1;33m(\u001b[0m\u001b[1;34mf'Average score({val}): {\"{:.3f}\".format(score.mean())}'\u001b[0m\u001b[1;33m)\u001b[0m\u001b[1;33m\u001b[0m\u001b[1;33m\u001b[0m\u001b[0m\n",
      "\u001b[1;32mc:\\ProgramData\\Anaconda3\\lib\\site-packages\\sklearn\\model_selection\\_validation.py\u001b[0m in \u001b[0;36mcross_val_score\u001b[1;34m(estimator, X, y, groups, scoring, cv, n_jobs, verbose, fit_params, pre_dispatch, error_score)\u001b[0m\n\u001b[0;32m    507\u001b[0m     \u001b[0mscorer\u001b[0m \u001b[1;33m=\u001b[0m \u001b[0mcheck_scoring\u001b[0m\u001b[1;33m(\u001b[0m\u001b[0mestimator\u001b[0m\u001b[1;33m,\u001b[0m \u001b[0mscoring\u001b[0m\u001b[1;33m=\u001b[0m\u001b[0mscoring\u001b[0m\u001b[1;33m)\u001b[0m\u001b[1;33m\u001b[0m\u001b[1;33m\u001b[0m\u001b[0m\n\u001b[0;32m    508\u001b[0m \u001b[1;33m\u001b[0m\u001b[0m\n\u001b[1;32m--> 509\u001b[1;33m     cv_results = cross_validate(\n\u001b[0m\u001b[0;32m    510\u001b[0m         \u001b[0mestimator\u001b[0m\u001b[1;33m=\u001b[0m\u001b[0mestimator\u001b[0m\u001b[1;33m,\u001b[0m\u001b[1;33m\u001b[0m\u001b[1;33m\u001b[0m\u001b[0m\n\u001b[0;32m    511\u001b[0m         \u001b[0mX\u001b[0m\u001b[1;33m=\u001b[0m\u001b[0mX\u001b[0m\u001b[1;33m,\u001b[0m\u001b[1;33m\u001b[0m\u001b[1;33m\u001b[0m\u001b[0m\n",
      "\u001b[1;32mc:\\ProgramData\\Anaconda3\\lib\\site-packages\\sklearn\\model_selection\\_validation.py\u001b[0m in \u001b[0;36mcross_validate\u001b[1;34m(estimator, X, y, groups, scoring, cv, n_jobs, verbose, fit_params, pre_dispatch, return_train_score, return_estimator, error_score)\u001b[0m\n\u001b[0;32m    265\u001b[0m     \u001b[1;31m# independent, and that it is pickle-able.\u001b[0m\u001b[1;33m\u001b[0m\u001b[1;33m\u001b[0m\u001b[0m\n\u001b[0;32m    266\u001b[0m     \u001b[0mparallel\u001b[0m \u001b[1;33m=\u001b[0m \u001b[0mParallel\u001b[0m\u001b[1;33m(\u001b[0m\u001b[0mn_jobs\u001b[0m\u001b[1;33m=\u001b[0m\u001b[0mn_jobs\u001b[0m\u001b[1;33m,\u001b[0m \u001b[0mverbose\u001b[0m\u001b[1;33m=\u001b[0m\u001b[0mverbose\u001b[0m\u001b[1;33m,\u001b[0m \u001b[0mpre_dispatch\u001b[0m\u001b[1;33m=\u001b[0m\u001b[0mpre_dispatch\u001b[0m\u001b[1;33m)\u001b[0m\u001b[1;33m\u001b[0m\u001b[1;33m\u001b[0m\u001b[0m\n\u001b[1;32m--> 267\u001b[1;33m     results = parallel(\n\u001b[0m\u001b[0;32m    268\u001b[0m         delayed(_fit_and_score)(\n\u001b[0;32m    269\u001b[0m             \u001b[0mclone\u001b[0m\u001b[1;33m(\u001b[0m\u001b[0mestimator\u001b[0m\u001b[1;33m)\u001b[0m\u001b[1;33m,\u001b[0m\u001b[1;33m\u001b[0m\u001b[1;33m\u001b[0m\u001b[0m\n",
      "\u001b[1;32mc:\\ProgramData\\Anaconda3\\lib\\site-packages\\joblib\\parallel.py\u001b[0m in \u001b[0;36m__call__\u001b[1;34m(self, iterable)\u001b[0m\n\u001b[0;32m   1041\u001b[0m             \u001b[1;31m# remaining jobs.\u001b[0m\u001b[1;33m\u001b[0m\u001b[1;33m\u001b[0m\u001b[0m\n\u001b[0;32m   1042\u001b[0m             \u001b[0mself\u001b[0m\u001b[1;33m.\u001b[0m\u001b[0m_iterating\u001b[0m \u001b[1;33m=\u001b[0m \u001b[1;32mFalse\u001b[0m\u001b[1;33m\u001b[0m\u001b[1;33m\u001b[0m\u001b[0m\n\u001b[1;32m-> 1043\u001b[1;33m             \u001b[1;32mif\u001b[0m \u001b[0mself\u001b[0m\u001b[1;33m.\u001b[0m\u001b[0mdispatch_one_batch\u001b[0m\u001b[1;33m(\u001b[0m\u001b[0miterator\u001b[0m\u001b[1;33m)\u001b[0m\u001b[1;33m:\u001b[0m\u001b[1;33m\u001b[0m\u001b[1;33m\u001b[0m\u001b[0m\n\u001b[0m\u001b[0;32m   1044\u001b[0m                 \u001b[0mself\u001b[0m\u001b[1;33m.\u001b[0m\u001b[0m_iterating\u001b[0m \u001b[1;33m=\u001b[0m \u001b[0mself\u001b[0m\u001b[1;33m.\u001b[0m\u001b[0m_original_iterator\u001b[0m \u001b[1;32mis\u001b[0m \u001b[1;32mnot\u001b[0m \u001b[1;32mNone\u001b[0m\u001b[1;33m\u001b[0m\u001b[1;33m\u001b[0m\u001b[0m\n\u001b[0;32m   1045\u001b[0m \u001b[1;33m\u001b[0m\u001b[0m\n",
      "\u001b[1;32mc:\\ProgramData\\Anaconda3\\lib\\site-packages\\joblib\\parallel.py\u001b[0m in \u001b[0;36mdispatch_one_batch\u001b[1;34m(self, iterator)\u001b[0m\n\u001b[0;32m    859\u001b[0m                 \u001b[1;32mreturn\u001b[0m \u001b[1;32mFalse\u001b[0m\u001b[1;33m\u001b[0m\u001b[1;33m\u001b[0m\u001b[0m\n\u001b[0;32m    860\u001b[0m             \u001b[1;32melse\u001b[0m\u001b[1;33m:\u001b[0m\u001b[1;33m\u001b[0m\u001b[1;33m\u001b[0m\u001b[0m\n\u001b[1;32m--> 861\u001b[1;33m                 \u001b[0mself\u001b[0m\u001b[1;33m.\u001b[0m\u001b[0m_dispatch\u001b[0m\u001b[1;33m(\u001b[0m\u001b[0mtasks\u001b[0m\u001b[1;33m)\u001b[0m\u001b[1;33m\u001b[0m\u001b[1;33m\u001b[0m\u001b[0m\n\u001b[0m\u001b[0;32m    862\u001b[0m                 \u001b[1;32mreturn\u001b[0m \u001b[1;32mTrue\u001b[0m\u001b[1;33m\u001b[0m\u001b[1;33m\u001b[0m\u001b[0m\n\u001b[0;32m    863\u001b[0m \u001b[1;33m\u001b[0m\u001b[0m\n",
      "\u001b[1;32mc:\\ProgramData\\Anaconda3\\lib\\site-packages\\joblib\\parallel.py\u001b[0m in \u001b[0;36m_dispatch\u001b[1;34m(self, batch)\u001b[0m\n\u001b[0;32m    777\u001b[0m         \u001b[1;32mwith\u001b[0m \u001b[0mself\u001b[0m\u001b[1;33m.\u001b[0m\u001b[0m_lock\u001b[0m\u001b[1;33m:\u001b[0m\u001b[1;33m\u001b[0m\u001b[1;33m\u001b[0m\u001b[0m\n\u001b[0;32m    778\u001b[0m             \u001b[0mjob_idx\u001b[0m \u001b[1;33m=\u001b[0m \u001b[0mlen\u001b[0m\u001b[1;33m(\u001b[0m\u001b[0mself\u001b[0m\u001b[1;33m.\u001b[0m\u001b[0m_jobs\u001b[0m\u001b[1;33m)\u001b[0m\u001b[1;33m\u001b[0m\u001b[1;33m\u001b[0m\u001b[0m\n\u001b[1;32m--> 779\u001b[1;33m             \u001b[0mjob\u001b[0m \u001b[1;33m=\u001b[0m \u001b[0mself\u001b[0m\u001b[1;33m.\u001b[0m\u001b[0m_backend\u001b[0m\u001b[1;33m.\u001b[0m\u001b[0mapply_async\u001b[0m\u001b[1;33m(\u001b[0m\u001b[0mbatch\u001b[0m\u001b[1;33m,\u001b[0m \u001b[0mcallback\u001b[0m\u001b[1;33m=\u001b[0m\u001b[0mcb\u001b[0m\u001b[1;33m)\u001b[0m\u001b[1;33m\u001b[0m\u001b[1;33m\u001b[0m\u001b[0m\n\u001b[0m\u001b[0;32m    780\u001b[0m             \u001b[1;31m# A job can complete so quickly than its callback is\u001b[0m\u001b[1;33m\u001b[0m\u001b[1;33m\u001b[0m\u001b[0m\n\u001b[0;32m    781\u001b[0m             \u001b[1;31m# called before we get here, causing self._jobs to\u001b[0m\u001b[1;33m\u001b[0m\u001b[1;33m\u001b[0m\u001b[0m\n",
      "\u001b[1;32mc:\\ProgramData\\Anaconda3\\lib\\site-packages\\joblib\\_parallel_backends.py\u001b[0m in \u001b[0;36mapply_async\u001b[1;34m(self, func, callback)\u001b[0m\n\u001b[0;32m    206\u001b[0m     \u001b[1;32mdef\u001b[0m \u001b[0mapply_async\u001b[0m\u001b[1;33m(\u001b[0m\u001b[0mself\u001b[0m\u001b[1;33m,\u001b[0m \u001b[0mfunc\u001b[0m\u001b[1;33m,\u001b[0m \u001b[0mcallback\u001b[0m\u001b[1;33m=\u001b[0m\u001b[1;32mNone\u001b[0m\u001b[1;33m)\u001b[0m\u001b[1;33m:\u001b[0m\u001b[1;33m\u001b[0m\u001b[1;33m\u001b[0m\u001b[0m\n\u001b[0;32m    207\u001b[0m         \u001b[1;34m\"\"\"Schedule a func to be run\"\"\"\u001b[0m\u001b[1;33m\u001b[0m\u001b[1;33m\u001b[0m\u001b[0m\n\u001b[1;32m--> 208\u001b[1;33m         \u001b[0mresult\u001b[0m \u001b[1;33m=\u001b[0m \u001b[0mImmediateResult\u001b[0m\u001b[1;33m(\u001b[0m\u001b[0mfunc\u001b[0m\u001b[1;33m)\u001b[0m\u001b[1;33m\u001b[0m\u001b[1;33m\u001b[0m\u001b[0m\n\u001b[0m\u001b[0;32m    209\u001b[0m         \u001b[1;32mif\u001b[0m \u001b[0mcallback\u001b[0m\u001b[1;33m:\u001b[0m\u001b[1;33m\u001b[0m\u001b[1;33m\u001b[0m\u001b[0m\n\u001b[0;32m    210\u001b[0m             \u001b[0mcallback\u001b[0m\u001b[1;33m(\u001b[0m\u001b[0mresult\u001b[0m\u001b[1;33m)\u001b[0m\u001b[1;33m\u001b[0m\u001b[1;33m\u001b[0m\u001b[0m\n",
      "\u001b[1;32mc:\\ProgramData\\Anaconda3\\lib\\site-packages\\joblib\\_parallel_backends.py\u001b[0m in \u001b[0;36m__init__\u001b[1;34m(self, batch)\u001b[0m\n\u001b[0;32m    570\u001b[0m         \u001b[1;31m# Don't delay the application, to avoid keeping the input\u001b[0m\u001b[1;33m\u001b[0m\u001b[1;33m\u001b[0m\u001b[0m\n\u001b[0;32m    571\u001b[0m         \u001b[1;31m# arguments in memory\u001b[0m\u001b[1;33m\u001b[0m\u001b[1;33m\u001b[0m\u001b[0m\n\u001b[1;32m--> 572\u001b[1;33m         \u001b[0mself\u001b[0m\u001b[1;33m.\u001b[0m\u001b[0mresults\u001b[0m \u001b[1;33m=\u001b[0m \u001b[0mbatch\u001b[0m\u001b[1;33m(\u001b[0m\u001b[1;33m)\u001b[0m\u001b[1;33m\u001b[0m\u001b[1;33m\u001b[0m\u001b[0m\n\u001b[0m\u001b[0;32m    573\u001b[0m \u001b[1;33m\u001b[0m\u001b[0m\n\u001b[0;32m    574\u001b[0m     \u001b[1;32mdef\u001b[0m \u001b[0mget\u001b[0m\u001b[1;33m(\u001b[0m\u001b[0mself\u001b[0m\u001b[1;33m)\u001b[0m\u001b[1;33m:\u001b[0m\u001b[1;33m\u001b[0m\u001b[1;33m\u001b[0m\u001b[0m\n",
      "\u001b[1;32mc:\\ProgramData\\Anaconda3\\lib\\site-packages\\joblib\\parallel.py\u001b[0m in \u001b[0;36m__call__\u001b[1;34m(self)\u001b[0m\n\u001b[0;32m    260\u001b[0m         \u001b[1;31m# change the default number of processes to -1\u001b[0m\u001b[1;33m\u001b[0m\u001b[1;33m\u001b[0m\u001b[0m\n\u001b[0;32m    261\u001b[0m         \u001b[1;32mwith\u001b[0m \u001b[0mparallel_backend\u001b[0m\u001b[1;33m(\u001b[0m\u001b[0mself\u001b[0m\u001b[1;33m.\u001b[0m\u001b[0m_backend\u001b[0m\u001b[1;33m,\u001b[0m \u001b[0mn_jobs\u001b[0m\u001b[1;33m=\u001b[0m\u001b[0mself\u001b[0m\u001b[1;33m.\u001b[0m\u001b[0m_n_jobs\u001b[0m\u001b[1;33m)\u001b[0m\u001b[1;33m:\u001b[0m\u001b[1;33m\u001b[0m\u001b[1;33m\u001b[0m\u001b[0m\n\u001b[1;32m--> 262\u001b[1;33m             return [func(*args, **kwargs)\n\u001b[0m\u001b[0;32m    263\u001b[0m                     for func, args, kwargs in self.items]\n\u001b[0;32m    264\u001b[0m \u001b[1;33m\u001b[0m\u001b[0m\n",
      "\u001b[1;32mc:\\ProgramData\\Anaconda3\\lib\\site-packages\\joblib\\parallel.py\u001b[0m in \u001b[0;36m<listcomp>\u001b[1;34m(.0)\u001b[0m\n\u001b[0;32m    260\u001b[0m         \u001b[1;31m# change the default number of processes to -1\u001b[0m\u001b[1;33m\u001b[0m\u001b[1;33m\u001b[0m\u001b[0m\n\u001b[0;32m    261\u001b[0m         \u001b[1;32mwith\u001b[0m \u001b[0mparallel_backend\u001b[0m\u001b[1;33m(\u001b[0m\u001b[0mself\u001b[0m\u001b[1;33m.\u001b[0m\u001b[0m_backend\u001b[0m\u001b[1;33m,\u001b[0m \u001b[0mn_jobs\u001b[0m\u001b[1;33m=\u001b[0m\u001b[0mself\u001b[0m\u001b[1;33m.\u001b[0m\u001b[0m_n_jobs\u001b[0m\u001b[1;33m)\u001b[0m\u001b[1;33m:\u001b[0m\u001b[1;33m\u001b[0m\u001b[1;33m\u001b[0m\u001b[0m\n\u001b[1;32m--> 262\u001b[1;33m             return [func(*args, **kwargs)\n\u001b[0m\u001b[0;32m    263\u001b[0m                     for func, args, kwargs in self.items]\n\u001b[0;32m    264\u001b[0m \u001b[1;33m\u001b[0m\u001b[0m\n",
      "\u001b[1;32mc:\\ProgramData\\Anaconda3\\lib\\site-packages\\sklearn\\utils\\fixes.py\u001b[0m in \u001b[0;36m__call__\u001b[1;34m(self, *args, **kwargs)\u001b[0m\n\u001b[0;32m    214\u001b[0m     \u001b[1;32mdef\u001b[0m \u001b[0m__call__\u001b[0m\u001b[1;33m(\u001b[0m\u001b[0mself\u001b[0m\u001b[1;33m,\u001b[0m \u001b[1;33m*\u001b[0m\u001b[0margs\u001b[0m\u001b[1;33m,\u001b[0m \u001b[1;33m**\u001b[0m\u001b[0mkwargs\u001b[0m\u001b[1;33m)\u001b[0m\u001b[1;33m:\u001b[0m\u001b[1;33m\u001b[0m\u001b[1;33m\u001b[0m\u001b[0m\n\u001b[0;32m    215\u001b[0m         \u001b[1;32mwith\u001b[0m \u001b[0mconfig_context\u001b[0m\u001b[1;33m(\u001b[0m\u001b[1;33m**\u001b[0m\u001b[0mself\u001b[0m\u001b[1;33m.\u001b[0m\u001b[0mconfig\u001b[0m\u001b[1;33m)\u001b[0m\u001b[1;33m:\u001b[0m\u001b[1;33m\u001b[0m\u001b[1;33m\u001b[0m\u001b[0m\n\u001b[1;32m--> 216\u001b[1;33m             \u001b[1;32mreturn\u001b[0m \u001b[0mself\u001b[0m\u001b[1;33m.\u001b[0m\u001b[0mfunction\u001b[0m\u001b[1;33m(\u001b[0m\u001b[1;33m*\u001b[0m\u001b[0margs\u001b[0m\u001b[1;33m,\u001b[0m \u001b[1;33m**\u001b[0m\u001b[0mkwargs\u001b[0m\u001b[1;33m)\u001b[0m\u001b[1;33m\u001b[0m\u001b[1;33m\u001b[0m\u001b[0m\n\u001b[0m\u001b[0;32m    217\u001b[0m \u001b[1;33m\u001b[0m\u001b[0m\n\u001b[0;32m    218\u001b[0m \u001b[1;33m\u001b[0m\u001b[0m\n",
      "\u001b[1;32mc:\\ProgramData\\Anaconda3\\lib\\site-packages\\sklearn\\model_selection\\_validation.py\u001b[0m in \u001b[0;36m_fit_and_score\u001b[1;34m(estimator, X, y, scorer, train, test, verbose, parameters, fit_params, return_train_score, return_parameters, return_n_test_samples, return_times, return_estimator, split_progress, candidate_progress, error_score)\u001b[0m\n\u001b[0;32m    678\u001b[0m             \u001b[0mestimator\u001b[0m\u001b[1;33m.\u001b[0m\u001b[0mfit\u001b[0m\u001b[1;33m(\u001b[0m\u001b[0mX_train\u001b[0m\u001b[1;33m,\u001b[0m \u001b[1;33m**\u001b[0m\u001b[0mfit_params\u001b[0m\u001b[1;33m)\u001b[0m\u001b[1;33m\u001b[0m\u001b[1;33m\u001b[0m\u001b[0m\n\u001b[0;32m    679\u001b[0m         \u001b[1;32melse\u001b[0m\u001b[1;33m:\u001b[0m\u001b[1;33m\u001b[0m\u001b[1;33m\u001b[0m\u001b[0m\n\u001b[1;32m--> 680\u001b[1;33m             \u001b[0mestimator\u001b[0m\u001b[1;33m.\u001b[0m\u001b[0mfit\u001b[0m\u001b[1;33m(\u001b[0m\u001b[0mX_train\u001b[0m\u001b[1;33m,\u001b[0m \u001b[0my_train\u001b[0m\u001b[1;33m,\u001b[0m \u001b[1;33m**\u001b[0m\u001b[0mfit_params\u001b[0m\u001b[1;33m)\u001b[0m\u001b[1;33m\u001b[0m\u001b[1;33m\u001b[0m\u001b[0m\n\u001b[0m\u001b[0;32m    681\u001b[0m \u001b[1;33m\u001b[0m\u001b[0m\n\u001b[0;32m    682\u001b[0m     \u001b[1;32mexcept\u001b[0m \u001b[0mException\u001b[0m\u001b[1;33m:\u001b[0m\u001b[1;33m\u001b[0m\u001b[1;33m\u001b[0m\u001b[0m\n",
      "\u001b[1;32m~\\AppData\\Roaming\\Python\\Python39\\site-packages\\xgboost\\core.py\u001b[0m in \u001b[0;36minner_f\u001b[1;34m(*args, **kwargs)\u001b[0m\n\u001b[0;32m    618\u001b[0m             \u001b[1;32mfor\u001b[0m \u001b[0mk\u001b[0m\u001b[1;33m,\u001b[0m \u001b[0marg\u001b[0m \u001b[1;32min\u001b[0m \u001b[0mzip\u001b[0m\u001b[1;33m(\u001b[0m\u001b[0msig\u001b[0m\u001b[1;33m.\u001b[0m\u001b[0mparameters\u001b[0m\u001b[1;33m,\u001b[0m \u001b[0margs\u001b[0m\u001b[1;33m)\u001b[0m\u001b[1;33m:\u001b[0m\u001b[1;33m\u001b[0m\u001b[1;33m\u001b[0m\u001b[0m\n\u001b[0;32m    619\u001b[0m                 \u001b[0mkwargs\u001b[0m\u001b[1;33m[\u001b[0m\u001b[0mk\u001b[0m\u001b[1;33m]\u001b[0m \u001b[1;33m=\u001b[0m \u001b[0marg\u001b[0m\u001b[1;33m\u001b[0m\u001b[1;33m\u001b[0m\u001b[0m\n\u001b[1;32m--> 620\u001b[1;33m             \u001b[1;32mreturn\u001b[0m \u001b[0mfunc\u001b[0m\u001b[1;33m(\u001b[0m\u001b[1;33m**\u001b[0m\u001b[0mkwargs\u001b[0m\u001b[1;33m)\u001b[0m\u001b[1;33m\u001b[0m\u001b[1;33m\u001b[0m\u001b[0m\n\u001b[0m\u001b[0;32m    621\u001b[0m \u001b[1;33m\u001b[0m\u001b[0m\n\u001b[0;32m    622\u001b[0m         \u001b[1;32mreturn\u001b[0m \u001b[0minner_f\u001b[0m\u001b[1;33m\u001b[0m\u001b[1;33m\u001b[0m\u001b[0m\n",
      "\u001b[1;32m~\\AppData\\Roaming\\Python\\Python39\\site-packages\\xgboost\\sklearn.py\u001b[0m in \u001b[0;36mfit\u001b[1;34m(self, X, y, sample_weight, base_margin, eval_set, eval_metric, early_stopping_rounds, verbose, xgb_model, sample_weight_eval_set, base_margin_eval_set, feature_weights, callbacks)\u001b[0m\n\u001b[0;32m   1023\u001b[0m                 \u001b[0mxgb_model\u001b[0m\u001b[1;33m,\u001b[0m \u001b[0meval_metric\u001b[0m\u001b[1;33m,\u001b[0m \u001b[0mparams\u001b[0m\u001b[1;33m,\u001b[0m \u001b[0mearly_stopping_rounds\u001b[0m\u001b[1;33m,\u001b[0m \u001b[0mcallbacks\u001b[0m\u001b[1;33m\u001b[0m\u001b[1;33m\u001b[0m\u001b[0m\n\u001b[0;32m   1024\u001b[0m             )\n\u001b[1;32m-> 1025\u001b[1;33m             self._Booster = train(\n\u001b[0m\u001b[0;32m   1026\u001b[0m                 \u001b[0mparams\u001b[0m\u001b[1;33m,\u001b[0m\u001b[1;33m\u001b[0m\u001b[1;33m\u001b[0m\u001b[0m\n\u001b[0;32m   1027\u001b[0m                 \u001b[0mtrain_dmatrix\u001b[0m\u001b[1;33m,\u001b[0m\u001b[1;33m\u001b[0m\u001b[1;33m\u001b[0m\u001b[0m\n",
      "\u001b[1;32m~\\AppData\\Roaming\\Python\\Python39\\site-packages\\xgboost\\core.py\u001b[0m in \u001b[0;36minner_f\u001b[1;34m(*args, **kwargs)\u001b[0m\n\u001b[0;32m    618\u001b[0m             \u001b[1;32mfor\u001b[0m \u001b[0mk\u001b[0m\u001b[1;33m,\u001b[0m \u001b[0marg\u001b[0m \u001b[1;32min\u001b[0m \u001b[0mzip\u001b[0m\u001b[1;33m(\u001b[0m\u001b[0msig\u001b[0m\u001b[1;33m.\u001b[0m\u001b[0mparameters\u001b[0m\u001b[1;33m,\u001b[0m \u001b[0margs\u001b[0m\u001b[1;33m)\u001b[0m\u001b[1;33m:\u001b[0m\u001b[1;33m\u001b[0m\u001b[1;33m\u001b[0m\u001b[0m\n\u001b[0;32m    619\u001b[0m                 \u001b[0mkwargs\u001b[0m\u001b[1;33m[\u001b[0m\u001b[0mk\u001b[0m\u001b[1;33m]\u001b[0m \u001b[1;33m=\u001b[0m \u001b[0marg\u001b[0m\u001b[1;33m\u001b[0m\u001b[1;33m\u001b[0m\u001b[0m\n\u001b[1;32m--> 620\u001b[1;33m             \u001b[1;32mreturn\u001b[0m \u001b[0mfunc\u001b[0m\u001b[1;33m(\u001b[0m\u001b[1;33m**\u001b[0m\u001b[0mkwargs\u001b[0m\u001b[1;33m)\u001b[0m\u001b[1;33m\u001b[0m\u001b[1;33m\u001b[0m\u001b[0m\n\u001b[0m\u001b[0;32m    621\u001b[0m \u001b[1;33m\u001b[0m\u001b[0m\n\u001b[0;32m    622\u001b[0m         \u001b[1;32mreturn\u001b[0m \u001b[0minner_f\u001b[0m\u001b[1;33m\u001b[0m\u001b[1;33m\u001b[0m\u001b[0m\n",
      "\u001b[1;32m~\\AppData\\Roaming\\Python\\Python39\\site-packages\\xgboost\\training.py\u001b[0m in \u001b[0;36mtrain\u001b[1;34m(params, dtrain, num_boost_round, evals, obj, feval, maximize, early_stopping_rounds, evals_result, verbose_eval, xgb_model, callbacks, custom_metric)\u001b[0m\n\u001b[0;32m    183\u001b[0m         \u001b[1;32mif\u001b[0m \u001b[0mcb_container\u001b[0m\u001b[1;33m.\u001b[0m\u001b[0mbefore_iteration\u001b[0m\u001b[1;33m(\u001b[0m\u001b[0mbst\u001b[0m\u001b[1;33m,\u001b[0m \u001b[0mi\u001b[0m\u001b[1;33m,\u001b[0m \u001b[0mdtrain\u001b[0m\u001b[1;33m,\u001b[0m \u001b[0mevals\u001b[0m\u001b[1;33m)\u001b[0m\u001b[1;33m:\u001b[0m\u001b[1;33m\u001b[0m\u001b[1;33m\u001b[0m\u001b[0m\n\u001b[0;32m    184\u001b[0m             \u001b[1;32mbreak\u001b[0m\u001b[1;33m\u001b[0m\u001b[1;33m\u001b[0m\u001b[0m\n\u001b[1;32m--> 185\u001b[1;33m         \u001b[0mbst\u001b[0m\u001b[1;33m.\u001b[0m\u001b[0mupdate\u001b[0m\u001b[1;33m(\u001b[0m\u001b[0mdtrain\u001b[0m\u001b[1;33m,\u001b[0m \u001b[0mi\u001b[0m\u001b[1;33m,\u001b[0m \u001b[0mobj\u001b[0m\u001b[1;33m)\u001b[0m\u001b[1;33m\u001b[0m\u001b[1;33m\u001b[0m\u001b[0m\n\u001b[0m\u001b[0;32m    186\u001b[0m         \u001b[1;32mif\u001b[0m \u001b[0mcb_container\u001b[0m\u001b[1;33m.\u001b[0m\u001b[0mafter_iteration\u001b[0m\u001b[1;33m(\u001b[0m\u001b[0mbst\u001b[0m\u001b[1;33m,\u001b[0m \u001b[0mi\u001b[0m\u001b[1;33m,\u001b[0m \u001b[0mdtrain\u001b[0m\u001b[1;33m,\u001b[0m \u001b[0mevals\u001b[0m\u001b[1;33m)\u001b[0m\u001b[1;33m:\u001b[0m\u001b[1;33m\u001b[0m\u001b[1;33m\u001b[0m\u001b[0m\n\u001b[0;32m    187\u001b[0m             \u001b[1;32mbreak\u001b[0m\u001b[1;33m\u001b[0m\u001b[1;33m\u001b[0m\u001b[0m\n",
      "\u001b[1;32m~\\AppData\\Roaming\\Python\\Python39\\site-packages\\xgboost\\core.py\u001b[0m in \u001b[0;36mupdate\u001b[1;34m(self, dtrain, iteration, fobj)\u001b[0m\n\u001b[0;32m   1916\u001b[0m \u001b[1;33m\u001b[0m\u001b[0m\n\u001b[0;32m   1917\u001b[0m         \u001b[1;32mif\u001b[0m \u001b[0mfobj\u001b[0m \u001b[1;32mis\u001b[0m \u001b[1;32mNone\u001b[0m\u001b[1;33m:\u001b[0m\u001b[1;33m\u001b[0m\u001b[1;33m\u001b[0m\u001b[0m\n\u001b[1;32m-> 1918\u001b[1;33m             _check_call(_LIB.XGBoosterUpdateOneIter(self.handle,\n\u001b[0m\u001b[0;32m   1919\u001b[0m                                                     \u001b[0mctypes\u001b[0m\u001b[1;33m.\u001b[0m\u001b[0mc_int\u001b[0m\u001b[1;33m(\u001b[0m\u001b[0miteration\u001b[0m\u001b[1;33m)\u001b[0m\u001b[1;33m,\u001b[0m\u001b[1;33m\u001b[0m\u001b[1;33m\u001b[0m\u001b[0m\n\u001b[0;32m   1920\u001b[0m                                                     dtrain.handle))\n",
      "\u001b[1;31mKeyboardInterrupt\u001b[0m: "
     ]
    }
   ],
   "source": [
    "#Find optimal number of trees\n",
    "learning_range = [0.01, 0.05, 0.1, 0.15, 0.20, 0.25, 0.3]\n",
    "for val in learning_range:\n",
    "    score = cross_val_score(XGBRegressor(learning_rate= val, random_state= 42), X, Y, scoring=\"neg_root_mean_squared_error\")\n",
    "    print(f'Average score({val}): {\"{:.3f}\".format(score.mean())}')\n"
   ]
  },
  {
   "cell_type": "code",
   "execution_count": null,
   "metadata": {},
   "outputs": [],
   "source": [
    "#Find optimal gamma\n",
    "gamma_range = [0, 0.25, 0.5, 0.75, 1]\n",
    "for val in gamma_range:\n",
    "    score = cross_val_score(XGBRegressor(gamma= val, random_state= 42), X, Y,scoring=\"neg_root_mean_squared_error\")\n",
    "    print(f'Average score({val}): {\"{:.3f}\".format(score.mean())}')"
   ]
  },
  {
   "cell_type": "code",
   "execution_count": null,
   "metadata": {
    "colab": {
     "base_uri": "https://localhost:8080/",
     "height": 916
    },
    "id": "VzC3RmDQmahB",
    "outputId": "36b6b7c3-3799-4179-982e-b6f56b09a675"
   },
   "outputs": [],
   "source": [
    "#Find optimal gamma\n",
    "col_range = [0, 0.25, 0.5, 0.75, 1,1.25,1.5]\n",
    "for val in col_range:\n",
    "    score = cross_val_score(XGBRegressor(colsample_bytree= val, random_state= 42), X_train, y_train,scoring=\"neg_root_mean_squared_error\")\n",
    "    print(f'Average score({val}): {\"{:.3f}\".format(score.mean())}')"
   ]
  },
  {
   "cell_type": "code",
   "execution_count": null,
   "metadata": {
    "colab": {
     "base_uri": "https://localhost:8080/"
    },
    "id": "DRM6qHfDnFRt",
    "outputId": "ca45919e-dee9-4ba7-fe0a-e9e84fcd755f"
   },
   "outputs": [],
   "source": [
    "learning_range = [0.1,0.2,0.3,0.40, 0.50, 0.60, 0.70,0.8,0.9,1]\n",
    "for val in learning_range:\n",
    "    score = cross_val_score(XGBRegressor(learning_rate= val, random_state= 42), X_train, y_train, scoring=\"neg_root_mean_squared_error\")\n",
    "    print(f'Average score({val}): {\"{:.3f}\".format(score.mean())}')"
   ]
  },
  {
   "cell_type": "code",
   "execution_count": null,
   "metadata": {
    "colab": {
     "base_uri": "https://localhost:8080/",
     "height": 454
    },
    "id": "PbZxVX51qZ1b",
    "outputId": "e604e1a8-3544-45f8-bb8b-953cb770500b"
   },
   "outputs": [],
   "source": [
    "gamma_range = [0,0.1,0.2,0.3,0.4,0.5,0.6,0.7,0.8,0.9,1]\n",
    "for val in gamma_range:\n",
    "    score = cross_val_score(XGBRegressor(learning_rate= 0.3, colsample_bytree= 0.75,gamma= val, random_state= 42), X_test, y_test,scoring=\"neg_root_mean_squared_error\")\n",
    "    print(f'Average score({val}): {\"{:.3f}\".format(score.mean())}')"
   ]
  },
  {
   "cell_type": "code",
   "execution_count": null,
   "metadata": {
    "colab": {
     "base_uri": "https://localhost:8080/",
     "height": 473
    },
    "id": "0QLO899RwhmF",
    "outputId": "73de14c8-a13d-4692-f399-1c44f7504290"
   },
   "outputs": [],
   "source": [
    "n_estimator = [100,200,300,400,500,600,700,800,900]\n",
    "for val in n_estimator:\n",
    "    score = cross_val_score(XGBRegressor(learning_rate= 0.3, colsample_bytree= 0.75,n_estimators= val, random_state= 42), X_test, y_test,scoring=\"neg_root_mean_squared_error\")\n",
    "    print(f'Average score({val}): {\"{:.3f}\".format(score.mean())}')"
   ]
  },
  {
   "cell_type": "code",
   "execution_count": 49,
   "metadata": {
    "colab": {
     "base_uri": "https://localhost:8080/"
    },
    "id": "tkFhyZ89phr6",
    "outputId": "fb69613d-c95e-4027-f318-529e364232c1"
   },
   "outputs": [
    {
     "data": {
      "text/plain": [
       "nan"
      ]
     },
     "execution_count": 49,
     "metadata": {},
     "output_type": "execute_result"
    }
   ],
   "source": [
    "cross_val_score(XGBRegressor(learning_rate= 0.3, colsample_bytree= 0.75,n_estimators= 2000,random_state= 42,), X_train, y_train, scoring=\"neg_root_mean_squared_error\").mean()"
   ]
  },
  {
   "cell_type": "markdown",
   "metadata": {
    "id": "3nKEoRPbxvK3"
   },
   "source": [
    "## Entrenamiento del modelo"
   ]
  },
  {
   "cell_type": "code",
   "execution_count": 50,
   "metadata": {
    "id": "4PmPVvxo2z2e"
   },
   "outputs": [],
   "source": [
    "X_train, X_test, y_train, y_test = train_test_split(X, Y, test_size=0.33, random_state=42)"
   ]
  },
  {
   "cell_type": "code",
   "execution_count": 27,
   "metadata": {},
   "outputs": [],
   "source": [
    "# Parametros\n",
    "params = {\"booster\":\"gbtree\", \"max_depth\": 4, \"eta\": .3, \"objective\": \"binary:logistic\", \"nthread\":10}"
   ]
  },
  {
   "cell_type": "code",
   "execution_count": 28,
   "metadata": {
    "id": "eXGIS8E1xvK3",
    "scrolled": true
   },
   "outputs": [],
   "source": [
    "xgb = XGBRegressor( learning_rate= 0.3, colsample_bytree= 0.75,n_estimators= 600, random_state= 42).fit(X_train,y_train)\n",
    "# Evaluar modelo con los datos de prueba"
   ]
  },
  {
   "cell_type": "code",
   "execution_count": 51,
   "metadata": {
    "colab": {
     "base_uri": "https://localhost:8080/"
    },
    "id": "JL11Bp3333lR",
    "outputId": "b0b5f42c-528e-4703-ffcf-531d869832d2"
   },
   "outputs": [
    {
     "ename": "AttributeError",
     "evalue": "module 'xgboost' has no attribute 'predict'",
     "output_type": "error",
     "traceback": [
      "\u001b[1;31m---------------------------------------------------------------------------\u001b[0m",
      "\u001b[1;31mAttributeError\u001b[0m                            Traceback (most recent call last)",
      "\u001b[1;32m~\\AppData\\Local\\Temp\\ipykernel_20840\\1051296711.py\u001b[0m in \u001b[0;36m<module>\u001b[1;34m\u001b[0m\n\u001b[0;32m      1\u001b[0m \u001b[1;32mfrom\u001b[0m \u001b[0msklearn\u001b[0m\u001b[1;33m.\u001b[0m\u001b[0mmetrics\u001b[0m \u001b[1;32mimport\u001b[0m \u001b[0mmean_squared_error\u001b[0m\u001b[1;33m,\u001b[0m \u001b[0mmean_absolute_error\u001b[0m\u001b[1;33m,\u001b[0m \u001b[0maccuracy_score\u001b[0m \u001b[1;33m,\u001b[0m \u001b[0mf1_score\u001b[0m\u001b[1;33m,\u001b[0m\u001b[0mr2_score\u001b[0m\u001b[1;33m\u001b[0m\u001b[1;33m\u001b[0m\u001b[0m\n\u001b[1;32m----> 2\u001b[1;33m \u001b[0my_pred_xgb\u001b[0m \u001b[1;33m=\u001b[0m \u001b[0mxgb\u001b[0m\u001b[1;33m.\u001b[0m\u001b[0mpredict\u001b[0m\u001b[1;33m(\u001b[0m\u001b[0mX_test\u001b[0m\u001b[1;33m)\u001b[0m\u001b[1;33m\u001b[0m\u001b[1;33m\u001b[0m\u001b[0m\n\u001b[0m\u001b[0;32m      3\u001b[0m \u001b[0mmse\u001b[0m \u001b[1;33m=\u001b[0m \u001b[0mmean_squared_error\u001b[0m\u001b[1;33m(\u001b[0m\u001b[0my_test\u001b[0m\u001b[1;33m,\u001b[0m \u001b[0my_pred_xgb\u001b[0m\u001b[1;33m)\u001b[0m\u001b[1;33m\u001b[0m\u001b[1;33m\u001b[0m\u001b[0m\n\u001b[0;32m      4\u001b[0m \u001b[0mmaeXGB\u001b[0m\u001b[1;33m=\u001b[0m \u001b[0mmean_absolute_error\u001b[0m\u001b[1;33m(\u001b[0m\u001b[0my_test\u001b[0m\u001b[1;33m,\u001b[0m \u001b[0my_pred_xgb\u001b[0m\u001b[1;33m)\u001b[0m\u001b[1;33m\u001b[0m\u001b[1;33m\u001b[0m\u001b[0m\n\u001b[0;32m      5\u001b[0m \u001b[0mr2scorexgb\u001b[0m \u001b[1;33m=\u001b[0m \u001b[0mr2_score\u001b[0m\u001b[1;33m(\u001b[0m\u001b[0my_test\u001b[0m\u001b[1;33m,\u001b[0m \u001b[0my_pred_xgb\u001b[0m\u001b[1;33m)\u001b[0m\u001b[1;33m\u001b[0m\u001b[1;33m\u001b[0m\u001b[0m\n",
      "\u001b[1;31mAttributeError\u001b[0m: module 'xgboost' has no attribute 'predict'"
     ]
    }
   ],
   "source": [
    "from sklearn.metrics import mean_squared_error, mean_absolute_error, accuracy_score , f1_score,r2_score\n",
    "y_pred_xgb = xgb.predict(X_test)\n",
    "mse = mean_squared_error(y_test, y_pred_xgb)\n",
    "maeXGB= mean_absolute_error(y_test, y_pred_xgb)\n",
    "r2scorexgb = r2_score(y_test, y_pred_xgb)\n",
    "#accuracyXGB = accuracy_score(y_test, y_pred_xgb)\n",
    "#f1ScoreXGB = f1_score(y_test, y_pred_xgb)\n",
    "\n",
    "# Imprimir resultado\n",
    "print(f'El MSE para el modelo Random Forest es: {mse}')\n",
    "print(f'El MAE para el modelo Random Forest es: {maeXGB}')\n",
    "print(f'El R2-Score para el modelo XGBoost es: {r2scorexgb}')\n",
    "#print(f'El Accuracy para el modelo XGBoost es: {accuracyXGB}')\n",
    "#print(f'El F1-Score para el modelo XGBoost es: {f1ScoreXGB}')\n"
   ]
  },
  {
   "cell_type": "code",
   "execution_count": 31,
   "metadata": {},
   "outputs": [
    {
     "data": {
      "text/plain": [
       "['model_deployment_Proyecto1/VehiclePricePrediction.pkl']"
      ]
     },
     "execution_count": 31,
     "metadata": {},
     "output_type": "execute_result"
    }
   ],
   "source": [
    "# Guardar el modelo en un archivo pickle\n",
    "import joblib\n",
    "joblib.dump(xgb,\"model_deployment_Proyecto1/VehiclePricePrediction.pkl\")\n"
   ]
  },
  {
   "cell_type": "code",
   "execution_count": 36,
   "metadata": {},
   "outputs": [
    {
     "data": {
      "text/html": [
       "<div>\n",
       "<style scoped>\n",
       "    .dataframe tbody tr th:only-of-type {\n",
       "        vertical-align: middle;\n",
       "    }\n",
       "\n",
       "    .dataframe tbody tr th {\n",
       "        vertical-align: top;\n",
       "    }\n",
       "\n",
       "    .dataframe thead th {\n",
       "        text-align: right;\n",
       "    }\n",
       "</style>\n",
       "<table border=\"1\" class=\"dataframe\">\n",
       "  <thead>\n",
       "    <tr style=\"text-align: right;\">\n",
       "      <th></th>\n",
       "      <th>Year</th>\n",
       "      <th>Mileage</th>\n",
       "      <th>State</th>\n",
       "      <th>Make</th>\n",
       "      <th>Model</th>\n",
       "    </tr>\n",
       "  </thead>\n",
       "  <tbody>\n",
       "    <tr>\n",
       "      <th>23218</th>\n",
       "      <td>2014</td>\n",
       "      <td>42534</td>\n",
       "      <td>32</td>\n",
       "      <td>14</td>\n",
       "      <td>150</td>\n",
       "    </tr>\n",
       "    <tr>\n",
       "      <th>20731</th>\n",
       "      <td>2010</td>\n",
       "      <td>99603</td>\n",
       "      <td>47</td>\n",
       "      <td>12</td>\n",
       "      <td>416</td>\n",
       "    </tr>\n",
       "    <tr>\n",
       "      <th>39555</th>\n",
       "      <td>2009</td>\n",
       "      <td>42352</td>\n",
       "      <td>37</td>\n",
       "      <td>8</td>\n",
       "      <td>248</td>\n",
       "    </tr>\n",
       "    <tr>\n",
       "      <th>147506</th>\n",
       "      <td>2006</td>\n",
       "      <td>86386</td>\n",
       "      <td>47</td>\n",
       "      <td>27</td>\n",
       "      <td>297</td>\n",
       "    </tr>\n",
       "    <tr>\n",
       "      <th>314215</th>\n",
       "      <td>2014</td>\n",
       "      <td>39154</td>\n",
       "      <td>37</td>\n",
       "      <td>2</td>\n",
       "      <td>29</td>\n",
       "    </tr>\n",
       "    <tr>\n",
       "      <th>...</th>\n",
       "      <td>...</td>\n",
       "      <td>...</td>\n",
       "      <td>...</td>\n",
       "      <td>...</td>\n",
       "      <td>...</td>\n",
       "    </tr>\n",
       "    <tr>\n",
       "      <th>162603</th>\n",
       "      <td>2015</td>\n",
       "      <td>25789</td>\n",
       "      <td>20</td>\n",
       "      <td>13</td>\n",
       "      <td>321</td>\n",
       "    </tr>\n",
       "    <tr>\n",
       "      <th>327859</th>\n",
       "      <td>2016</td>\n",
       "      <td>28500</td>\n",
       "      <td>18</td>\n",
       "      <td>35</td>\n",
       "      <td>444</td>\n",
       "    </tr>\n",
       "    <tr>\n",
       "      <th>1519</th>\n",
       "      <td>2015</td>\n",
       "      <td>36641</td>\n",
       "      <td>48</td>\n",
       "      <td>7</td>\n",
       "      <td>467</td>\n",
       "    </tr>\n",
       "    <tr>\n",
       "      <th>398253</th>\n",
       "      <td>2016</td>\n",
       "      <td>43401</td>\n",
       "      <td>3</td>\n",
       "      <td>35</td>\n",
       "      <td>89</td>\n",
       "    </tr>\n",
       "    <tr>\n",
       "      <th>372192</th>\n",
       "      <td>2017</td>\n",
       "      <td>27347</td>\n",
       "      <td>10</td>\n",
       "      <td>17</td>\n",
       "      <td>341</td>\n",
       "    </tr>\n",
       "  </tbody>\n",
       "</table>\n",
       "<p>132000 rows × 5 columns</p>\n",
       "</div>"
      ],
      "text/plain": [
       "        Year  Mileage  State  Make  Model\n",
       "23218   2014    42534     32    14    150\n",
       "20731   2010    99603     47    12    416\n",
       "39555   2009    42352     37     8    248\n",
       "147506  2006    86386     47    27    297\n",
       "314215  2014    39154     37     2     29\n",
       "...      ...      ...    ...   ...    ...\n",
       "162603  2015    25789     20    13    321\n",
       "327859  2016    28500     18    35    444\n",
       "1519    2015    36641     48     7    467\n",
       "398253  2016    43401      3    35     89\n",
       "372192  2017    27347     10    17    341\n",
       "\n",
       "[132000 rows x 5 columns]"
      ]
     },
     "execution_count": 36,
     "metadata": {},
     "output_type": "execute_result"
    }
   ],
   "source": [
    "X_test"
   ]
  },
  {
   "cell_type": "code",
   "execution_count": null,
   "metadata": {},
   "outputs": [],
   "source": [
    "from sklearn import metrics\n",
    "import matplotlib.pyplot as plt\n",
    "\n",
    "fpr, tpr, thresholds = metrics.roc_curve(y_test,y_pred_xgb ,pos_label=1)\n",
    "AUC= metrics.auc(fpr, tpr)\n",
    "plt.title('Receiver Operating Characteristic')\n",
    "plt.plot(fpr, tpr, 'b', label = 'AUC = %0.2f' % AUC)\n",
    "plt.legend(loc = 'lower right')\n",
    "plt.plot([0, 1], [0, 1],'r--')\n",
    "plt.xlim([-0.01, 1])\n",
    "plt.ylim([0, 1.05])\n",
    "plt.ylabel('True Positive Rate')\n",
    "plt.xlabel('False Positive Rate')\n",
    "plt.show()"
   ]
  },
  {
   "cell_type": "code",
   "execution_count": null,
   "metadata": {
    "colab": {
     "base_uri": "https://localhost:8080/"
    },
    "id": "1ms8qd3axvK4",
    "outputId": "b4e62679-631a-41a3-9965-92500ba6f15c"
   },
   "outputs": [],
   "source": [
    "# Guardar predicciones en formato exigido en la competencia de kaggle\n",
    "y_pred_xgb"
   ]
  },
  {
   "cell_type": "code",
   "execution_count": null,
   "metadata": {
    "id": "2ejB-egmE1V6"
   },
   "outputs": [],
   "source": [
    "dataTesting[categorical_cols] = dataTesting[categorical_cols].apply(lambda col: le.fit_transform(col))"
   ]
  },
  {
   "cell_type": "code",
   "execution_count": null,
   "metadata": {
    "id": "DrPtFA47FWnU"
   },
   "outputs": [],
   "source": [
    "y_pred_uno = xgb.predict(dataTesting)"
   ]
  },
  {
   "cell_type": "code",
   "execution_count": null,
   "metadata": {
    "id": "Uula4pzLH5rJ"
   },
   "outputs": [],
   "source": [
    "import pandas as pd\n",
    "import numpy as np\n",
    "from sklearn.linear_model import LinearRegression\n",
    "from sklearn.metrics import mean_squared_error\n",
    "from sklearn.model_selection import train_test_split\n",
    "\n",
    "# Carga de datos de archivo .csv\n",
    "dataTraining = pd.read_csv('https://raw.githubusercontent.com/davidzarruk/MIAD_ML_NLP_2023/main/datasets/dataTrain_carListings.zip')\n",
    "dataTesting = pd.read_csv('https://raw.githubusercontent.com/davidzarruk/MIAD_ML_NLP_2023/main/datasets/dataTest_carListings.zip', index_col=0)\n",
    "\n",
    "# Selección de características relevantes\n",
    "features = ['Year','Mileage','State','Make','Model']\n",
    "\n",
    "# Preprocesamiento de los datos\n",
    "X = pd.get_dummies(dataTraining[features])\n",
    "y = dataTraining['Price']\n",
    "X = X.fillna(X.mean())\n",
    "\n",
    "# Separación del conjunto de entrenamiento y validación\n",
    "X_train, X_val, y_train, y_val = train_test_split(X, y, test_size=0.33, random_state=42)\n",
    "\n",
    "# Entrenamiento del modelo de regresión lineal\n",
    "model = LinearRegression()\n",
    "model.fit(X_train, y_train)\n",
    "\n",
    "# Evaluación del modelo en el conjunto de validación\n",
    "y_pred = model.predict(X_val)\n",
    "mse = mean_squared_error(y_val, y_pred)\n",
    "r2 = model.score(X_val, y_val)\n",
    "print('MSE:', mse)\n",
    "print('R^2:', r2)\n",
    "\n",
    "# Predicción del conjunto de prueba\n",
    "\n",
    "X_test = pd.get_dummies(dataTesting[features])\n",
    "X_test = X_test.fillna(X_test.mean())\n",
    "y_test = model.predict(X_test)\n",
    "\n",
    "# Guardar predicciones en formato exigido en la competencia de kaggle\n",
    "submission = pd.DataFrame({'ID': dataTesting.index, 'Price': y_test})\n",
    "submission.to_csv('test_submission.csv', index=False)"
   ]
  },
  {
   "cell_type": "code",
   "execution_count": null,
   "metadata": {},
   "outputs": [],
   "source": [
    "import pandas as pd\n",
    "import numpy as np\n",
    "from sklearn.model_selection import train_test_split, GridSearchCV\n",
    "from sklearn.preprocessing import LabelEncoder\n",
    "import xgboost as xgb\n",
    "\n",
    "# Carga de datos de archivo .csv\n",
    "data = pd.read_csv('https://raw.githubusercontent.com/davidzarruk/MIAD_ML_NLP_2023/main/datasets/dataTrain_carListings.zip')\n",
    "\n",
    "# Preprocesamiento de los datos\n",
    "X = data.drop('Price', axis=1)\n",
    "# Selección de características relevantes\n",
    "features = ['Year','Mileage','State','Make','Model']\n",
    "\n",
    "# Preprocesamiento de los datos\n",
    "X = pd.get_dummies(dataTraining[features])\n",
    "y = dataTraining['Price']\n",
    "X = X.fillna(X.mean())\n",
    "\n",
    "# Separación de datos en entrenamiento y prueba\n",
    "X_train, X_test, y_train, y_test = train_test_split(X, y, test_size=0.2, random_state=42)\n",
    "\n",
    "# Definición de la cuadrícula de hiperparámetros a buscar\n",
    "param_grid = {\n",
    "    'learning_rate': [0.05, 0.1, 0.2],\n",
    "    'max_depth': [3, 5, 7],\n",
    "    'n_estimators': [50, 100, 200],\n",
    "    'subsample': [0.5, 0.75, 1.0],\n",
    "    'colsample_bytree': [0.5, 0.75, 1.0]\n",
    "}\n",
    "\n",
    "# Definición del modelo XGBoost\n",
    "xgb_model = xgb.XGBRegressor(objective='reg:squarederror', random_state=42)\n",
    "\n",
    "# Búsqueda de los mejores hiperparámetros utilizando validación cruzada\n",
    "grid_search = GridSearchCV(xgb_model, param_grid=param_grid, cv=3, n_jobs=-1)\n",
    "grid_search.fit(X_train, y_train)\n",
    "\n",
    "# Predicción del conjunto de prueba con el mejor modelo encontrado\n",
    "y_pred = grid_search.predict(X_test)\n",
    "\n",
    "# Evaluación del modelo\n",
    "from sklearn.metrics import mean_squared_error\n",
    "mse = mean_squared_error(y_test, y_pred)\n",
    "rmse = np.sqrt(mse)\n",
    "print('RMSE:', rmse)\n",
    "\n",
    "from sklearn.metrics import r2_score, mean_absolute_error, mean_absolute_percentage_error\n",
    "\n",
    "r2 = r2_score(y_test, y_pred)\n",
    "mae = mean_absolute_error(y_test, y_pred)\n",
    "mape = mean_absolute_percentage_error(y_test, y_pred)\n",
    "print('R2:', r2)\n",
    "print('mae:', mae)\n",
    "print('mape:', mape)\n"
   ]
  },
  {
   "cell_type": "code",
   "execution_count": null,
   "metadata": {},
   "outputs": [],
   "source": [
    "import pandas as pd\n",
    "from sklearn.tree import DecisionTreeRegressor\n",
    "from sklearn.model_selection import train_test_split\n",
    "\n",
    "# Carga de datos de archivo .csv\n",
    "data = pd.read_csv('https://raw.githubusercontent.com/davidzarruk/MIAD_ML_NLP_2023/main/datasets/dataTrain_carListings.zip')\n",
    "\n",
    "# Preprocesamiento de los datos\n",
    "X = data.drop('Price', axis=1)\n",
    "y = data['Price']\n",
    "le = LabelEncoder()\n",
    "X['Brand'] = le.fit_transform(X['Brand'])\n",
    "\n",
    "# Separación de datos en entrenamiento y prueba\n",
    "X_train, X_test, y_train, y_test = train_test_split(X, y, test_size=0.2, random_state=42)\n",
    "\n",
    "# Definición del modelo y entrenamiento\n",
    "tree = DecisionTreeRegressor(random_state=42)\n",
    "tree.fit(X_train, y_train)\n",
    "\n",
    "# Predicción del conjunto de prueba\n",
    "y_pred = tree.predict(X_test)\n",
    "\n",
    "# Evaluación del modelo\n",
    "from sklearn.metrics import mean_squared_error\n",
    "mse = mean_squared_error(y_test, y_pred)\n",
    "rmse = np.sqrt(mse)\n",
    "print('RMSE:', rmse)\n",
    "from sklearn.metrics import r2_score, mean_absolute_error, mean_absolute_percentage_error\n",
    "\n",
    "r2 = r2_score(y_test, y_pred)\n",
    "mae = mean_absolute_error(y_test, y_pred)\n",
    "mape = mean_absolute_percentage_error(y_test, y_pred)"
   ]
  },
  {
   "cell_type": "code",
   "execution_count": null,
   "metadata": {},
   "outputs": [],
   "source": []
  },
  {
   "cell_type": "code",
   "execution_count": null,
   "metadata": {},
   "outputs": [],
   "source": []
  }
 ],
 "metadata": {
  "colab": {
   "provenance": []
  },
  "kernelspec": {
   "display_name": "Python 3 (ipykernel)",
   "language": "python",
   "name": "python3"
  },
  "language_info": {
   "codemirror_mode": {
    "name": "ipython",
    "version": 3
   },
   "file_extension": ".py",
   "mimetype": "text/x-python",
   "name": "python",
   "nbconvert_exporter": "python",
   "pygments_lexer": "ipython3",
   "version": "3.9.13"
  }
 },
 "nbformat": 4,
 "nbformat_minor": 1
}
