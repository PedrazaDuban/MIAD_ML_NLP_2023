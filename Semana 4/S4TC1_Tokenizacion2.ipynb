{
  "cells": [
    {
      "cell_type": "markdown",
      "metadata": {
        "id": "iIYDlTxkZbIz"
      },
      "source": [
        "![image info](https://raw.githubusercontent.com/albahnsen/MIAD_ML_and_NLP/main/images/banner_1.png)"
      ]
    },
    {
      "cell_type": "markdown",
      "metadata": {
        "id": "dGocGFPyZbI1"
      },
      "source": [
        "# Taller: Tokenización de textos  \n",
        "\n",
        "En este taller podrán poner en práctica sus conocimientos sobre preprocesamiento de texto (tokenización). El taller está constituido por 5 puntos, en los cuales deberan seguir las intrucciones de cada numeral para su desarrollo."
      ]
    },
    {
      "cell_type": "markdown",
      "metadata": {
        "id": "83qF20xIZbI1"
      },
      "source": [
        "## Datos detección de toxicidad en comentarios\n",
        "\n",
        "En este taller se usará el conjunto de datos de detección de toxicidad en comentarios de la base de datos de Kaggle. Cada observación es un comentario que tiene como variable objetivo (target) la probabilidad de ser un comentario tóxico. El objetivo es predecir la toxicidad de cada comentario. Para más detalles pueden visitar el siguiente enlace: [datos](https://www.kaggle.com/c/jigsaw-unintended-bias-in-toxicity-classification/data)."
      ]
    },
    {
      "cell_type": "code",
      "execution_count": 1,
      "metadata": {
        "id": "3Q2fPPKmZbI1"
      },
      "outputs": [],
      "source": [
        "import warnings\n",
        "warnings.filterwarnings('ignore')"
      ]
    },
    {
      "cell_type": "code",
      "execution_count": 2,
      "metadata": {
        "id": "qGD2DFRtZbI2"
      },
      "outputs": [],
      "source": [
        "# Importación librerías\n",
        "import pandas as pd\n",
        "import numpy as np\n",
        "import scipy as sp\n",
        "from sklearn.model_selection import train_test_split, cross_val_score\n",
        "from sklearn.feature_extraction.text import CountVectorizer, TfidfVectorizer\n",
        "from sklearn import metrics\n",
        "%matplotlib inline"
      ]
    },
    {
      "cell_type": "code",
      "execution_count": 3,
      "metadata": {
        "colab": {
          "base_uri": "https://localhost:8080/",
          "height": 206
        },
        "id": "HjmDncRkZbI2",
        "outputId": "2192c3d4-14c8-4829-b109-84c95d6de37b"
      },
      "outputs": [
        {
          "data": {
            "text/html": [
              "\n",
              "  <div id=\"df-91d5e5ef-5379-4cff-a4d1-82bdafcbc3e7\">\n",
              "    <div class=\"colab-df-container\">\n",
              "      <div>\n",
              "<style scoped>\n",
              "    .dataframe tbody tr th:only-of-type {\n",
              "        vertical-align: middle;\n",
              "    }\n",
              "\n",
              "    .dataframe tbody tr th {\n",
              "        vertical-align: top;\n",
              "    }\n",
              "\n",
              "    .dataframe thead th {\n",
              "        text-align: right;\n",
              "    }\n",
              "</style>\n",
              "<table border=\"1\" class=\"dataframe\">\n",
              "  <thead>\n",
              "    <tr style=\"text-align: right;\">\n",
              "      <th></th>\n",
              "      <th>id</th>\n",
              "      <th>comment_text</th>\n",
              "      <th>target</th>\n",
              "    </tr>\n",
              "  </thead>\n",
              "  <tbody>\n",
              "    <tr>\n",
              "      <th>0</th>\n",
              "      <td>6101457</td>\n",
              "      <td>What are you talking about? What group do Pete...</td>\n",
              "      <td>0.0</td>\n",
              "    </tr>\n",
              "    <tr>\n",
              "      <th>1</th>\n",
              "      <td>5342103</td>\n",
              "      <td>NO!, Let him, we need a Conservative government.</td>\n",
              "      <td>0.0</td>\n",
              "    </tr>\n",
              "    <tr>\n",
              "      <th>2</th>\n",
              "      <td>743361</td>\n",
              "      <td>Perhaps he took the \"power out of the Cardinal...</td>\n",
              "      <td>0.2</td>\n",
              "    </tr>\n",
              "    <tr>\n",
              "      <th>3</th>\n",
              "      <td>551008</td>\n",
              "      <td>As always, yours is dripping with sarcasm, whi...</td>\n",
              "      <td>0.0</td>\n",
              "    </tr>\n",
              "    <tr>\n",
              "      <th>4</th>\n",
              "      <td>865998</td>\n",
              "      <td>The dirty little secret is that the price rang...</td>\n",
              "      <td>0.3</td>\n",
              "    </tr>\n",
              "  </tbody>\n",
              "</table>\n",
              "</div>\n",
              "      <button class=\"colab-df-convert\" onclick=\"convertToInteractive('df-91d5e5ef-5379-4cff-a4d1-82bdafcbc3e7')\"\n",
              "              title=\"Convert this dataframe to an interactive table.\"\n",
              "              style=\"display:none;\">\n",
              "        \n",
              "  <svg xmlns=\"http://www.w3.org/2000/svg\" height=\"24px\"viewBox=\"0 0 24 24\"\n",
              "       width=\"24px\">\n",
              "    <path d=\"M0 0h24v24H0V0z\" fill=\"none\"/>\n",
              "    <path d=\"M18.56 5.44l.94 2.06.94-2.06 2.06-.94-2.06-.94-.94-2.06-.94 2.06-2.06.94zm-11 1L8.5 8.5l.94-2.06 2.06-.94-2.06-.94L8.5 2.5l-.94 2.06-2.06.94zm10 10l.94 2.06.94-2.06 2.06-.94-2.06-.94-.94-2.06-.94 2.06-2.06.94z\"/><path d=\"M17.41 7.96l-1.37-1.37c-.4-.4-.92-.59-1.43-.59-.52 0-1.04.2-1.43.59L10.3 9.45l-7.72 7.72c-.78.78-.78 2.05 0 2.83L4 21.41c.39.39.9.59 1.41.59.51 0 1.02-.2 1.41-.59l7.78-7.78 2.81-2.81c.8-.78.8-2.07 0-2.86zM5.41 20L4 18.59l7.72-7.72 1.47 1.35L5.41 20z\"/>\n",
              "  </svg>\n",
              "      </button>\n",
              "      \n",
              "  <style>\n",
              "    .colab-df-container {\n",
              "      display:flex;\n",
              "      flex-wrap:wrap;\n",
              "      gap: 12px;\n",
              "    }\n",
              "\n",
              "    .colab-df-convert {\n",
              "      background-color: #E8F0FE;\n",
              "      border: none;\n",
              "      border-radius: 50%;\n",
              "      cursor: pointer;\n",
              "      display: none;\n",
              "      fill: #1967D2;\n",
              "      height: 32px;\n",
              "      padding: 0 0 0 0;\n",
              "      width: 32px;\n",
              "    }\n",
              "\n",
              "    .colab-df-convert:hover {\n",
              "      background-color: #E2EBFA;\n",
              "      box-shadow: 0px 1px 2px rgba(60, 64, 67, 0.3), 0px 1px 3px 1px rgba(60, 64, 67, 0.15);\n",
              "      fill: #174EA6;\n",
              "    }\n",
              "\n",
              "    [theme=dark] .colab-df-convert {\n",
              "      background-color: #3B4455;\n",
              "      fill: #D2E3FC;\n",
              "    }\n",
              "\n",
              "    [theme=dark] .colab-df-convert:hover {\n",
              "      background-color: #434B5C;\n",
              "      box-shadow: 0px 1px 3px 1px rgba(0, 0, 0, 0.15);\n",
              "      filter: drop-shadow(0px 1px 2px rgba(0, 0, 0, 0.3));\n",
              "      fill: #FFFFFF;\n",
              "    }\n",
              "  </style>\n",
              "\n",
              "      <script>\n",
              "        const buttonEl =\n",
              "          document.querySelector('#df-91d5e5ef-5379-4cff-a4d1-82bdafcbc3e7 button.colab-df-convert');\n",
              "        buttonEl.style.display =\n",
              "          google.colab.kernel.accessAllowed ? 'block' : 'none';\n",
              "\n",
              "        async function convertToInteractive(key) {\n",
              "          const element = document.querySelector('#df-91d5e5ef-5379-4cff-a4d1-82bdafcbc3e7');\n",
              "          const dataTable =\n",
              "            await google.colab.kernel.invokeFunction('convertToInteractive',\n",
              "                                                     [key], {});\n",
              "          if (!dataTable) return;\n",
              "\n",
              "          const docLinkHtml = 'Like what you see? Visit the ' +\n",
              "            '<a target=\"_blank\" href=https://colab.research.google.com/notebooks/data_table.ipynb>data table notebook</a>'\n",
              "            + ' to learn more about interactive tables.';\n",
              "          element.innerHTML = '';\n",
              "          dataTable['output_type'] = 'display_data';\n",
              "          await google.colab.output.renderOutput(dataTable, element);\n",
              "          const docLink = document.createElement('div');\n",
              "          docLink.innerHTML = docLinkHtml;\n",
              "          element.appendChild(docLink);\n",
              "        }\n",
              "      </script>\n",
              "    </div>\n",
              "  </div>\n",
              "  "
            ],
            "text/plain": [
              "        id                                       comment_text  target\n",
              "0  6101457  What are you talking about? What group do Pete...     0.0\n",
              "1  5342103   NO!, Let him, we need a Conservative government.     0.0\n",
              "2   743361  Perhaps he took the \"power out of the Cardinal...     0.2\n",
              "3   551008  As always, yours is dripping with sarcasm, whi...     0.0\n",
              "4   865998  The dirty little secret is that the price rang...     0.3"
            ]
          },
          "execution_count": 3,
          "metadata": {},
          "output_type": "execute_result"
        }
      ],
      "source": [
        "# Carga de datos de archivos .csv\n",
        "df = pd.read_csv('https://raw.githubusercontent.com/albahnsen/MIAD_ML_and_NLP/main/datasets/Toxicity.zip')\n",
        "df = df[['id','comment_text', 'target']]\n",
        "df.head()"
      ]
    },
    {
      "cell_type": "code",
      "execution_count": 4,
      "metadata": {
        "colab": {
          "base_uri": "https://localhost:8080/",
          "height": 448
        },
        "id": "W8R_vDPxZbI3",
        "outputId": "63c2bbd8-165c-4923-9ddc-bbb79892ddd4"
      },
      "outputs": [
        {
          "data": {
            "text/plain": [
              "<Axes: >"
            ]
          },
          "execution_count": 4,
          "metadata": {},
          "output_type": "execute_result"
        },
        {
          "data": {
            "image/png": "[encoded data removed]",
            "text/plain": [
              "<Figure size 640x480 with 1 Axes>"
            ]
          },
          "metadata": {},
          "output_type": "display_data"
        }
      ],
      "source": [
        "# Impresión histograma de variable de interés (y)\n",
        "df.target.hist()"
      ]
    },
    {
      "cell_type": "code",
      "execution_count": 5,
      "metadata": {
        "colab": {
          "base_uri": "https://localhost:8080/"
        },
        "id": "_mjHQ38uZbI3",
        "outputId": "c85b3c00-f0e7-477f-ec29-afad237eff1d"
      },
      "outputs": [
        {
          "data": {
            "text/plain": [
              "count    541462.000000\n",
              "mean          0.102991\n",
              "std           0.196979\n",
              "min           0.000000\n",
              "25%           0.000000\n",
              "50%           0.000000\n",
              "75%           0.166667\n",
              "max           1.000000\n",
              "Name: target, dtype: float64"
            ]
          },
          "execution_count": 5,
          "metadata": {},
          "output_type": "execute_result"
        }
      ],
      "source": [
        "# Separación de variable de interés (y)\n",
        "y = df.target\n",
        "y.describe()"
      ]
    },
    {
      "cell_type": "code",
      "execution_count": 6,
      "metadata": {
        "id": "uKPCcLe8ZbI3"
      },
      "outputs": [],
      "source": [
        "# Separación de variables predictoras (X), solo se considera el texto de la noticia\n",
        "X = df.comment_text"
      ]
    },
    {
      "cell_type": "code",
      "execution_count": 7,
      "metadata": {
        "id": "vuLWzkIKZbI4"
      },
      "outputs": [],
      "source": [
        "# Separación de datos en set de entrenamiento y test\n",
        "X_train, X_test, y_train, y_test = train_test_split(X, y, test_size=0.33, random_state=42)"
      ]
    },
    {
      "cell_type": "markdown",
      "metadata": {
        "id": "gfrvTcjtZbI4"
      },
      "source": [
        "## Punto 1 - Tokenización con CountVectorizer\n",
        "\n",
        "En la celda 1 creen y entrenen el modelo de regresión de su preferencia, para que prediga la probabilidad de que un comentario sea tóxico, usando los set de entrenamiento y test definidos anteriormente. Usen la función **CountVectorizer** para preprocesar los comentarios y presenten el desempeño del modelo con la métrica del MSE.\n",
        "\n",
        "Recuerden que el preprocesamiento que se haga sobre los datos de entrenamiento  (*.fit_transform()*) deben ser aplicado al set de test (*.transform()*)."
      ]
    },
    {
      "cell_type": "code",
      "execution_count": 8,
      "metadata": {
        "id": "-b9F_NxYZbI4"
      },
      "outputs": [],
      "source": [
        "# Celda 1\n",
        "# Creación de matrices de documentos usando CountVectorizer a partir de X\n",
        "vect_A = CountVectorizer(lowercase=False,stop_words='english',max_features=10000)"
      ]
    },
    {
      "cell_type": "code",
      "execution_count": 9,
      "metadata": {
        "id": "BFTCkzyzbZ9j"
      },
      "outputs": [],
      "source": [
        "X_dtm_A = vect_A.fit_transform(X_train)"
      ]
    },
    {
      "cell_type": "code",
      "execution_count": 10,
      "metadata": {
        "id": "Sn85DIYTbaMZ"
      },
      "outputs": [],
      "source": [
        "#temp_A=X_dtm_A.todense()"
      ]
    },
    {
      "cell_type": "code",
      "execution_count": 11,
      "metadata": {
        "id": "W0DuSQf_mDTH"
      },
      "outputs": [],
      "source": [
        "from sklearn.ensemble import RandomForestRegressor\n",
        "from sklearn.tree import DecisionTreeRegressor"
      ]
    },
    {
      "cell_type": "code",
      "execution_count": 12,
      "metadata": {
        "id": "6nUqWF6kl338"
      },
      "outputs": [],
      "source": [
        "model = DecisionTreeRegressor().fit(X_dtm_A,y_train)"
      ]
    },
    {
      "cell_type": "code",
      "execution_count": 13,
      "metadata": {
        "id": "BdKtslryuTHT"
      },
      "outputs": [],
      "source": [
        "X_test_dtm_A=vect_A.transform(X_test)"
      ]
    },
    {
      "cell_type": "code",
      "execution_count": 14,
      "metadata": {
        "id": "luUcdY8rv711"
      },
      "outputs": [],
      "source": [
        "from sklearn.metrics import mean_squared_error"
      ]
    },
    {
      "cell_type": "code",
      "execution_count": 20,
      "metadata": {
        "colab": {
          "base_uri": "https://localhost:8080/"
        },
        "id": "CvD7hlzVtOVD",
        "outputId": "964d351c-ee87-473d-b704-cf9bf1080b1e"
      },
      "outputs": [
        {
          "name": "stdout",
          "output_type": "stream",
          "text": [
            "El MSE para Decision Tree Regressor es: 0.04217956095311815\n"
          ]
        }
      ],
      "source": [
        "y_pred_A = model.predict(X_test_dtm_A)\n",
        "mse = mean_squared_error(y_test, y_pred_A)\n",
        "\n",
        "# Imprimir resultado\n",
        "print(f'El MSE para Decision Tree Regressor es: {mse}')"
      ]
    },
    {
      "cell_type": "markdown",
      "metadata": {
        "id": "TGilWmMwZbI4"
      },
      "source": [
        "## Punto 2 - Tokenización con CountVectorizer y trigramas\n",
        "\n",
        "En la celda 2 creen y entrenen el mismo modelo de regresión del punto anterior (es decir si usaron un RandomForestRegresor usen nuevamente ese regresor), para que prediga la probabilidad de que un comentario sea tóxico, usando los set de entrenamiento y test definidos anteriormente. Usen la función CountVectorizer **considerando trigramas** para preprocesar los comentarios y presenten el desempeño del modelo con la métrica del MSE.\n",
        "\n",
        "Recuerden que el preprocesamiento que se haga sobre los datos de entrenamiento  (*.fit_transform()*) deben ser aplicado al set de test (*.transform()*)."
      ]
    },
    {
      "cell_type": "code",
      "execution_count": 23,
      "metadata": {
        "colab": {
          "base_uri": "https://localhost:8080/"
        },
        "id": "VrtYyLHzZbI4",
        "outputId": "0d2c67c1-dafa-4d04-d137-719b8e5f91fe"
      },
      "outputs": [
        {
          "name": "stdout",
          "output_type": "stream",
          "text": [
            "MSE del modelo Decision Tree Regressor con Trigramas: 0.03969932147371468\n"
          ]
        }
      ],
      "source": [
        "# Celda 2\n",
        "# Preprocesamiento de texto con CountVectorizer\n",
        "cvt = CountVectorizer(max_features=10000,  lowercase=False, stop_words='english',ngram_range=(3,3))\n",
        "X_train_cvt = cvt.fit_transform(X_train)\n",
        "X_test_cvt = cvt.transform(X_test)\n",
        "\n",
        "# Entrenamiento del modelo\n",
        "\n",
        "rf = DecisionTreeRegressor(random_state=42)\n",
        "rf.fit(X_train_cvt, y_train)\n",
        "\n",
        "# Predicción de las probabilidades en el set de test\n",
        "y_pred_cvt = rf.predict(X_test_cvt)\n",
        "\n",
        "# Cálculo del MSE\n",
        "mse_cvt = metrics.mean_squared_error(y_test, y_pred_cvt)\n",
        "print(f'MSE del modelo Decision Tree Regressor con Trigramas: {mse_cvt}')"
      ]
    },
    {
      "cell_type": "markdown",
      "metadata": {
        "id": "Juggd323ZbI5"
      },
      "source": [
        "## Punto 3 - TfidfVectorizer\n",
        "\n",
        "Investigen sobre la función TfidfVectorizer. En la celda de texto 3, expliquen en qué consiste esta técnica de tokenización (describanla y expliquen su funcionamiento) y cúales son las ventajas o deventajas de su uso al compararlo con la función CountVectorizer."
      ]
    },
    {
      "attachments": {},
      "cell_type": "markdown",
      "metadata": {
        "id": "3uSfwwPlnkv0"
      },
      "source": [
        "La función TfidfVectorizer es otra técnica de tokenización utilizada para el preprocesamiento de texto en el aprendizaje automático. Al igual que CountVectorizer, convierte los documentos de texto en una matriz de frecuencias de palabras, que se utiliza como entrada para entrenar modelos de aprendizaje automático.\n",
        "\n",
        "Sin embargo, TfidfVectorizer utiliza una técnica diferente para calcular las frecuencias de palabras. En lugar de contar simplemente la cantidad de veces que aparece cada palabra, TfidfVectorizer utiliza una medida llamada TF-IDF (Term Frequency-Inverse Document Frequency) para ponderar las frecuencias de palabras.\n",
        "\n",
        "La medida TF-IDF se calcula multiplicando la frecuencia de una palabra en un documento (TF) por el inverso de la frecuencia de la palabra en todo el corpus (IDF). Es decir, la medida TF-IDF refleja la importancia de una palabra en un documento en comparación con su importancia en todo tipo de textos escritos en un determinado idioma o tema.\n",
        "\n",
        "#### Ventajas\n",
        "1. La ventaja de utilizar TfidfVectorizer es que esta técnica puede ayudar a reducir la importancia de palabras comunes que aparecen en muchos documentos, pero que no proporcionan información útil para la tarea de clasificación.\n",
        "2. También puede ayudar a identificar palabras que son más distintivas y relevantes para la tarea de clasificación.\n",
        "#### Desentajas\n",
        "1. CountVectorizer es más sencillo y rápido de utilizar que TfidfVectorizer, ya que solo cuenta la frecuencia de las palabras y no utiliza medidas de ponderación.\n",
        "2. CountVectorizer puede ser más útil en algunas tareas de clasificación de texto, como la identificación de idiomas o la detección de spam, donde la frecuencia de las palabras es más importante que su importancia relativa en el corpus.\n",
        "#### Conclusiones\n",
        "1. TfidfVectorizer puede ser más útil en tareas de clasificación de texto donde la importancia relativa de las palabras es importante y se desea reducir la importancia de palabras comunes.\n",
        "2. CountVectorizer puede ser más sencillo y rápido de utilizar y puede ser más adecuado para tareas de clasificación de texto donde la frecuencia de las palabras es más importante."
      ]
    },
    {
      "cell_type": "markdown",
      "metadata": {
        "id": "ZbYNC7LGZbI5"
      },
      "source": [
        "## Punto 4 - Tokenización con TfidfVectorizer\n",
        "\n",
        "En la celda 4 creen y entrenen el mismo modelo de regresión del primer punto, para que prediga la probabilidad de que un comentario sea tóxico, usando los set de entrenamiento y test definidos anteriormente. Procesen los comentarios con la función **TfidfVectorizer** y presenten el desempeño del modelo con la métrica del MSE.\n",
        "\n",
        "Recuerden que el preprocesamiento que se haga sobre los datos de entrenamiento  (*.fit_transform()*) deben ser aplicado al set de test (*.transform()*)."
      ]
    },
    {
      "cell_type": "code",
      "execution_count": 24,
      "metadata": {
        "colab": {
          "base_uri": "https://localhost:8080/"
        },
        "id": "bmNYxCofZbI5",
        "outputId": "51095584-60d0-4ae2-b695-5412402a7423"
      },
      "outputs": [
        {
          "name": "stdout",
          "output_type": "stream",
          "text": [
            "MSE del modelo DecisionTreeRegressor la función TfidfVectorizer: 0.03672478588250065\n"
          ]
        }
      ],
      "source": [
        "# Celda 4\n",
        "# Celda 4\n",
        "# Preprocesamiento de texto con CountVectorizer\n",
        "tfidv = TfidfVectorizer(max_features=10000,  lowercase=False, stop_words='english')\n",
        "X_train_tfidv = tfidv.fit_transform(X_train)\n",
        "X_test_tfidv = tfidv.transform(X_test)\n",
        "\n",
        "# Entrenamiento del modelo\n",
        "from sklearn.ensemble import RandomForestRegressor\n",
        "rf = DecisionTreeRegressor(random_state=42)\n",
        "rf.fit(X_train_tfidv, y_train)\n",
        "\n",
        "# Predicción de las probabilidades en el set de test\n",
        "y_pred_tfidv = rf.predict(X_test_tfidv)\n",
        "\n",
        "# Cálculo del MSE\n",
        "mse_tfidv = metrics.mean_squared_error(y_test, y_pred_tfidv)\n",
        "print(f'MSE del modelo DecisionTreeRegressor la función TfidfVectorizer: {mse_tfidv}')"
      ]
    },
    {
      "cell_type": "markdown",
      "metadata": {
        "id": "rC1TmGf0ZbI5"
      },
      "source": [
        "## Punto 5 - Comparación y análisis de resultados\n",
        "\n",
        "En la celda 5 comparen los resultados obtenidos de los diferentes modelos y comenten cómo el preprocesamiento de texto afecta el desempeño."
      ]
    },
    {
      "cell_type": "code",
      "execution_count": 25,
      "metadata": {
        "colab": {
          "base_uri": "https://localhost:8080/",
          "height": 503
        },
        "id": "0Q6MpFd4ZbI5",
        "outputId": "4263df74-f022-4683-8c38-d58f6e02c6a6"
      },
      "outputs": [
        {
          "data": {
            "image/png": "[encoded data removed]",
            "text/plain": [
              "<Figure size 1200x400 with 1 Axes>"
            ]
          },
          "metadata": {},
          "output_type": "display_data"
        }
      ],
      "source": [
        "# Celda 5\n",
        "import matplotlib.pyplot as plt\n",
        "\n",
        "fig = plt.figure(figsize=(12,4))\n",
        "ax = fig.add_axes([0,0,1,1])\n",
        "\n",
        "ax.set_title(\"MSE\")\n",
        "ejeX = ['CountVectorizer','CountVectorizer-Trigramas','TfidfVectorizer']\n",
        "ejeY = [round(mse,4), round(mse_cvt,4), round(mse_tfidv,4), ]\n",
        "ax.bar(ejeX,ejeY)\n",
        "plt.ylim(0.030,0.050)\n",
        "def addlabels(x,y,plotP):\n",
        "    for i in range(len(x)):\n",
        "        plotP.text(i,y[i],y[i])\n",
        "addlabels(ejeX,ejeY,plt)\n",
        "plt.show()"
      ]
    },
    {
      "attachments": {},
      "cell_type": "markdown",
      "metadata": {
        "id": "fbPjd0qrn_ls"
      },
      "source": [
        "La figura generada al final del código muestra que el mejor desempeño se obtiene con el Tercer modelo (TfidfVectorizer), seguido por el Segundo modelo ( CountVectorizer con Trigramas). El primer modelo (CountVectorizer) tiene el peor desempeño. Debido a que un modelo con un MSE menor es mejor que uno con un MSE mayor.\n",
        "\n",
        "El MSE (error cuadrático medio) es una medida del error de un modelo de regresión que mide la diferencia promedio al cuadrado entre los valores predichos y los valores reales. Un valor de MSE más bajo indica que las predicciones del modelo están más cerca de los valores reales. Por lo tanto, un modelo con un MSE menor tiene un mejor desempeño predictivo que uno con un MSE mayor.\n",
        "\n",
        "Utilizando las tres técnicas diferentes de preprocesamiento de texto: CountVectorizer, CountVectorizer con trigramas y TfidfVectorizer.\n",
        "\n",
        "1. El CountVectorizer transforma cada documento de texto en un vector de frecuencia de palabras.\n",
        "2. El CountVectorizer con trigramas se utiliza para capturar la información de los tres gramas que es importante en algunos idiomas y en algunas aplicaciones de NLP.\n",
        "3. El TfidfVectorizer se utiliza para dar mayor peso a las palabras más importantes en el documento, reduciendo la importancia de las palabras comunes que aparecen en muchos documentos. Utilizando la Frecuencia de palabras para poderar."
      ]
    },
    {
      "cell_type": "markdown",
      "metadata": {},
      "source": []
    }
  ],
  "metadata": {
    "accelerator": "GPU",
    "colab": {
      "machine_shape": "hm",
      "provenance": []
    },
    "gpuClass": "standard",
    "kernelspec": {
      "display_name": "Python 3 (ipykernel)",
      "language": "python",
      "name": "python3"
    },
    "language_info": {
      "codemirror_mode": {
        "name": "ipython",
        "version": 3
      },
      "file_extension": ".py",
      "mimetype": "text/x-python",
      "name": "python",
      "nbconvert_exporter": "python",
      "pygments_lexer": "ipython3",
      "version": "3.9.12"
    },
    "name": "_merged"
  },
  "nbformat": 4,
  "nbformat_minor": 0
}
