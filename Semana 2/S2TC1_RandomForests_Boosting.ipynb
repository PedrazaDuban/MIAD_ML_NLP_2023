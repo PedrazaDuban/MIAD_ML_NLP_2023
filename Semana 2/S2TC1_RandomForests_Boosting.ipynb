{
 "cells": [
  {
   "cell_type": "markdown",
   "metadata": {},
   "source": [
    "![image info](https://raw.githubusercontent.com/albahnsen/MIAD_ML_and_NLP/main/images/banner_1.png)"
   ]
  },
  {
   "cell_type": "markdown",
   "metadata": {},
   "source": [
    "# Taller: Construcción e implementación de modelos Bagging, Random Forest y XGBoost\n",
    "\n",
    "En este taller podrán poner en práctica sus conocimientos sobre la construcción e implementación de modelos de Bagging, Random Forest y XGBoost. El taller está constituido por 8 puntos, en los cuales deberan seguir las intrucciones de cada numeral para su desarrollo."
   ]
  },
  {
   "cell_type": "markdown",
   "metadata": {},
   "source": [
    "## Datos predicción precio de automóviles\n",
    "\n",
    "En este taller se usará el conjunto de datos de Car Listings de Kaggle donde cada observación representa el precio de un automóvil teniendo en cuenta distintas variables como año, marca, modelo, entre otras. El objetivo es predecir el precio del automóvil. Para más detalles puede visitar el siguiente enlace: [datos](https://www.kaggle.com/jpayne/852k-used-car-listings)."
   ]
  },
  {
   "cell_type": "code",
   "execution_count": 192,
   "metadata": {},
   "outputs": [],
   "source": [
    "import warnings\n",
    "warnings.filterwarnings('ignore')"
   ]
  },
  {
   "cell_type": "code",
   "execution_count": 193,
   "metadata": {},
   "outputs": [
    {
     "data": {
      "text/html": [
       "<div>\n",
       "<style scoped>\n",
       "    .dataframe tbody tr th:only-of-type {\n",
       "        vertical-align: middle;\n",
       "    }\n",
       "\n",
       "    .dataframe tbody tr th {\n",
       "        vertical-align: top;\n",
       "    }\n",
       "\n",
       "    .dataframe thead th {\n",
       "        text-align: right;\n",
       "    }\n",
       "</style>\n",
       "<table border=\"1\" class=\"dataframe\">\n",
       "  <thead>\n",
       "    <tr style=\"text-align: right;\">\n",
       "      <th></th>\n",
       "      <th>Price</th>\n",
       "      <th>Year</th>\n",
       "      <th>Mileage</th>\n",
       "      <th>M_Camry</th>\n",
       "      <th>M_Camry4dr</th>\n",
       "      <th>M_CamryBase</th>\n",
       "      <th>M_CamryL</th>\n",
       "      <th>M_CamryLE</th>\n",
       "      <th>M_CamrySE</th>\n",
       "      <th>M_CamryXLE</th>\n",
       "    </tr>\n",
       "  </thead>\n",
       "  <tbody>\n",
       "    <tr>\n",
       "      <th>7</th>\n",
       "      <td>21995</td>\n",
       "      <td>2014</td>\n",
       "      <td>6480</td>\n",
       "      <td>0</td>\n",
       "      <td>0</td>\n",
       "      <td>0</td>\n",
       "      <td>1</td>\n",
       "      <td>0</td>\n",
       "      <td>0</td>\n",
       "      <td>0</td>\n",
       "    </tr>\n",
       "    <tr>\n",
       "      <th>11</th>\n",
       "      <td>13995</td>\n",
       "      <td>2014</td>\n",
       "      <td>39972</td>\n",
       "      <td>0</td>\n",
       "      <td>0</td>\n",
       "      <td>0</td>\n",
       "      <td>0</td>\n",
       "      <td>1</td>\n",
       "      <td>0</td>\n",
       "      <td>0</td>\n",
       "    </tr>\n",
       "    <tr>\n",
       "      <th>167</th>\n",
       "      <td>17941</td>\n",
       "      <td>2016</td>\n",
       "      <td>18989</td>\n",
       "      <td>0</td>\n",
       "      <td>0</td>\n",
       "      <td>0</td>\n",
       "      <td>0</td>\n",
       "      <td>0</td>\n",
       "      <td>1</td>\n",
       "      <td>0</td>\n",
       "    </tr>\n",
       "    <tr>\n",
       "      <th>225</th>\n",
       "      <td>12493</td>\n",
       "      <td>2014</td>\n",
       "      <td>51330</td>\n",
       "      <td>0</td>\n",
       "      <td>0</td>\n",
       "      <td>0</td>\n",
       "      <td>1</td>\n",
       "      <td>0</td>\n",
       "      <td>0</td>\n",
       "      <td>0</td>\n",
       "    </tr>\n",
       "    <tr>\n",
       "      <th>270</th>\n",
       "      <td>7994</td>\n",
       "      <td>2007</td>\n",
       "      <td>116065</td>\n",
       "      <td>0</td>\n",
       "      <td>1</td>\n",
       "      <td>0</td>\n",
       "      <td>0</td>\n",
       "      <td>0</td>\n",
       "      <td>0</td>\n",
       "      <td>0</td>\n",
       "    </tr>\n",
       "  </tbody>\n",
       "</table>\n",
       "</div>"
      ],
      "text/plain": [
       "     Price  Year  Mileage  M_Camry  M_Camry4dr  M_CamryBase  M_CamryL  \\\n",
       "7    21995  2014     6480        0           0            0         1   \n",
       "11   13995  2014    39972        0           0            0         0   \n",
       "167  17941  2016    18989        0           0            0         0   \n",
       "225  12493  2014    51330        0           0            0         1   \n",
       "270   7994  2007   116065        0           1            0         0   \n",
       "\n",
       "     M_CamryLE  M_CamrySE  M_CamryXLE  \n",
       "7            0          0           0  \n",
       "11           1          0           0  \n",
       "167          0          1           0  \n",
       "225          0          0           0  \n",
       "270          0          0           0  "
      ]
     },
     "execution_count": 193,
     "metadata": {},
     "output_type": "execute_result"
    }
   ],
   "source": [
    "# Importación de librerías\n",
    "%matplotlib inline\n",
    "import pandas as pd\n",
    "import numpy as np\n",
    "\n",
    "# Lectura de la información de archivo .csv\n",
    "data = pd.read_csv('https://raw.githubusercontent.com/albahnsen/MIAD_ML_and_NLP/main/datasets/dataTrain_carListings.zip')\n",
    "\n",
    "# Preprocesamiento de datos para el taller\n",
    "data = data.loc[data['Model'].str.contains('Camry')].drop(['Make', 'State'], axis=1)\n",
    "data = data.join(pd.get_dummies(data['Model'], prefix='M'))\n",
    "data = data.drop(['Model'], axis=1)\n",
    "\n",
    "# Visualización dataset\n",
    "data.head()"
   ]
  },
  {
   "cell_type": "code",
   "execution_count": 194,
   "metadata": {},
   "outputs": [],
   "source": [
    "#print(data.dtypes)\n",
    "#print(data.describe())"
   ]
  },
  {
   "cell_type": "code",
   "execution_count": 195,
   "metadata": {},
   "outputs": [],
   "source": [
    "# Separación de variables predictoras (X) y variable de interés (y)\n",
    "y = (data.Price > 14538).astype(int)#data['Price']\n",
    "X = data.drop(['Price'], axis=1)"
   ]
  },
  {
   "cell_type": "code",
   "execution_count": 196,
   "metadata": {},
   "outputs": [],
   "source": [
    "# Separación de datos en set de entrenamiento y test\n",
    "from sklearn.model_selection import train_test_split\n",
    "X_train, X_test, y_train, y_test = train_test_split(X, y, test_size=0.33, random_state=42)"
   ]
  },
  {
   "cell_type": "markdown",
   "metadata": {},
   "source": [
    "### Punto 1 - Árbol de decisión manual\n",
    "\n",
    "En la celda 1 creen un árbol de decisión **manualmente**  que considere los set de entrenamiento y test definidos anteriormente y presenten el RMSE y MAE del modelo en el set de test."
   ]
  },
  {
   "cell_type": "code",
   "execution_count": 197,
   "metadata": {},
   "outputs": [
    {
     "name": "stdout",
     "output_type": "stream",
     "text": [
      "Mileage\n"
     ]
    }
   ],
   "source": [
    "# Celda 1\n",
    "# Definición de parámetros y criterios de parada\n",
    "max_depth = None\n",
    "num_pct = 10\n",
    "max_features = None\n",
    "min_gain=0.001\n",
    "# Impresión variable a usar (Hits)\n",
    "j = 1\n",
    "print(X.columns[j])"
   ]
  },
  {
   "cell_type": "code",
   "execution_count": 198,
   "metadata": {},
   "outputs": [
    {
     "data": {
      "text/plain": [
       "array([5.000000e+00, 1.576440e+04, 2.345860e+04, 2.993760e+04,\n",
       "       3.570080e+04, 4.168000e+04, 4.824700e+04, 6.171600e+04,\n",
       "       8.153420e+04, 1.067578e+05])"
      ]
     },
     "execution_count": 198,
     "metadata": {},
     "output_type": "execute_result"
    }
   ],
   "source": [
    "# División de la variable Millas en num_ctp puntos (parámetro definido anteriormente) para obtener posibles puntos de corte\n",
    "splits = np.percentile(X.iloc[:, j], np.arange(0, 100, 100.0 / num_pct).tolist())\n",
    "splits = np.unique(splits)\n",
    "splits"
   ]
  },
  {
   "cell_type": "code",
   "execution_count": 199,
   "metadata": {},
   "outputs": [],
   "source": [
    "# División de las observaciones usando el punto de corte en la posición 5 de la lista de splits\n",
    "k=5\n",
    "filter_l = X.iloc[:, j] < splits[k]\n",
    "\n",
    "# División de la variable de respuesta de acuerdo a si la observación cumple o no con la regla binaria\n",
    "# y_l: la observación tiene un valor menor al punto de corte seleccionado\n",
    "# y_r: la observación tiene un valor mayor o igual al punto de corte seleccionado\n",
    "y_l = y.loc[filter_l]\n",
    "y_r = y.loc[~filter_l]"
   ]
  },
  {
   "cell_type": "code",
   "execution_count": 200,
   "metadata": {},
   "outputs": [],
   "source": [
    "# Definición de la función que calcula el gini index\n",
    "def gini(y):\n",
    "    if y.shape[0] == 0:\n",
    "        return 0\n",
    "    else:\n",
    "        return 1 - (y.mean()**2 + (1 - y.mean())**2)"
   ]
  },
  {
   "cell_type": "code",
   "execution_count": 201,
   "metadata": {},
   "outputs": [
    {
     "name": "stdout",
     "output_type": "stream",
     "text": [
      "el gini de la izquierda es:0.20372460740541687\n",
      "el gini de la derecha es:0.39922961360425346\n"
     ]
    }
   ],
   "source": [
    "# Gini index de las observaciones que tienen un valor menor al punto de corte seleccionado\n",
    "gini_l = gini(y_l)\n",
    "print(f'el gini de la izquierda es:{gini_l}')\n",
    "\n",
    "# Gini index de las observaciones que tienen un valor mayor o igual al punto de corte seleccionado\n",
    "gini_r = gini(y_r)\n",
    "print(f'el gini de la derecha es:{gini_r}')"
   ]
  },
  {
   "cell_type": "code",
   "execution_count": 202,
   "metadata": {},
   "outputs": [],
   "source": [
    "# Definición de la función gini_imputiry para calular la ganancia de una variable predictora j dado el punto de corte k\n",
    "def gini_impurity(X_col, y, split):\n",
    "    \n",
    "    filter_l = X_col < split\n",
    "    y_l = y.loc[filter_l]\n",
    "    y_r = y.loc[~filter_l]\n",
    "    \n",
    "    n_l = y_l.shape[0]\n",
    "    n_r = y_r.shape[0]\n",
    "    \n",
    "    gini_y = gini(y)\n",
    "    gini_l = gini(y_l)\n",
    "    gini_r = gini(y_r)\n",
    "    \n",
    "    gini_impurity_ = gini_y - (n_l / (n_l + n_r) * gini_l + n_r / (n_l + n_r) * gini_r)\n",
    "    \n",
    "    return gini_impurity_"
   ]
  },
  {
   "cell_type": "code",
   "execution_count": 203,
   "metadata": {},
   "outputs": [
    {
     "data": {
      "text/plain": [
       "0.18565557739895322"
      ]
     },
     "execution_count": 203,
     "metadata": {},
     "output_type": "execute_result"
    }
   ],
   "source": [
    "# Ganancia de la variable 'Milage' en el punto de corte selecionado\n",
    "gini_impurity(X.iloc[:, j], y, splits[k])"
   ]
  },
  {
   "cell_type": "code",
   "execution_count": 204,
   "metadata": {},
   "outputs": [],
   "source": [
    "# Definición de la función best_split para calcular cuál es la mejor variable y punto de cortepara hacer la bifurcación del árbol\n",
    "def best_split(X, y, num_pct=10):\n",
    "    \n",
    "    features = range(X.shape[1])\n",
    "    \n",
    "    best_split = [0, 0, 0]  # j, split, gain\n",
    "    \n",
    "    # Para todas las varibles \n",
    "    for j in features:\n",
    "        \n",
    "        splits = np.percentile(X.iloc[:, j], np.arange(0, 100, 100.0 / (num_pct+1)).tolist())\n",
    "        splits = np.unique(splits)[1:]\n",
    "        \n",
    "        # Para cada partición\n",
    "        for split in splits:\n",
    "            gain = gini_impurity(X.iloc[:, j], y, split)\n",
    "                        \n",
    "            if gain > best_split[2]:\n",
    "                best_split = [j, split, gain]\n",
    "    \n",
    "    return best_split"
   ]
  },
  {
   "cell_type": "code",
   "execution_count": 205,
   "metadata": {},
   "outputs": [
    {
     "data": {
      "text/plain": [
       "(1, 56176.00000000001, 0.2346214760886038)"
      ]
     },
     "execution_count": 205,
     "metadata": {},
     "output_type": "execute_result"
    }
   ],
   "source": [
    "# Obtención de la variable 'j', su punto de corte 'split' y su ganancia 'gain'\n",
    "j, split, gain = best_split(X, y, 5)\n",
    "j, split, gain\n"
   ]
  },
  {
   "cell_type": "code",
   "execution_count": 206,
   "metadata": {},
   "outputs": [
    {
     "data": {
      "text/plain": [
       "(10495, 5247, 5248)"
      ]
     },
     "execution_count": 206,
     "metadata": {},
     "output_type": "execute_result"
    }
   ],
   "source": [
    "y.shape[0], y_l.shape[0], y_r.shape[0]"
   ]
  },
  {
   "cell_type": "code",
   "execution_count": 207,
   "metadata": {},
   "outputs": [
    {
     "data": {
      "text/plain": [
       "(0.5801810385898046, 0.8848866018677339, 0.27553353658536583)"
      ]
     },
     "execution_count": 207,
     "metadata": {},
     "output_type": "execute_result"
    }
   ],
   "source": [
    "y.mean(), y_l.mean(), y_r.mean()"
   ]
  },
  {
   "cell_type": "code",
   "execution_count": 208,
   "metadata": {},
   "outputs": [],
   "source": [
    "# Definición de la función tree_grow para hacer un crecimiento recursivo del árbol\n",
    "def tree_grow(X, y, level=0, min_gain=0.001, max_depth=None, num_pct=10):\n",
    "    \n",
    "    # Si solo es una observación\n",
    "    if X.shape[0] == 1:\n",
    "        tree = dict(y_pred=y.iloc[:1].values[0], y_prob=0.5, level=level, split=-1, n_samples=1, gain=0)\n",
    "        return tree\n",
    "    \n",
    "    # Calcular la mejor división\n",
    "    j, split, gain = best_split(X, y, num_pct)\n",
    "    \n",
    "    # Guardar el árbol y estimar la predicción\n",
    "    y_pred = int(y.mean() >= 0.5)\n",
    "    y_prob = (y.sum() + 1.0) / (y.shape[0] + 2.0)  # Corrección Laplace \n",
    "    \n",
    "    tree = dict(y_pred=y_pred, y_prob=y_prob, level=level, split=-1, n_samples=X.shape[0], gain=gain)\n",
    "    # Revisar el criterio de parada \n",
    "    if gain < min_gain:\n",
    "        return tree\n",
    "    if max_depth is not None:\n",
    "        if level >= max_depth:\n",
    "            return tree   \n",
    "    \n",
    "    # Continuar creando la partición\n",
    "    filter_l = X.iloc[:, j] < split\n",
    "    X_l, y_l = X.loc[filter_l], y.loc[filter_l]\n",
    "    X_r, y_r = X.loc[~filter_l], y.loc[~filter_l]\n",
    "    tree['split'] = [j, split]\n",
    "\n",
    "    # Siguiente iteración para cada partición\n",
    "    \n",
    "    tree['sl'] = tree_grow(X_l, y_l, level + 1, min_gain=min_gain, max_depth=max_depth, num_pct=num_pct)\n",
    "    tree['sr'] = tree_grow(X_r, y_r, level + 1, min_gain=min_gain, max_depth=max_depth, num_pct=num_pct)\n",
    "    \n",
    "    return tree"
   ]
  },
  {
   "cell_type": "code",
   "execution_count": 209,
   "metadata": {},
   "outputs": [],
   "source": [
    "tree = tree_grow(X_train, y_train, level=0, min_gain=0.001, max_depth=2, num_pct=10)\n"
   ]
  },
  {
   "cell_type": "code",
   "execution_count": 210,
   "metadata": {},
   "outputs": [],
   "source": [
    " #Definición de la función tree_predict para hacer predicciones según las variables 'X' y el árbol 'tree'\n",
    "\n",
    "def tree_predict(X, tree, proba=False):\n",
    "    \n",
    "    predicted = np.ones(X.shape[0])\n",
    "\n",
    "    # Revisar si es el nodo final\n",
    "    if tree['split'] == -1:\n",
    "        if not proba:\n",
    "            predicted = predicted * tree['y_pred']\n",
    "        else:\n",
    "            predicted = predicted * tree['y_prob']\n",
    "            \n",
    "    else:\n",
    "        \n",
    "        j, split = tree['split']\n",
    "        filter_l = (X.iloc[:, j] < split)\n",
    "        X_l = X.loc[filter_l]\n",
    "        X_r = X.loc[~filter_l]\n",
    "\n",
    "        if X_l.shape[0] == 0:  # Si el nodo izquierdo está vacio solo continua con el derecho \n",
    "            predicted[~filter_l] = tree_predict(X_r, tree['sr'], proba)\n",
    "        elif X_r.shape[0] == 0:  #  Si el nodo derecho está vacio solo continua con el izquierdo\n",
    "            predicted[filter_l] = tree_predict(X_l, tree['sl'], proba)\n",
    "        else:\n",
    "            predicted[filter_l] = tree_predict(X_l, tree['sl'], proba)\n",
    "            predicted[~filter_l] = tree_predict(X_r, tree['sr'], proba)\n",
    "\n",
    "    return predicted\n"
   ]
  },
  {
   "cell_type": "code",
   "execution_count": 211,
   "metadata": {},
   "outputs": [],
   "source": [
    "y_pred=tree_predict(X_test, tree)"
   ]
  },
  {
   "cell_type": "code",
   "execution_count": 212,
   "metadata": {},
   "outputs": [
    {
     "data": {
      "text/plain": [
       "array([0., 0., 1., ..., 1., 0., 0.])"
      ]
     },
     "execution_count": 212,
     "metadata": {},
     "output_type": "execute_result"
    }
   ],
   "source": [
    "y_pred"
   ]
  },
  {
   "cell_type": "code",
   "execution_count": 213,
   "metadata": {},
   "outputs": [
    {
     "name": "stdout",
     "output_type": "stream",
     "text": [
      "RMSE del árbol de desición Manual: 0.14174364896073904\n",
      "MAE del árbol de desición Manual: 0.14174364896073904\n",
      "El Accuracy para el modelo Arbol de desición Manuales: 0.858256351039261\n",
      "El f1-Score para el modelo Arbol de desición Manuales: 0.8832897551699549\n"
     ]
    }
   ],
   "source": [
    "# Calcular métricas de evaluación RMSE y MAE\n",
    "from sklearn.metrics import mean_squared_error, mean_absolute_error, accuracy_score , f1_score\n",
    "rmse = mean_squared_error(y_test, y_pred)\n",
    "mae = mean_absolute_error(y_test, y_pred)\n",
    "accuracy = accuracy_score(y_test, y_pred)\n",
    "f1Score = f1_score(y_test, y_pred)\n",
    "# Imprimir resultados\n",
    "print(f'RMSE del árbol de desición Manual: {rmse}')\n",
    "print(f'MAE del árbol de desición Manual: {mae}')\n",
    "print(f'El Accuracy para el modelo Arbol de desición Manuales: {accuracy}')\n",
    "print(f'El f1-Score para el modelo Arbol de desición Manuales: {f1Score}')\n"
   ]
  },
  {
   "attachments": {},
   "cell_type": "markdown",
   "metadata": {},
   "source": [
    "### Analisis\n",
    "\n",
    "Se realizó el modelo de arbol desición manual, calculando las diferentes metricas de rendimiento como el RMSE, MAE, Accurancy y F1Score, con parametros de  min_gain=0.001, max_depth=2. En donde se evidencia que el modelo tiene un rendimiento  del 90,06 % y una precisión de 88,68%. "
   ]
  },
  {
   "cell_type": "markdown",
   "metadata": {},
   "source": [
    "### Punto 2 - Bagging manual\n",
    "\n",
    "En la celda 2 creen un modelo bagging **manualmente** con 10 árboles de clasificación y comenten sobre el desempeño del modelo."
   ]
  },
  {
   "cell_type": "code",
   "execution_count": 231,
   "metadata": {},
   "outputs": [
    {
     "data": {
      "text/plain": [
       "array([0, 0, 1, ..., 1, 0, 0])"
      ]
     },
     "execution_count": 231,
     "metadata": {},
     "output_type": "execute_result"
    }
   ],
   "source": [
    "from sklearn.tree import DecisionTreeClassifier\n",
    "\n",
    "# Definir función para crear y ajustar un árbol de decisión\n",
    "def fit_tree(X_train, y_train, X_test):\n",
    "    tree = DecisionTreeClassifier(max_depth=2,)\n",
    "    tree.fit(X_train, y_train)\n",
    "    y_pred = tree.predict(X_test)\n",
    "    return y_pred\n",
    "\n",
    "# Crear 10 instancias de la función de árbol de decisión con diferentes conjuntos de entrenamiento\n",
    "n_trees = 10\n",
    "y_preds = []\n",
    "for i in range(n_trees):\n",
    "    sample_indices = np.random.choice(X_train.index, len(X_train))\n",
    "    X_sample = X_train.loc[sample_indices]\n",
    "    y_sample = y_train.loc[sample_indices]\n",
    "    y_pred = fit_tree(X_sample, y_sample, X_test)\n",
    "    y_preds.append(y_pred)\n",
    "\n",
    "# Promediar las predicciones de cada árbol para obtener una predicción final\n",
    "y_pred_bagM = np.mean(y_preds, axis=0)\n",
    "y_pred_bagM =(np.rint(y_pred_bagM)).astype(int)\n",
    "y_pred_bagM"
   ]
  },
  {
   "cell_type": "code",
   "execution_count": 229,
   "metadata": {},
   "outputs": [
    {
     "name": "stdout",
     "output_type": "stream",
     "text": [
      "El RMSE para el modelo Bagging manual es: 0.14289838337182448\n",
      "El MAE para el modelo Bagging manual es: 0.14289838337182448\n",
      "El Accuracy para el modelo Bagging manual es: 0.8571016166281755\n",
      "El F1-Score para el modelo Bagging manual es: 0.8817769285884882\n"
     ]
    }
   ],
   "source": [
    "from sklearn.metrics import mean_absolute_error, mean_squared_error, accuracy_score,f1_score\n",
    "# Calcular MAE y MSE\n",
    "maeBaggManual = mean_absolute_error(y_test, y_pred_bagM )\n",
    "rmseBaggManual = mean_squared_error(y_test, y_pred_bagM )\n",
    "accuracyBaggManual = accuracy_score(y_test, y_pred_bagM )\n",
    "f1ScoreBaggManual = f1_score(y_test, y_pred_bagM )\n",
    "\n",
    "# Imprimir resultados\n",
    "print(f'El RMSE para el modelo Bagging manual es: {rmseBaggManual}')\n",
    "print(f'El MAE para el modelo Bagging manual es: {maeBaggManual}')\n",
    "print(f'El Accuracy para el modelo Bagging manual es: {accuracyBaggManual}')\n",
    "print(f'El F1-Score para el modelo Bagging manual es: {f1ScoreBaggManual}')\n",
    "\n"
   ]
  },
  {
   "attachments": {},
   "cell_type": "markdown",
   "metadata": {},
   "source": [
    "### Análisis del Desempeño\n",
    "\n",
    "Se realizó el modelo de Baggin manual con 10 árboles , calculando las diferentes metricas de rendimiento como el RMSE, MAE, Accurancy y F1Score, con el parametros max_depth=2. Se obtuvo que el modelo tiene un rendimiento del 88,17 % y una precisión de 85.71%. "
   ]
  },
  {
   "cell_type": "markdown",
   "metadata": {},
   "source": [
    "### Punto 3 - Bagging con librería\n",
    "\n",
    "En la celda 3, con la librería sklearn, entrenen un modelo bagging con 10 árboles de clasificación y el parámetro `max_features` igual a `log(n_features)` y comenten sobre el desempeño del modelo."
   ]
  },
  {
   "cell_type": "code",
   "execution_count": 238,
   "metadata": {},
   "outputs": [
    {
     "name": "stdout",
     "output_type": "stream",
     "text": [
      "El valor del max_features es: 2\n",
      "El RMSE para el modelo Bagging es: 0.1642609699769053\n",
      "El MAE para el modelo Bagging es: 0.1642609699769053\n",
      "El Accuracy para el modelo Bagging es: 0.8357390300230947\n",
      "El F1-Score para el modelo Bagging es: 0.8735274505445655\n"
     ]
    }
   ],
   "source": [
    "# Celda 3\n",
    "from sklearn.ensemble import BaggingClassifier\n",
    "from sklearn.tree import DecisionTreeClassifier\n",
    "\n",
    "# Crear modelo de Bagging con 10 árboles de clasificación y max_features=log(n_features)\n",
    "n_features = X_train.shape[1]\n",
    "max_features = int(np.log(n_features))\n",
    "print(f'El valor del max_features es: {max_features}')\n",
    "bagging = BaggingClassifier(\n",
    "    DecisionTreeClassifier(max_depth=2),\n",
    "    n_estimators=10,\n",
    "    max_features=max_features,\n",
    "    random_state=42\n",
    ")\n",
    "\n",
    "# Entrenar modelo con los datos de entrenamiento\n",
    "bagging.fit(X_train, y_train)\n",
    "\n",
    "# Evaluar modelo con los datos de prueba\n",
    "from sklearn.metrics import mean_absolute_error, mean_squared_error,accuracy_score\n",
    "y_pred_bagg = bagging.predict(X_test)\n",
    "maeBagg = mean_absolute_error(y_test, y_pred_bagg)\n",
    "rmseBagg = mean_squared_error(y_test, y_pred_bagg)\n",
    "accuracyBagg = accuracy_score(y_test, y_pred_bagg)\n",
    "f1ScoreBagg = f1_score(y_test, y_pred_bagg )\n",
    "\n",
    "# Imprimir resultado\n",
    "print(f'El RMSE para el modelo Bagging es: {rmseBagg}')\n",
    "print(f'El MAE para el modelo Bagging es: {maeBagg}')\n",
    "print(f'El Accuracy para el modelo Bagging es: {accuracyBagg}')\n",
    "print(f'El F1-Score para el modelo Bagging es: {f1ScoreBagg}')"
   ]
  },
  {
   "attachments": {},
   "cell_type": "markdown",
   "metadata": {},
   "source": [
    "### Análisis del Desempeño\n",
    "\n",
    "Se realizó el modelo de Baggin con libreria con 10 árboles , calculando las diferentes metricas de rendimiento como el RMSE, MAE, Accurancy y F1Score, con el parametros max_depth=2 y max_features= 2. Se obtuvo que el modelo tiene un rendimiento del 87,35 % y una precisión de 83.57%. Se observa que este modelo tiene menor desempeño que el modelo anterior de Bagging manual debido a que se usan menos variables predictoras.  "
   ]
  },
  {
   "cell_type": "markdown",
   "metadata": {},
   "source": [
    "### Punto 4 - Random forest con librería\n",
    "\n",
    "En la celda 4, usando la librería sklearn entrenen un modelo de Randon Forest para clasificación  y comenten sobre el desempeño del modelo."
   ]
  },
  {
   "cell_type": "code",
   "execution_count": 241,
   "metadata": {},
   "outputs": [
    {
     "name": "stdout",
     "output_type": "stream",
     "text": [
      "El RMSE para el modelo Random Forest es: 0.15617782909930716\n",
      "El MAE para el modelo Random Forest es: 0.15617782909930716\n",
      "El Accuracy para el modelo Random Forest es: 0.8438221709006929\n",
      "El F1-Score para el modelo Random Forest es: 0.8668471572729511\n"
     ]
    }
   ],
   "source": [
    "# Celda 4\n",
    "from sklearn.ensemble import RandomForestClassifier\n",
    "from sklearn.model_selection import cross_val_score\n",
    "\n",
    "# Crear modelo de Random Forest \n",
    "rf = RandomForestClassifier()\n",
    "\n",
    "# Entrenar modelo con los datos de entrenamiento\n",
    "rf.fit(X_train, y_train)\n",
    "\n",
    "# Evaluar modelo con los datos de prueba\n",
    "from sklearn.metrics import mean_absolute_error, mean_squared_error,accuracy_score\n",
    "y_pred_rf = rf.predict(X_test)\n",
    "maeRF= mean_absolute_error(y_test, y_pred_rf)\n",
    "rmseRF= mean_squared_error(y_test, y_pred_rf)\n",
    "accuracyRF = accuracy_score(y_test, y_pred_rf)\n",
    "f1ScoreRF = f1_score(y_test, y_pred_rf )\n",
    "\n",
    "# Imprimir resultado\n",
    "print(f'El RMSE para el modelo Random Forest es: {rmseRF}')\n",
    "print(f'El MAE para el modelo Random Forest es: {maeRF}')\n",
    "print(f'El Accuracy para el modelo Random Forest es: {accuracyRF}')\n",
    "print(f'El F1-Score para el modelo Random Forest es: {f1ScoreRF}')"
   ]
  },
  {
   "attachments": {},
   "cell_type": "markdown",
   "metadata": {},
   "source": [
    "### Análisis del Desempeño\n",
    "\n",
    "Se realizó el modelo de Ramdom Forest con libreria , calculando las diferentes metricas de rendimiento como el RMSE, MAE, Accurancy y F1Score, con el parametros por defecto. Se obtuvo que el modelo tiene un rendimiento del 86,68 % y una precisión de 84.38%."
   ]
  },
  {
   "cell_type": "markdown",
   "metadata": {},
   "source": [
    "### Punto 5 - Calibración de parámetros Random forest\n",
    "\n",
    "En la celda 5, calibren los parámetros max_depth, max_features y n_estimators del modelo de Randon Forest para clasificación, comenten sobre el desempeño del modelo y describan cómo cada parámetro afecta el desempeño del modelo."
   ]
  },
  {
   "cell_type": "code",
   "execution_count": 242,
   "metadata": {},
   "outputs": [
    {
     "name": "stdout",
     "output_type": "stream",
     "text": [
      "El valor máximo de accuracy_scores es: 0.8414483087184375,con un n_estimators de: 20\n"
     ]
    }
   ],
   "source": [
    "# Celda 5\n",
    "# Creación de lista de valores para iterar sobre diferentes valores de n_estimators\n",
    "estimator_range = range(10, 310, 10)\n",
    "\n",
    "# Definición de lista para almacenar la exactitud (accuracy) promedio para cada valor de n_estimators\n",
    "accuracy_scores = []\n",
    "\n",
    "# Uso de un 5-fold cross-validation para cada valor de n_estimators\n",
    "for estimator in estimator_range:\n",
    "    rf = RandomForestClassifier(n_estimators=estimator, random_state=1, n_jobs=-1)\n",
    "    accuracy_scores.append(cross_val_score(rf, X, y, cv=5, scoring='accuracy').mean())\n",
    "\n",
    "max_accuracy = max(accuracy_scores)\n",
    "max_index = accuracy_scores.index(max_accuracy)\n",
    "max_estimator = estimator_range[max_index]\n",
    "\n",
    "print(f'El valor máximo de accuracy_scores es: {max_accuracy},con un n_estimators de: {max_estimator}')\n"
   ]
  },
  {
   "cell_type": "code",
   "execution_count": 243,
   "metadata": {},
   "outputs": [
    {
     "data": {
      "text/plain": [
       "Text(0, 0.5, 'Accuracy')"
      ]
     },
     "execution_count": 243,
     "metadata": {},
     "output_type": "execute_result"
    },
    {
     "data": {
      "image/png": "[encoded data removed]",
      "text/plain": [
       "<Figure size 640x480 with 1 Axes>"
      ]
     },
     "metadata": {},
     "output_type": "display_data"
    }
   ],
   "source": [
    "# Gráfica del desempeño del modelo vs la cantidad de n_estimators\n",
    "import matplotlib.pyplot as plt\n",
    "plt.plot(estimator_range, accuracy_scores)\n",
    "plt.xlabel('n_estimators')\n",
    "plt.ylabel('Accuracy')\n"
   ]
  },
  {
   "cell_type": "code",
   "execution_count": 220,
   "metadata": {},
   "outputs": [
    {
     "data": {
      "text/plain": [
       "Index(['Year', 'Mileage', 'M_Camry', 'M_Camry4dr', 'M_CamryBase', 'M_CamryL',\n",
       "       'M_CamryLE', 'M_CamrySE', 'M_CamryXLE'],\n",
       "      dtype='object')"
      ]
     },
     "execution_count": 220,
     "metadata": {},
     "output_type": "execute_result"
    }
   ],
   "source": [
    "# Selección de variables predictoras\n",
    "#print(X)\n",
    "feature_cols = data.columns.drop('Price')\n",
    "feature_cols"
   ]
  },
  {
   "cell_type": "code",
   "execution_count": 244,
   "metadata": {},
   "outputs": [
    {
     "name": "stdout",
     "output_type": "stream",
     "text": [
      "El valor máximo de accuracy_scores es: 0.8500238208670796,con un max_feature de: 9\n"
     ]
    }
   ],
   "source": [
    "# Creación de lista de valores para iterar sobre diferentes valores de max_features\n",
    "feature_range = range(1, len(feature_cols)+1)\n",
    "\n",
    "# Definición de lista para almacenar la exactitud (accuracy) promedio para cada valor de max_features\n",
    "accuracy_scores = []\n",
    "\n",
    "# Uso de un 10-fold cross-validation para cada valor de max_features\n",
    "for feature in feature_range:\n",
    "    rf = RandomForestClassifier(n_estimators=20, max_features=feature, random_state=1, n_jobs=-1)\n",
    "    accuracy_scores.append(cross_val_score(rf, X, y, cv=5, scoring='accuracy').mean())\n",
    "\n",
    "max_accuracy = max(accuracy_scores)\n",
    "max_index = accuracy_scores.index(max_accuracy)\n",
    "max_feature = feature_range[max_index]\n",
    "\n",
    "print(f'El valor máximo de accuracy_scores es: {max_accuracy},con un max_feature de: {max_feature}')\n"
   ]
  },
  {
   "cell_type": "code",
   "execution_count": 245,
   "metadata": {},
   "outputs": [
    {
     "data": {
      "text/plain": [
       "Text(0, 0.5, 'Accuracy')"
      ]
     },
     "execution_count": 245,
     "metadata": {},
     "output_type": "execute_result"
    },
    {
     "data": {
      "image/png": "[encoded data removed]",
      "text/plain": [
       "<Figure size 640x480 with 1 Axes>"
      ]
     },
     "metadata": {},
     "output_type": "display_data"
    }
   ],
   "source": [
    "# Gráfica del desempeño del modelo vs la cantidad de max_features\n",
    "plt.plot(feature_range, accuracy_scores)\n",
    "plt.xlabel('max_features')\n",
    "plt.ylabel('Accuracy')"
   ]
  },
  {
   "cell_type": "code",
   "execution_count": 223,
   "metadata": {},
   "outputs": [
    {
     "name": "stdout",
     "output_type": "stream",
     "text": [
      "El valor máximo de accuracy_scores es: 0.8821343496903287, con un max_depth de: 6\n"
     ]
    },
    {
     "data": {
      "text/plain": [
       "Text(0, 0.5, 'Accuracy')"
      ]
     },
     "execution_count": 223,
     "metadata": {},
     "output_type": "execute_result"
    },
    {
     "data": {
      "image/png": "[encoded data removed]",
      "text/plain": [
       "<Figure size 640x480 with 1 Axes>"
      ]
     },
     "metadata": {},
     "output_type": "display_data"
    }
   ],
   "source": [
    "# Creación de lista de valores para iterar sobre diferentes valores de max_depth\n",
    "depth_range = range(1,51,5)\n",
    "# Definición de lista para almacenar la exactitud (accuracy) promedio para cada valor de max_depth\n",
    "accuracy_scores = []\n",
    "\n",
    "# Uso de un 5-fold cross-validation para cada valor de max_depth\n",
    "for depth in depth_range:\n",
    "    rf = RandomForestClassifier(n_estimators=20, max_features=9, max_depth=depth, random_state=1)\n",
    "    accuracy_scores.append(cross_val_score(rf, X, y, cv=5, scoring='accuracy').mean())\n",
    "\n",
    "max_accuracy = max(accuracy_scores)\n",
    "max_index = accuracy_scores.index(max_accuracy)\n",
    "max_depth = depth_range[max_index]\n",
    "\n",
    "print(f'El valor máximo de accuracy_scores es: {max_accuracy}, con un max_depth de: {max_depth}')\n",
    "\n",
    "# Gráfica del desempeño del modelo vs la cantidad de max_depth\n",
    "plt.plot(depth_range, accuracy_scores)\n",
    "plt.xlabel('max_depth')\n",
    "plt.ylabel('Accuracy')\n"
   ]
  },
  {
   "cell_type": "code",
   "execution_count": 247,
   "metadata": {},
   "outputs": [
    {
     "name": "stdout",
     "output_type": "stream",
     "text": [
      "El RMSE para el modelo Random Forest es: 0.11143187066974596\n",
      "El MAE para el modelo Random Forest es: 0.11143187066974596\n",
      "El Accuracy para el modelo Random Forest es: 0.8885681293302541\n",
      "El F1-Score para el modelo Random Forest es: 0.9071669071669073\n"
     ]
    }
   ],
   "source": [
    "from sklearn.ensemble import RandomForestClassifier\n",
    "from sklearn.model_selection import cross_val_score\n",
    "\n",
    "# Definición del modelo con los parámetros max_features, max_depth y n_estimators \n",
    "rfp = RandomForestClassifier(n_estimators=20, max_features=9, max_depth= 6)\n",
    "\n",
    "# Entrenar modelo con los datos de entrenamiento\n",
    "rfp.fit(X_train, y_train)\n",
    "\n",
    "# Evaluar modelo con los datos de prueba\n",
    "from sklearn.metrics import accuracy_score\n",
    "y_pred_rfp = rfp.predict(X_test)\n",
    "maeRFP= mean_absolute_error(y_test, y_pred_rfp)\n",
    "rmseRFP= mean_squared_error(y_test, y_pred_rfp)\n",
    "accuracyRFP = accuracy_score(y_test, y_pred_rfp)\n",
    "f1ScoreRFP = f1_score(y_test, y_pred_rfp )\n",
    "# Imprimir resultado\n",
    "print(f'El RMSE para el modelo Random Forest es: {rmseRFP}')\n",
    "print(f'El MAE para el modelo Random Forest es: {maeRFP}')\n",
    "print(f'El Accuracy para el modelo Random Forest es: {accuracyRFP}')\n",
    "print(f'El F1-Score para el modelo Random Forest es: {f1ScoreRFP}')\n"
   ]
  },
  {
   "attachments": {},
   "cell_type": "markdown",
   "metadata": {},
   "source": [
    "### Análisis del Desempeño\n",
    "\n",
    "Se realizó el modelo de Ramdom Forest con calibración de parametros, calculando las diferentes metricas de rendimiento como el RMSE, MAE, Accurancy y F1Score, con el parametros por defecto. \n",
    "\n",
    "- El accuracy máximo se obtuvo con 20 estimadores. Si se aumenta el valor de los estimadores el accuracy disminuye.\n",
    "- El accuracy máximo se obtuvo con max_features=9, que seria incluyento todas las variabes independientes del DataSet. En la grafica se observa que a mayor número de variables el acuracy aumenta.\n",
    "- El accuracy máximo se obtuvo con max_depth= 6, Si se aumenta el valor de profundidad del modelo el accuracy disminuye. \n",
    "\n",
    "Se obtuvo que el modelo tiene un rendimiento del 90,71 % y una precisión de 88,85%."
   ]
  },
  {
   "cell_type": "markdown",
   "metadata": {},
   "source": [
    "### Punto 6 - XGBoost con librería\n",
    "\n",
    "En la celda 6 implementen un modelo XGBoost de clasificación con la librería sklearn y comenten sobre el desempeño del modelo."
   ]
  },
  {
   "cell_type": "code",
   "execution_count": 249,
   "metadata": {},
   "outputs": [],
   "source": [
    "# Celda 6\n",
    "from xgboost import XGBClassifier\n",
    "from sklearn.metrics import accuracy_score\n",
    "\n",
    "# Crear modelo XGBoost de clasificación\n",
    "xgb = XGBClassifier(random_state=42)\n",
    "\n",
    "# Entrenar modelo con los datos de entrenamiento\n",
    "xgb.fit(X_train, y_train)\n",
    "\n",
    "# Realizar predicciones sobre los datos de prueba\n",
    "y_pred_xgb = xgb.predict(X_test)\n"
   ]
  },
  {
   "cell_type": "code",
   "execution_count": 251,
   "metadata": {},
   "outputs": [
    {
     "name": "stdout",
     "output_type": "stream",
     "text": [
      "El RMSE para el modelo Random Forest es: 0.11431870669745958\n",
      "El MAE para el modelo Random Forest es: 0.11431870669745958\n",
      "El Accuracy para el modelo XGBoost es: 0.8856812933025404\n",
      "El F1-Score para el modelo XGBoost es: 0.9047160731472569\n"
     ]
    }
   ],
   "source": [
    "\n",
    "# Calcular precisión del modelo en los datos de prueba\n",
    "maeXGB= mean_absolute_error(y_test, y_pred_xgb)\n",
    "rmseXGB= mean_squared_error(y_test, y_pred_xgb)\n",
    "accuracyXGB = accuracy_score(y_test, y_pred_xgb)\n",
    "f1ScoreXGB = f1_score(y_test, y_pred_xgb)\n",
    "\n",
    "\n",
    "# Imprimir resultado\n",
    "print(f'El RMSE para el modelo Random Forest es: {rmseXGB}')\n",
    "print(f'El MAE para el modelo Random Forest es: {maeXGB}')\n",
    "print(f'El Accuracy para el modelo XGBoost es: {accuracyXGB}')\n",
    "print(f'El F1-Score para el modelo XGBoost es: {f1ScoreXGB}')\n"
   ]
  },
  {
   "attachments": {},
   "cell_type": "markdown",
   "metadata": {},
   "source": [
    "### Análisis del Desempeño\n",
    "\n",
    "Se realizó el modelo de XGBoost con libreria , calculando las diferentes metricas de rendimiento como el RMSE, MAE, Accurancy y F1Score, con el parametros por defecto. Se obtuvo que el modelo tiene un rendimiento del 90,47 % y una precisión de 88.56%."
   ]
  },
  {
   "cell_type": "markdown",
   "metadata": {},
   "source": [
    "### Punto 7 - Calibración de parámetros XGBoost\n",
    "\n",
    "En la celda 7 calibren los parámetros learning rate, gamma y colsample_bytree del modelo XGBoost para clasificación, comenten sobre el desempeño del modelo y describan cómo cada parámetro afecta el desempeño del modelo."
   ]
  },
  {
   "cell_type": "code",
   "execution_count": 265,
   "metadata": {},
   "outputs": [
    {
     "name": "stdout",
     "output_type": "stream",
     "text": [
      "Mejores parámetros es: {'colsample_bytree': 0.7, 'gamma': 0.5, 'learning_rate': 0.01}\n"
     ]
    }
   ],
   "source": [
    "# Celda 7\n",
    "import xgboost as xgb\n",
    "from sklearn.model_selection import GridSearchCV\n",
    "\n",
    "# Definición del clasificador XGBoost\n",
    "xgb_param = xgb.XGBClassifier()\n",
    "\n",
    "# Definición de la grilla de valores para cada parámetro\n",
    "params = {'learning_rate': [0.01, 0.1, 0.3],\n",
    "          'gamma': [0, 0.1, 0.5],\n",
    "          'colsample_bytree': [0.5, 0.7, 1.0]}\n",
    "\n",
    "# Búsqueda en cuadrícula con validación cruzada\n",
    "grid_search = GridSearchCV(estimator=xgb_param, param_grid=params, scoring='accuracy', cv=5)\n",
    "\n",
    "# Ajuste del modelo con los datos de entrenamiento\n",
    "grid_search.fit(X_train, y_train)\n",
    "\n",
    "# Selección de los mejores parámetros y su desempeño\n",
    "best_params = grid_search.best_params_\n",
    "best_score = grid_search.best_score_\n",
    "\n",
    "# Evaluación del modelo con los datos de test\n",
    "y_pred = grid_search.predict(X_test)\n",
    "accuracyXGBP = accuracy_score(y_test, y_pred_XGBP)\n",
    "\n",
    "# Impresión de resultados\n",
    "print(f\"Mejores parámetros es: {best_params}\")\n",
    "#print(f\"Mejor desempeño en validación cruzada es: {best_score:.3f}\")\n",
    "#print(f'El Accuracy para el modelo XGBoost con paremetors calibrados es: {accuracyXGBP:.3f}')"
   ]
  },
  {
   "cell_type": "code",
   "execution_count": 263,
   "metadata": {},
   "outputs": [],
   "source": [
    "from xgboost import XGBClassifier\n",
    "from sklearn.metrics import accuracy_score\n",
    "\n",
    "# Crear modelo XGBoost de clasificación\n",
    "xgb = XGBClassifier(colsample_bytree= 0.7, gamma= 0.5, learning_rate= 0.01)\n",
    "\n",
    "# Entrenar modelo con los datos de entrenamiento\n",
    "xgb.fit(X_train, y_train)\n",
    "\n",
    "# Realizar predicciones sobre los datos de prueba\n",
    "y_pred_XGBP = xgb.predict(X_test)\n"
   ]
  },
  {
   "cell_type": "code",
   "execution_count": 264,
   "metadata": {},
   "outputs": [
    {
     "name": "stdout",
     "output_type": "stream",
     "text": [
      "El RMSE para el modelo XGBoost con paremetors calibrados es: 0.11316397228637413\n",
      "El MAE para el modelo XGBoost con paremetors calibrados es: 0.11316397228637413\n",
      "El Accuracy para el modelo XGBoost con paremetors calibrados es: 0.8868360277136259\n",
      "El F1-Score para el modelo XGBoost con paremetors calibrados es: 0.9066666666666665\n"
     ]
    }
   ],
   "source": [
    "# Calcular precisión del modelo en los datos de prueba\n",
    "maeXGBP= mean_absolute_error(y_test, y_pred_XGBP)\n",
    "rmseXGBP= mean_squared_error(y_test, y_pred_XGBP)\n",
    "accuracyXGBP = accuracy_score(y_test, y_pred_XGBP)\n",
    "f1ScoreXGBP = f1_score(y_test, y_pred_XGBP)\n",
    "\n",
    "\n",
    "# Imprimir resultado\n",
    "print(f'El RMSE para el modelo XGBoost con paremetors calibrados es: {rmseXGBP}')\n",
    "print(f'El MAE para el modelo XGBoost con paremetors calibrados es: {maeXGBP}')\n",
    "print(f'El Accuracy para el modelo XGBoost con paremetors calibrados es: {accuracyXGBP}')\n",
    "print(f'El F1-Score para el modelo XGBoost con paremetors calibrados es: {f1ScoreXGBP}')"
   ]
  },
  {
   "cell_type": "markdown",
   "metadata": {},
   "source": [
    "### Análisis del Desempeño\n",
    "\n",
    "Se realizó el modelo de XGboost con calibración de parametros, calculando las diferentes metricas de rendimiento como el RMSE, MAE, Accurancy y F1Score, con el parametros por defecto. \n",
    "\n",
    "- colsample_bytree= 0.7\n",
    "- gamma= 0.5\n",
    "- learning_rate= 0.01\n",
    "\n",
    "Se obtuvo que el modelo tiene un rendimiento del 90,66 % y una precisión de 88,68%."
   ]
  },
  {
   "cell_type": "markdown",
   "metadata": {},
   "source": [
    "### Punto 8 - Comparación y análisis de resultados\n",
    "En la celda 8 comparen los resultados obtenidos de los diferentes modelos (random forest y XGBoost) y comenten las ventajas del mejor modelo y las desventajas del modelo con el menor desempeño."
   ]
  },
  {
   "cell_type": "code",
   "execution_count": 286,
   "metadata": {},
   "outputs": [
    {
     "data": {
      "image/png": "[encoded data removed]",
      "text/plain": [
       "<Figure size 1200x400 with 1 Axes>"
      ]
     },
     "metadata": {},
     "output_type": "display_data"
    }
   ],
   "source": [
    "#Celda 8\n",
    "import matplotlib.pyplot as plt\n",
    "\n",
    "fig = plt.figure(figsize=(12,4))\n",
    "ax = fig.add_axes([0,0,1,1])\n",
    "\n",
    "ax.set_title(\"Accuracy\")\n",
    "ejeX = ['Arbol manual','Baggin Manual','Baggin Libreria','Random Forest', 'Random Forest parametros','XGBoost','XGBoost parametros']\n",
    "ejeY = [round(accuracy,4), round(accuracyBaggManual,4),round(accuracyBagg,4), round(accuracyRF,4), round(accuracyRFP,4), round(accuracyXGB,4), round(accuracyXGBP,4)]\n",
    "ax.bar(ejeX,ejeY)\n",
    "plt.ylim(0.7,0.95)\n",
    "def addlabels(x,y,plotP):\n",
    "    for i in range(len(x)):\n",
    "        plotP.text(i,y[i],y[i])\n",
    "addlabels(ejeX,ejeY,plt)\n",
    "plt.show()\n"
   ]
  },
  {
   "cell_type": "code",
   "execution_count": null,
   "metadata": {},
   "outputs": [],
   "source": []
  }
 ],
 "metadata": {
  "kernelspec": {
   "display_name": "Python 3 (ipykernel)",
   "language": "python",
   "name": "python3"
  },
  "language_info": {
   "codemirror_mode": {
    "name": "ipython",
    "version": 3
   },
   "file_extension": ".py",
   "mimetype": "text/x-python",
   "name": "python",
   "nbconvert_exporter": "python",
   "pygments_lexer": "ipython3",
   "version": "3.9.13"
  }
 },
 "nbformat": 4,
 "nbformat_minor": 4
}
